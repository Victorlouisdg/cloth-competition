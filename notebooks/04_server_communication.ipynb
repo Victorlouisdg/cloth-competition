{
 "cells": [
  {
   "cell_type": "code",
   "execution_count": null,
   "metadata": {},
   "outputs": [],
   "source": [
    "import requests"
   ]
  },
  {
   "cell_type": "code",
   "execution_count": null,
   "metadata": {},
   "outputs": [],
   "source": [
    "base_url = \"http://172.18.20.1:5000\"\n",
    "\n",
    "image_left_url = base_url + \"/static/data/cloth_competition_dataset_0000/sample_000000/observation_start/image_left.png\"\n",
    "\n",
    "response = requests.get(image_left_url)\n",
    "with open(\"image_left.png\", \"wb\") as f:\n",
    "    f.write(response.content)\n"
   ]
  },
  {
   "cell_type": "code",
   "execution_count": null,
   "metadata": {},
   "outputs": [],
   "source": [
    "!ls"
   ]
  },
  {
   "cell_type": "code",
   "execution_count": null,
   "metadata": {},
   "outputs": [],
   "source": [
    "def get_latest_observation_start_url(base_url: str) -> str:\n",
    "    url = base_url + \"/latest_observation_start_dir\" # simple API to get the latest observation directory\n",
    "    response = requests.get(url)\n",
    "    return base_url + \"/\" + response.text\n",
    "\n",
    "get_latest_observation_start_url(base_url)\n"
   ]
  },
  {
   "cell_type": "code",
   "execution_count": null,
   "metadata": {},
   "outputs": [],
   "source": [
    "from pathlib import Path\n",
    "from cloth_tools.dataset.format import COMPETITION_OBSERVATION_FILENAMES, load_competition_observation\n",
    "import os\n",
    "\n",
    "data_dir = Path(\"data\")\n",
    "dataset_dir = data_dir / \"downloaded_dataset\"\n",
    "\n",
    "def download_latest_observation(base_url, dataset_dir=\".\"):\n",
    "    # todo add optional dataset dit where this will be saved\n",
    "    files_to_retrieve = COMPETITION_OBSERVATION_FILENAMES\n",
    "    observation_dir_url = get_latest_observation_start_url(base_url)\n",
    "\n",
    "    sample_dirname = observation_dir_url.split(\"/\")[-2]\n",
    "    sample_dir = Path(dataset_dir) / sample_dirname\n",
    "    observation_start_dir  = sample_dir / \"observation_start\"\n",
    "    os.makedirs(observation_start_dir, exist_ok=True)\n",
    "\n",
    "    print(observation_start_dir)\n",
    "\n",
    "    for _, filename in files_to_retrieve.items():\n",
    "        url = observation_dir_url + \"/\" + filename\n",
    "        response = requests.get(url)\n",
    "        filepath = os.path.join(observation_start_dir, filename)\n",
    "        with open(filepath, \"wb\") as f:\n",
    "            f.write(response.content)\n",
    "\n",
    "    return str(observation_start_dir)\n",
    "\n",
    "\n",
    "observation_dir = download_latest_observation(base_url, dataset_dir)\n",
    "observation_dir"
   ]
  },
  {
   "cell_type": "code",
   "execution_count": null,
   "metadata": {},
   "outputs": [],
   "source": [
    "observation = load_competition_observation(observation_dir)"
   ]
  },
  {
   "cell_type": "code",
   "execution_count": null,
   "metadata": {},
   "outputs": [],
   "source": [
    "import matplotlib.pyplot as plt\n",
    "\n",
    "plt.figure(figsize=(20, 10))\n",
    "plt.subplot(1, 2, 1)\n",
    "plt.imshow(observation.image_left)\n",
    "plt.title(\"Left image\")\n",
    "plt.subplot(1, 2, 2)\n",
    "plt.imshow(observation.image_right)\n",
    "plt.title(\"Right image\")\n",
    "plt.show()"
   ]
  },
  {
   "cell_type": "code",
   "execution_count": null,
   "metadata": {},
   "outputs": [],
   "source": []
  }
 ],
 "metadata": {
  "kernelspec": {
   "display_name": "cloth-competition-dev",
   "language": "python",
   "name": "python3"
  },
  "language_info": {
   "codemirror_mode": {
    "name": "ipython",
    "version": 3
   },
   "file_extension": ".py",
   "mimetype": "text/x-python",
   "name": "python",
   "nbconvert_exporter": "python",
   "pygments_lexer": "ipython3",
   "version": "3.10.14"
  }
 },
 "nbformat": 4,
 "nbformat_minor": 2
}
