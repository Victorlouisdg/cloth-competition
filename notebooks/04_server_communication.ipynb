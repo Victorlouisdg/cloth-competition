{
 "cells": [
  {
   "cell_type": "markdown",
   "metadata": {},
   "source": [
    "# Server Communication for Cloth Competition 🖥️ ↔️ 📨\n",
    "\n",
    "During the ICRA 2024 Cloth Competition, you will communicate with the **competition desktop 🖥️** to:\n",
    "\n",
    "* ⬇️🖼️ **Download observations**  \n",
    "* ⬆️🤏 **Upload grasp poses** \n",
    "\n",
    "This communication will happen through an HTTP server hosted on the competition desktop.\n",
    "\n",
    "## 1. Remote Dry Run 🌐\n",
    "\n",
    "To help you prepare, we've made the server available for testing:\n",
    "\n",
    "* 🌐 **Server URL**: [https://robotlab.ugent.be](https://robotlab.ugent.be)\n",
    "\n",
    "**Important Notes:**\n",
    "\n",
    "* ℹ️ The website currently provides a very basic file explorer.\n",
    "* ⚠️ Please use the server responsibly. Avoid heavy loads like continuous downloading of the large observations (~75MB)\n",
    "\n",
    "## 2. Competition at ICRA 2024 🏆\n",
    "\n",
    "The communication process will remain the same during the competition, but we'll switch to a local network.  You'll receive a local IP address instead of the public URL.\n",
    "\n",
    "## 3. Server API 📡\n",
    "\n",
    "In the `cloth-tools` python package, we have provided to functions to interact with the server:\n",
    "* `download_latest_observation`: Downloads the latest observation from the server.\n",
    "* `upload_grasp`: Uploads a grasp json file to the server.\n",
    "\n",
    "### 3.1 Downloading the latest observation ⬇️🖼️\n",
    "\n",
    "Be sure to update `cloth-tools` to have the new helper functions:"
   ]
  },
  {
   "cell_type": "code",
   "execution_count": null,
   "metadata": {},
   "outputs": [],
   "source": [
    "%pip install -U cloth-tools"
   ]
  },
  {
   "cell_type": "code",
   "execution_count": null,
   "metadata": {},
   "outputs": [],
   "source": [
    "from pathlib import Path\n",
    "from cloth_tools.dataset.download import download_latest_observation\n",
    "\n",
    "server_url = \"https://robotlab.ugent.be\"\n",
    "\n",
    "data_dir = Path(\"data\")\n",
    "dataset_dir = data_dir / \"downloaded_dataset_0000\"\n",
    "\n",
    "observation_dir, sample_id = download_latest_observation(dataset_dir, server_url)\n",
    "print(observation_dir)\n",
    "print(sample_id)"
   ]
  },
  {
   "cell_type": "code",
   "execution_count": null,
   "metadata": {},
   "outputs": [],
   "source": [
    "from cloth_tools.dataset.format import load_competition_observation\n",
    "\n",
    "observation = load_competition_observation(observation_dir)"
   ]
  },
  {
   "cell_type": "code",
   "execution_count": null,
   "metadata": {},
   "outputs": [],
   "source": [
    "import matplotlib.pyplot as plt\n",
    "\n",
    "plt.figure(figsize=(20, 10))\n",
    "plt.subplot(1, 2, 1)\n",
    "plt.imshow(observation.image_left)\n",
    "plt.title(\"Left image\")\n",
    "plt.subplot(1, 2, 2)\n",
    "plt.imshow(observation.image_right)\n",
    "plt.title(\"Right image\")\n",
    "plt.show()"
   ]
  },
  {
   "cell_type": "markdown",
   "metadata": {},
   "source": [
    "### 3.2 Uploading a grasp pose ⬆️🤏"
   ]
  },
  {
   "cell_type": "code",
   "execution_count": null,
   "metadata": {},
   "outputs": [],
   "source": [
    "from cloth_tools.annotation.grasp_annotation import grasp_hanging_cloth_pose\n",
    "import numpy as np\n",
    "\n",
    "grasp_pose_fixed = grasp_hanging_cloth_pose(np.array([0, 0, 0.5]), np.array([1, 0, 0]), 0.0)\n",
    "grasp_pose_fixed"
   ]
  },
  {
   "cell_type": "code",
   "execution_count": null,
   "metadata": {},
   "outputs": [],
   "source": [
    "import cv2\n",
    "from cloth_tools.visualization.opencv import draw_pose\n",
    "\n",
    "X_W_C = observation.camera_pose_in_world\n",
    "intrinsics = observation.camera_intrinsics\n",
    "\n",
    "image_bgr = cv2.cvtColor(observation.image_left, cv2.COLOR_RGB2BGR)\n",
    "draw_pose(image_bgr, grasp_pose_fixed, intrinsics, X_W_C, 0.1)\n",
    "image_rgb = cv2.cvtColor(image_bgr, cv2.COLOR_BGR2RGB)\n",
    "\n",
    "plt.figure(figsize=(10, 5))\n",
    "plt.imshow(image_rgb)\n",
    "plt.title(\"Example grasp pose\")\n",
    "plt.show()\n"
   ]
  },
  {
   "cell_type": "code",
   "execution_count": null,
   "metadata": {},
   "outputs": [],
   "source": [
    "import json\n",
    "import os\n",
    "\n",
    "from airo_dataset_tools.data_parsers.pose import Pose\n",
    "from airo_typing import HomogeneousMatrixType\n",
    "from cloth_tools.dataset.bookkeeping import datetime_for_filename\n",
    "\n",
    "\n",
    "def save_grasp_pose(grasps_dir: str, grasp_pose_fixed: HomogeneousMatrixType) -> str:\n",
    "    os.makedirs(grasps_dir, exist_ok=True)\n",
    "\n",
    "    grasp_pose_name = f\"grasp_pose_{datetime_for_filename()}.json\"\n",
    "    grasp_pose_file = os.path.join(grasps_dir, grasp_pose_name)\n",
    "\n",
    "    with open(grasp_pose_file, \"w\") as f:\n",
    "        grasp_pose_model = Pose.from_homogeneous_matrix(grasp_pose_fixed)\n",
    "        json.dump(grasp_pose_model.model_dump(exclude_none=False), f, indent=4)\n",
    "\n",
    "    return grasp_pose_file\n",
    "\n",
    "\n",
    "grasps_dir = f\"data/grasps_{sample_id}\"\n",
    "\n",
    "grasp_pose_file = save_grasp_pose(grasps_dir, grasp_pose_fixed)\n",
    "grasp_pose_file"
   ]
  },
  {
   "cell_type": "code",
   "execution_count": null,
   "metadata": {},
   "outputs": [],
   "source": [
    "from cloth_tools.dataset.upload import upload_grasp\n",
    "\n",
    "# Example Usage\n",
    "team_name = \"test_team\"\n",
    "upload_grasp(grasp_pose_file, team_name, sample_id, server_url) "
   ]
  },
  {
   "cell_type": "code",
   "execution_count": null,
   "metadata": {},
   "outputs": [],
   "source": []
  }
 ],
 "metadata": {
  "kernelspec": {
   "display_name": "cloth-competition-dev",
   "language": "python",
   "name": "python3"
  },
  "language_info": {
   "codemirror_mode": {
    "name": "ipython",
    "version": 3
   },
   "file_extension": ".py",
   "mimetype": "text/x-python",
   "name": "python",
   "nbconvert_exporter": "python",
   "pygments_lexer": "ipython3",
   "version": "3.10.14"
  }
 },
 "nbformat": 4,
 "nbformat_minor": 2
}
