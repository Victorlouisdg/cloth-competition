{
 "cells": [
  {
   "cell_type": "code",
   "execution_count": null,
   "metadata": {},
   "outputs": [],
   "source": [
    "import numpy as np\n",
    "from cloth_tools.annotation.grasp_annotation import grasp_hanging_cloth_pose\n",
    "from cloth_tools.dataset.format import save_grasp_pose\n",
    "from cloth_tools.dataset.upload import upload_grasp\n",
    "\n",
    "grasp_pose_fixed = grasp_hanging_cloth_pose(np.array([0, 0, 0.5]), np.array([1, 0, 0]), 0.0)\n",
    "sample_id = \"2024-04-23_10-20-07-968516\"\n",
    "grasps_dir = f\"data/grasps_{sample_id}\"\n",
    "\n",
    "grasp_pose_file = save_grasp_pose(grasps_dir, grasp_pose_fixed)\n",
    "\n",
    "team_name = \"dev_team\"\n",
    "server_url = \"https://robotlab.ugent.be\"\n",
    "\n",
    "upload_grasp(grasp_pose_file, team_name, sample_id, server_url)"
   ]
  },
  {
   "cell_type": "code",
   "execution_count": null,
   "metadata": {},
   "outputs": [],
   "source": []
  }
 ],
 "metadata": {
  "kernelspec": {
   "display_name": "cloth-competition-dev",
   "language": "python",
   "name": "python3"
  },
  "language_info": {
   "codemirror_mode": {
    "name": "ipython",
    "version": 3
   },
   "file_extension": ".py",
   "mimetype": "text/x-python",
   "name": "python",
   "nbconvert_exporter": "python",
   "pygments_lexer": "ipython3",
   "version": "3.10.14"
  }
 },
 "nbformat": 4,
 "nbformat_minor": 2
}
