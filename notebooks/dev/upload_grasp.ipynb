{
 "cells": [
  {
   "cell_type": "code",
   "execution_count": null,
   "metadata": {},
   "outputs": [],
   "source": [
    "import numpy as np\n",
    "from cloth_tools.annotation.grasp_annotation import grasp_hanging_cloth_pose\n",
    "from cloth_tools.dataset.format import save_grasp_pose\n",
    "from cloth_tools.dataset.upload import upload_grasp\n",
    "\n",
    "grasp_pose_fixed = grasp_hanging_cloth_pose(np.array([0, 0, 0.5]), np.array([1, 0, 0]), 0.0)\n",
    "sample_id = \"2024-04-23_10-20-07-968516\"\n",
    "grasps_dir = f\"../data/grasps_{sample_id}\"\n",
    "\n",
    "grasp_pose_file = save_grasp_pose(grasps_dir, grasp_pose_fixed)\n",
    "\n",
    "team_name = \"dev_team\"\n",
    "server_url = \"https://robotlab.ugent.be\"\n",
    "\n",
    "upload_grasp(grasp_pose_file, team_name, sample_id, server_url)"
   ]
  },
  {
   "cell_type": "code",
   "execution_count": null,
   "metadata": {},
   "outputs": [],
   "source": [
    "import os\n",
    "import urllib\n",
    "import zipfile\n",
    "from pathlib import Path\n",
    "\n",
    "import requests\n",
    "from cloth_tools.dataset.format import COMPETITION_OBSERVATION_FILENAMES\n",
    "from tqdm import tqdm\n",
    "\n",
    "\n",
    "def get_dev_latest_observation_start_url(server_url: str) -> str:\n",
    "    url = server_url + \"/dev_latest_observation_start_dir\"  # simple API to get the latest observation directory\n",
    "    response = requests.get(url)\n",
    "    return server_url + \"/\" + response.text\n",
    "\n",
    "\n",
    "def dev_download_latest_observation(dataset_dir: str, server_url: str) -> tuple[str, str]:\n",
    "    \"\"\"Download the latest start observation's files from the Cloth Competition server.\n",
    "    Also returns the sample ID, which must be used when uploading a grasp.json file.\n",
    "\n",
    "    Args:\n",
    "        dataset_dir: The directory to save observation files to.\n",
    "        server_url: URL of the server to download from.\n",
    "\n",
    "    Returns:\n",
    "        A tuple containing the path to the observation directory and the sample ID.\n",
    "    \"\"\"\n",
    "    files_to_retrieve = COMPETITION_OBSERVATION_FILENAMES\n",
    "    observation_dir_url = get_dev_latest_observation_start_url(server_url)\n",
    "\n",
    "    sample_dirname = observation_dir_url.split(\"/\")[-2]\n",
    "    sample_datetime = sample_dirname.split(\"sample_\")[-1]\n",
    "\n",
    "    sample_dir = Path(dataset_dir) / sample_dirname\n",
    "    observation_start_dir = sample_dir / \"observation_start\"\n",
    "    os.makedirs(observation_start_dir, exist_ok=True)\n",
    "\n",
    "    for _, filename in files_to_retrieve.items():\n",
    "        url = observation_dir_url + \"/\" + filename\n",
    "        response = requests.get(url)\n",
    "        filepath = os.path.join(observation_start_dir, filename)\n",
    "        with open(filepath, \"wb\") as f:\n",
    "            f.write(response.content)\n",
    "\n",
    "    return str(observation_start_dir), sample_datetime\n",
    "\n",
    "\n",
    "observation_start_dir, sample_id_latest = dev_download_latest_observation(\"../data\", server_url)\n",
    "\n",
    "print(observation_start_dir)\n",
    "print(sample_id_latest)"
   ]
  },
  {
   "cell_type": "code",
   "execution_count": null,
   "metadata": {},
   "outputs": [],
   "source": [
    "import matplotlib.pyplot as plt\n",
    "from cloth_tools.dataset.format import load_competition_observation\n",
    "\n",
    "observation = load_competition_observation(observation_start_dir)\n",
    "\n",
    "plt.figure(figsize=(20, 10))\n",
    "plt.subplot(1, 2, 1)\n",
    "plt.imshow(observation.image_left)\n",
    "plt.title(\"Left image\")\n",
    "plt.subplot(1, 2, 2)\n",
    "plt.imshow(observation.image_right)\n",
    "plt.title(\"Right image\")\n",
    "plt.show()"
   ]
  },
  {
   "cell_type": "code",
   "execution_count": null,
   "metadata": {},
   "outputs": [],
   "source": [
    "upload_grasp(grasp_pose_file, team_name, sample_id_latest, server_url)"
   ]
  },
  {
   "cell_type": "code",
   "execution_count": null,
   "metadata": {},
   "outputs": [],
   "source": []
  }
 ],
 "metadata": {
  "kernelspec": {
   "display_name": "cloth-competition-dev",
   "language": "python",
   "name": "python3"
  },
  "language_info": {
   "codemirror_mode": {
    "name": "ipython",
    "version": 3
   },
   "file_extension": ".py",
   "mimetype": "text/x-python",
   "name": "python",
   "nbconvert_exporter": "python",
   "pygments_lexer": "ipython3",
   "version": "3.10.13"
  }
 },
 "nbformat": 4,
 "nbformat_minor": 2
}
