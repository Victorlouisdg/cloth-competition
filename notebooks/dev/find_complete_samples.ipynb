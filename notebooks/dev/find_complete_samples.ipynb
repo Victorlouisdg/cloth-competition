{
 "cells": [
  {
   "cell_type": "code",
   "execution_count": null,
   "metadata": {},
   "outputs": [],
   "source": [
    "import os\n",
    "from dataclasses import fields\n",
    "from pathlib import Path\n",
    "\n",
    "import cv2\n",
    "import matplotlib.pyplot as plt\n",
    "import numpy as np\n",
    "import open3d as o3d\n",
    "from airo_camera_toolkit.point_clouds.conversions import point_cloud_to_open3d\n",
    "from airo_dataset_tools.data_parsers.pose import Pose\n",
    "from cloth_tools.annotation.grasp_annotation import GraspAnnotation\n",
    "from cloth_tools.dataset.format import load_competition_observation\n",
    "from cloth_tools.dataset.download import download_and_extract_dataset\n",
    "from cloth_tools.visualization.opencv import draw_pose\n",
    "\n",
    "\n",
    "data_dir = Path(\"../data\")\n",
    "dataset_dir = data_dir / \"cloth_competition_dataset_0001_uncleaned\""
   ]
  },
  {
   "cell_type": "code",
   "execution_count": null,
   "metadata": {},
   "outputs": [],
   "source": [
    "os.path.exists(dataset_dir)"
   ]
  },
  {
   "cell_type": "code",
   "execution_count": null,
   "metadata": {},
   "outputs": [],
   "source": [
    "def emoji(dir: str, file: str) -> str:\n",
    "    if os.path.isdir(os.path.join(dir, file)):\n",
    "        return \"📁\"\n",
    "    elif file.endswith(\".jpg\") or file.endswith(\".png\"):\n",
    "        return \"🖼️\"\n",
    "    elif file.endswith(\".mp4\"):\n",
    "        return \"🎥\"\n",
    "    return \"📄\"\n",
    "\n",
    "print(\"First directories in the dataset:\")\n",
    "for f in sorted(os.listdir(dataset_dir))[:5]:\n",
    "    print(emoji(dataset_dir, f), f)"
   ]
  },
  {
   "cell_type": "code",
   "execution_count": null,
   "metadata": {},
   "outputs": [],
   "source": [
    "sample_dir = dataset_dir / \"sample_000000\"\n",
    "\n",
    "for f in os.listdir(sample_dir):\n",
    "    print(emoji(sample_dir, f), f)"
   ]
  },
  {
   "cell_type": "code",
   "execution_count": null,
   "metadata": {},
   "outputs": [],
   "source": [
    "count_with_observation_start = 0\n",
    "count_with_observation_end = 0\n",
    "count_with_grasp = 0\n",
    "count_with_all = 0\n",
    "\n",
    "for sample_dir in os.listdir(dataset_dir):\n",
    "    if not os.path.isdir(dataset_dir / sample_dir):\n",
    "        continue\n",
    "    if not sample_dir.startswith(\"sample_\"):\n",
    "        continue\n",
    "\n",
    "    sample_dir = dataset_dir / sample_dir\n",
    "    grasp_dir = sample_dir / \"grasp\"\n",
    "    observation_start_dir = sample_dir / \"observation_start\"\n",
    "    observation_result_dir = sample_dir / \"observation_result\"\n",
    "    if os.path.exists(grasp_dir):\n",
    "        count_with_grasp += 1\n",
    "\n",
    "    if os.path.exists(observation_start_dir):\n",
    "        count_with_observation_start += 1\n",
    "\n",
    "    if os.path.exists(observation_result_dir):\n",
    "        count_with_observation_end += 1\n",
    "\n",
    "    if os.path.exists(grasp_dir) and os.path.exists(observation_start_dir) and os.path.exists(observation_result_dir):\n",
    "        count_with_all += 1\n",
    "\n",
    "print(f\"Total episodes started: {len(os.listdir(dataset_dir))}\")\n",
    "print(f\"Count with observation_start: {count_with_observation_start}\")\n",
    "print(f\"Count with grasp: {count_with_grasp}\")\n",
    "print(f\"Count with observation_end: {count_with_observation_end}\")\n",
    "print(f\"Count with all: {count_with_all}\")\n",
    "print(f\"Grasp execution success rate: {count_with_observation_end / count_with_grasp:.2f}\")\n",
    "print(f\"Grasp success rate: {count_with_observation_end / count_with_observation_start:.2f}\")"
   ]
  },
  {
   "cell_type": "code",
   "execution_count": null,
   "metadata": {},
   "outputs": [],
   "source": [
    "dataset_cleaned_dir = data_dir / \"cloth_competition_dataset_0001_cleaned\""
   ]
  },
  {
   "cell_type": "code",
   "execution_count": null,
   "metadata": {},
   "outputs": [],
   "source": [
    "import shutil\n",
    "from loguru import logger\n",
    "\n",
    "i_cleaned = 0\n",
    "os.makedirs(dataset_cleaned_dir, exist_ok=True)\n",
    "\n",
    "\n",
    "for sample_dir in sorted(os.listdir(dataset_dir)):\n",
    "    if not os.path.isdir(dataset_dir / sample_dir):\n",
    "        continue\n",
    "    if not sample_dir.startswith(\"sample_\"):\n",
    "        continue\n",
    "\n",
    "    sample_dir = dataset_dir / sample_dir\n",
    "    grasp_dir = sample_dir / \"grasp\"\n",
    "    observation_start_dir = sample_dir / \"observation_start\"\n",
    "    observation_result_dir = sample_dir / \"observation_result\"\n",
    "\n",
    "    if not (\n",
    "        os.path.exists(grasp_dir) and os.path.exists(observation_start_dir) and os.path.exists(observation_result_dir)\n",
    "    ):\n",
    "        continue\n",
    "\n",
    "    logger.info(f\"Copying {sample_dir}\")\n",
    "\n",
    "    sample_cleaned_dir = dataset_cleaned_dir / f\"sample_{i_cleaned:06d}\"\n",
    "    # all dirs exist -> copy to cleaned\n",
    "\n",
    "    src = sample_dir\n",
    "    dst = sample_cleaned_dir\n",
    "    shutil.copytree(src, dst)\n",
    "\n",
    "    i_cleaned += 1"
   ]
  },
  {
   "cell_type": "code",
   "execution_count": null,
   "metadata": {},
   "outputs": [],
   "source": [
    "# attempt to load all data in the cleaned directory to identify any issues\n",
    "\n",
    "for sample_dir in sorted(os.listdir(dataset_cleaned_dir)):\n",
    "    sample_dir = dataset_cleaned_dir / sample_dir\n",
    "    grasp_dir = sample_dir / \"grasp\"\n",
    "    observation_start_dir = sample_dir / \"observation_start\"\n",
    "    observation_result_dir = sample_dir / \"observation_result\"\n",
    "\n",
    "    logger.info(f\"Loading {sample_dir}\")\n",
    "    observation_start = load_competition_observation(observation_start_dir)\n",
    "    observation_result = load_competition_observation(observation_result_dir)\n",
    "\n",
    "    image_frontal_annotated = cv2.imread(str(grasp_dir / \"frontal_image_grasp.jpg\"))\n",
    "    image_top_annotated = cv2.imread(str(grasp_dir / \"topdown_image_grasp.jpg\"))\n",
    "\n",
    "    grasp_pose_file = grasp_dir / \"grasp_pose.json\"\n",
    "    grasp_annotation_file = grasp_dir / \"grasp_annotation.json\"\n",
    "\n",
    "    with open(grasp_pose_file, \"r\") as f:\n",
    "        grasp_pose = Pose.model_validate_json(f.read()).as_homogeneous_matrix()\n",
    "\n",
    "\n",
    "    with open(grasp_annotation_file, \"r\") as f:\n",
    "        grasp_annotation = GraspAnnotation.model_validate_json(f.read())\n",
    "\n",
    "\n",
    "    "
   ]
  },
  {
   "cell_type": "code",
   "execution_count": null,
   "metadata": {},
   "outputs": [],
   "source": []
  }
 ],
 "metadata": {
  "kernelspec": {
   "display_name": "cloth-competition-dev",
   "language": "python",
   "name": "python3"
  },
  "language_info": {
   "codemirror_mode": {
    "name": "ipython",
    "version": 3
   },
   "file_extension": ".py",
   "mimetype": "text/x-python",
   "name": "python",
   "nbconvert_exporter": "python",
   "pygments_lexer": "ipython3",
   "version": "3.10.14"
  }
 },
 "nbformat": 4,
 "nbformat_minor": 2
}
