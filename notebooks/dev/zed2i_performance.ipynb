{
 "cells": [
  {
   "cell_type": "code",
   "execution_count": null,
   "metadata": {},
   "outputs": [],
   "source": [
    "import multiprocessing\n",
    "from airo_camera_toolkit.cameras.multiprocess.multiprocess_stereo_rgbd_camera import (\n",
    "    MultiprocessStereoRGBDPublisher,\n",
    "    MultiprocessStereoRGBDReceiver,\n",
    ")\n",
    "from airo_camera_toolkit.cameras.zed.zed2i import Zed2i\n",
    "\n",
    "create_multiprocess_camera = False\n",
    "\n",
    "# Setting up the camera\n",
    "camera_kwargs = {\n",
    "    \"resolution\": Zed2i.RESOLUTION_2K,\n",
    "    \"depth_mode\": Zed2i.NEURAL_DEPTH_MODE,\n",
    "    \"fps\": 15,\n",
    "}\n",
    "camera_publisher = None\n",
    "\n",
    "if create_multiprocess_camera:\n",
    "    multiprocessing.set_start_method(\"spawn\")\n",
    "\n",
    "    # Running the camera in a seperate process enables us to record videos even if the main process is blocking\n",
    "    camera_publisher = MultiprocessStereoRGBDPublisher(Zed2i, camera_kwargs)\n",
    "    # self.camera_publisher.publish_depth_image = False\n",
    "\n",
    "    camera_publisher.start()\n",
    "    camera = MultiprocessStereoRGBDReceiver(\"camera\")\n",
    "else:\n",
    "    camera = Zed2i(**camera_kwargs)"
   ]
  },
  {
   "cell_type": "code",
   "execution_count": null,
   "metadata": {},
   "outputs": [],
   "source": [
    "import time\n",
    "from loguru import logger\n",
    "\n",
    "# camera.runtime_params.disable_depth = True\n",
    "\n",
    "camera_period = 1 / camera.fps\n",
    "timestamp_prev_grab = time.time()\n",
    "\n",
    "for _ in range(150):\n",
    "    camera._grab_images()\n",
    "    timestamp = time.time()\n",
    "    if timestamp_prev_grab is not None:\n",
    "        publish_period = timestamp - timestamp_prev_grab\n",
    "\n",
    "        if publish_period > 1.1 * camera_period:\n",
    "            logger.warning(\n",
    "                f\"Time since previous grab: {publish_period:.3f} s. Camera cannot maintain {camera.fps:.2f} fps. \"\n",
    "            )\n",
    "        else:\n",
    "            logger.debug(f\"Time since previous grab: {publish_period:.3f} s\")\n",
    "    timestamp_prev_grab = timestamp"
   ]
  },
  {
   "cell_type": "code",
   "execution_count": null,
   "metadata": {},
   "outputs": [],
   "source": [
    "%%timeit\n",
    "camera.get_rgb_image_as_int()"
   ]
  },
  {
   "cell_type": "code",
   "execution_count": null,
   "metadata": {},
   "outputs": [],
   "source": [
    "camera.get_rgb_image_as_int()"
   ]
  },
  {
   "cell_type": "code",
   "execution_count": null,
   "metadata": {},
   "outputs": [],
   "source": [
    "%%timeit\n",
    "camera._retrieve_colored_point_cloud()"
   ]
  },
  {
   "cell_type": "code",
   "execution_count": null,
   "metadata": {},
   "outputs": [],
   "source": [
    "import pyzed.sl as sl\n",
    "\n",
    "point_cloud_matrix = sl.Mat()"
   ]
  },
  {
   "cell_type": "code",
   "execution_count": null,
   "metadata": {},
   "outputs": [],
   "source": [
    "%%timeit\n",
    "camera.camera.retrieve_measure(point_cloud_matrix, sl.MEASURE.XYZ)"
   ]
  },
  {
   "cell_type": "code",
   "execution_count": null,
   "metadata": {},
   "outputs": [],
   "source": [
    "%%timeit\n",
    "camera.point_cloud_matrix.get_data()"
   ]
  },
  {
   "cell_type": "code",
   "execution_count": null,
   "metadata": {},
   "outputs": [],
   "source": [
    "%%timeit\n",
    "depth_map = camera._retrieve_depth_map()\n",
    "depth_image = camera._retrieve_depth_image()\n",
    "confidence_map = camera._retrieve_confidence_map()\n",
    "point_cloud = camera._retrieve_colored_point_cloud()"
   ]
  },
  {
   "cell_type": "code",
   "execution_count": null,
   "metadata": {},
   "outputs": [],
   "source": [
    "image_matrix = sl.Mat()\n",
    "image_matrix_right = sl.Mat()\n",
    "depth_image_matrix = sl.Mat()\n",
    "depth_matrix = sl.Mat()\n",
    "point_cloud_matrix = sl.Mat()\n",
    "confidence_matrix = sl.Mat()"
   ]
  },
  {
   "cell_type": "code",
   "execution_count": null,
   "metadata": {},
   "outputs": [],
   "source": [
    "%%timeit\n",
    "# camera.camera.retrieve_image(image_matrix, sl.VIEW.LEFT)\n",
    "# camera.camera.retrieve_image(image_matrix_right, sl.VIEW.RIGHT)\n",
    "camera.camera.retrieve_image(depth_image_matrix, sl.VIEW.DEPTH)\n",
    "camera.camera.retrieve_measure(depth_matrix, sl.MEASURE.DEPTH)\n",
    "camera.camera.retrieve_measure(confidence_matrix, sl.MEASURE.CONFIDENCE)\n",
    "camera.camera.retrieve_measure(point_cloud_matrix, sl.MEASURE.XYZ)"
   ]
  },
  {
   "cell_type": "code",
   "execution_count": null,
   "metadata": {},
   "outputs": [],
   "source": [
    "depth_map = camera._retrieve_depth_map()\n",
    "depth_image = camera._retrieve_depth_image()\n",
    "confidence_map = camera._retrieve_confidence_map()\n",
    "point_cloud = camera._retrieve_colored_point_cloud()"
   ]
  },
  {
   "cell_type": "code",
   "execution_count": null,
   "metadata": {},
   "outputs": [],
   "source": [
    "import threading\n",
    "import numpy as np\n",
    "\n",
    "depth_map_array = np.zeros_like(depth_map)\n",
    "\n",
    "\n",
    "def retrieve_depth_map_to_array():\n",
    "    global depth_map_array\n",
    "    depth_map_array = camera._retrieve_depth_map()\n",
    "\n",
    "\n",
    "retrieve_depth_map_thread = threading.Thread(target=retrieve_depth_map_to_array)\n",
    "retrieve_depth_map_thread.start()\n",
    "retrieve_depth_map_thread.join()\n",
    "\n",
    "import matplotlib.pyplot as plt\n",
    "\n",
    "plt.imshow(depth_map_array)"
   ]
  },
  {
   "cell_type": "code",
   "execution_count": null,
   "metadata": {},
   "outputs": [],
   "source": [
    "%%timeit\n",
    "camera._retrieve_depth_map()"
   ]
  },
  {
   "cell_type": "code",
   "execution_count": null,
   "metadata": {},
   "outputs": [],
   "source": [
    "%%timeit\n",
    "retrieve_depth_map_thread = threading.Thread(target=retrieve_depth_map_to_array)\n",
    "retrieve_depth_map_thread.start()\n",
    "retrieve_depth_map_thread.join()"
   ]
  },
  {
   "cell_type": "code",
   "execution_count": null,
   "metadata": {},
   "outputs": [],
   "source": [
    "depth_map_array = np.zeros_like(depth_map)\n",
    "depth_image_array = np.zeros_like(depth_image)\n",
    "confidence_map_array = np.zeros_like(confidence_map)\n",
    "point_cloud_positions_array = np.zeros_like(point_cloud.points)\n",
    "point_cloud_color_array = np.zeros_like(point_cloud.colors)\n",
    "\n",
    "\n",
    "def retrieve_depth_map_to_array():\n",
    "    global depth_map_array\n",
    "    depth_map_array = camera._retrieve_depth_map()\n",
    "\n",
    "\n",
    "def retrieve_depth_image_to_array():\n",
    "    global depth_image_array\n",
    "    depth_image_array = camera._retrieve_depth_image()\n",
    "\n",
    "\n",
    "def retrieve_confidence_map_to_array():\n",
    "    global confidence_map_array\n",
    "    confidence_map_array = camera._retrieve_confidence_map()\n",
    "\n",
    "\n",
    "def retrieve_point_cloud_to_array():\n",
    "    global point_cloud_positions_array, point_cloud_color_array\n",
    "    point_cloud = camera._retrieve_colored_point_cloud()\n",
    "    point_cloud_positions_array = point_cloud.points\n",
    "    point_cloud_color_array = point_cloud.colors"
   ]
  },
  {
   "cell_type": "code",
   "execution_count": null,
   "metadata": {},
   "outputs": [],
   "source": [
    "%%timeit\n",
    "retrieve_depth_map_thread = threading.Thread(target=retrieve_depth_map_to_array)\n",
    "retrieve_depth_image_thread = threading.Thread(target=retrieve_depth_image_to_array)\n",
    "retrieve_confidence_map_thread = threading.Thread(target=retrieve_confidence_map_to_array)\n",
    "retrieve_point_cloud_thread = threading.Thread(target=retrieve_point_cloud_to_array)\n",
    "\n",
    "retrieve_point_cloud_thread.start()\n",
    "retrieve_depth_map_thread.start()\n",
    "retrieve_depth_image_thread.start()\n",
    "retrieve_confidence_map_thread.start()\n",
    "\n",
    "retrieve_point_cloud_thread.join()\n",
    "retrieve_depth_map_thread.join()\n",
    "retrieve_depth_image_thread.join()\n",
    "retrieve_confidence_map_thread.join()"
   ]
  },
  {
   "cell_type": "code",
   "execution_count": null,
   "metadata": {},
   "outputs": [],
   "source": [
    "import time\n",
    "from airo_camera_toolkit.interfaces import StereoRGBDCamera\n",
    "\n",
    "times_retrieve = []\n",
    "times_copy = []\n",
    "\n",
    "period = 0.66\n",
    "\n",
    "for i in range(20):\n",
    "    time_start = time.time()\n",
    "\n",
    "    camera._grab_images()\n",
    "    rgb_left = camera._retrieve_rgb_image_as_int()\n",
    "    rgb_right = camera._retrieve_rgb_image_as_int(StereoRGBDCamera.RIGHT_RGB)\n",
    "    depth_map = camera._retrieve_depth_map()\n",
    "    depth_image = camera._retrieve_depth_image()\n",
    "    confidence_map = camera._retrieve_confidence_map()\n",
    "    point_cloud = camera._retrieve_colored_point_cloud()\n",
    "\n",
    "    time_retrieved = time.time()\n",
    "    times_retrieve.append(time_retrieved - time_start)\n",
    "\n",
    "    rgb_left.copy()\n",
    "    rgb_right.copy()\n",
    "    depth_map.copy()\n",
    "    depth_image.copy()\n",
    "    confidence_map.copy()\n",
    "    point_cloud.points.copy()\n",
    "    point_cloud.colors.copy()\n",
    "\n",
    "    time_copied = time.time()\n",
    "    times_copy.append(time_copied - time_retrieved)\n",
    "\n",
    "    # Wait a bit\n",
    "    while time.time() - time_start < period:\n",
    "        time.sleep(0.0001)\n",
    "\n",
    "times = np.array(times_retrieve) + np.array(times_copy)\n",
    "print(f\"Average time elapsed: {np.mean(times):.3f} s\")\n",
    "print(f\"Average time elapsed (retrieve): {np.mean(times_retrieve):.3f} s\")\n",
    "print(f\"Average time elapsed (copy): {np.mean(times_copy):.3f} s\")"
   ]
  },
  {
   "cell_type": "code",
   "execution_count": null,
   "metadata": {},
   "outputs": [],
   "source": [
    "rgb_left = camera._retrieve_rgb_image_as_int()\n",
    "rgb_right = camera._retrieve_rgb_image_as_int(StereoRGBDCamera.RIGHT_RGB)\n",
    "depth_map = camera._retrieve_depth_map()\n",
    "depth_image = camera._retrieve_depth_image()\n",
    "confidence_map = camera._retrieve_confidence_map()\n",
    "point_cloud = camera._retrieve_colored_point_cloud()"
   ]
  },
  {
   "cell_type": "code",
   "execution_count": null,
   "metadata": {},
   "outputs": [],
   "source": [
    "np.info(rgb_left)"
   ]
  },
  {
   "cell_type": "code",
   "execution_count": null,
   "metadata": {},
   "outputs": [],
   "source": [
    "np.info(rgb_right)"
   ]
  },
  {
   "cell_type": "code",
   "execution_count": null,
   "metadata": {},
   "outputs": [],
   "source": [
    "np.info(depth_map)"
   ]
  },
  {
   "cell_type": "code",
   "execution_count": null,
   "metadata": {},
   "outputs": [],
   "source": [
    "# print the properties of the depth_image array\n",
    "np.info(depth_image)"
   ]
  },
  {
   "cell_type": "code",
   "execution_count": null,
   "metadata": {},
   "outputs": [],
   "source": [
    "np.info(confidence_map)"
   ]
  },
  {
   "cell_type": "code",
   "execution_count": null,
   "metadata": {},
   "outputs": [],
   "source": [
    "np.info(point_cloud.points)"
   ]
  },
  {
   "cell_type": "code",
   "execution_count": null,
   "metadata": {},
   "outputs": [],
   "source": [
    "np.info(point_cloud.colors)"
   ]
  },
  {
   "cell_type": "code",
   "execution_count": null,
   "metadata": {},
   "outputs": [],
   "source": [
    "%%timeit\n",
    "point_cloud.points.copy()"
   ]
  },
  {
   "cell_type": "code",
   "execution_count": null,
   "metadata": {},
   "outputs": [],
   "source": [
    "point_cloud.points[0]"
   ]
  },
  {
   "cell_type": "code",
   "execution_count": null,
   "metadata": {},
   "outputs": [],
   "source": [
    "camera.camera.retrieve_measure(point_cloud_matrix, sl.MEASURE.XYZ)\n",
    "point_cloud_positions_XYZ_ = point_cloud_matrix.get_data()"
   ]
  },
  {
   "cell_type": "code",
   "execution_count": null,
   "metadata": {},
   "outputs": [],
   "source": [
    "point_cloud_positions_XYZ_.shape"
   ]
  },
  {
   "cell_type": "code",
   "execution_count": null,
   "metadata": {},
   "outputs": [],
   "source": [
    "point_cloud_positions_XYZ_[0]"
   ]
  },
  {
   "cell_type": "code",
   "execution_count": null,
   "metadata": {},
   "outputs": [],
   "source": [
    "import cv2\n",
    "\n",
    "cv2.cvtColor(point_cloud_positions_XYZ_, cv2.COLOR_BGRA2BGR)[0]"
   ]
  },
  {
   "cell_type": "code",
   "execution_count": null,
   "metadata": {},
   "outputs": [],
   "source": [
    "%%timeit\n",
    "cv2.cvtColor(point_cloud_positions_XYZ_, cv2.COLOR_BGRA2BGR)"
   ]
  },
  {
   "cell_type": "code",
   "execution_count": null,
   "metadata": {},
   "outputs": [],
   "source": [
    "pcd_cv2 = cv2.cvtColor(point_cloud_positions_XYZ_, cv2.COLOR_BGRA2BGR)"
   ]
  },
  {
   "cell_type": "code",
   "execution_count": null,
   "metadata": {},
   "outputs": [],
   "source": [
    "%%timeit\n",
    "pcd_cv2.copy()"
   ]
  },
  {
   "cell_type": "code",
   "execution_count": null,
   "metadata": {},
   "outputs": [],
   "source": [
    "camera.camera.retrieve_measure(point_cloud_matrix, sl.MEASURE.XYZ)"
   ]
  },
  {
   "cell_type": "code",
   "execution_count": null,
   "metadata": {},
   "outputs": [],
   "source": [
    "%%timeit\n",
    "np.ascontiguousarray(point_cloud_matrix.get_data()[:, :, :3])"
   ]
  },
  {
   "cell_type": "code",
   "execution_count": null,
   "metadata": {},
   "outputs": [],
   "source": [
    "%%timeit\n",
    "cv2.cvtColor(rgb_left, cv2.COLOR_RGB2BGR)"
   ]
  },
  {
   "cell_type": "code",
   "execution_count": null,
   "metadata": {},
   "outputs": [],
   "source": [
    "from airo_camera_toolkit.utils.image_converter import ImageConverter"
   ]
  },
  {
   "cell_type": "code",
   "execution_count": null,
   "metadata": {},
   "outputs": [],
   "source": [
    "%%timeit\n",
    "ImageConverter.from_numpy_int_format(rgb_left).image_in_opencv_format"
   ]
  },
  {
   "cell_type": "code",
   "execution_count": null,
   "metadata": {},
   "outputs": [],
   "source": []
  }
 ],
 "metadata": {
  "kernelspec": {
   "display_name": "cloth-competition",
   "language": "python",
   "name": "python3"
  },
  "language_info": {
   "codemirror_mode": {
    "name": "ipython",
    "version": 3
   },
   "file_extension": ".py",
   "mimetype": "text/x-python",
   "name": "python",
   "nbconvert_exporter": "python",
   "pygments_lexer": "ipython3",
   "version": "3.10.14"
  }
 },
 "nbformat": 4,
 "nbformat_minor": 2
}
