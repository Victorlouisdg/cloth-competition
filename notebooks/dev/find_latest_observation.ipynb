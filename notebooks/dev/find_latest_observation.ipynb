{
 "cells": [
  {
   "cell_type": "code",
   "execution_count": null,
   "metadata": {},
   "outputs": [],
   "source": [
    "import os\n",
    "from pathlib import Path\n",
    "\n",
    "\n",
    "data_dir = Path(\"../data\")\n",
    "dry_run_dir = data_dir / \"remote_dry_run_2024-04-26\"\n",
    "\n",
    "os.path.exists(dry_run_dir)"
   ]
  },
  {
   "cell_type": "code",
   "execution_count": null,
   "metadata": {},
   "outputs": [],
   "source": [
    "import os\n",
    "from pathlib import Path\n",
    "\n",
    "def latest_observation_start_dir():\n",
    "    # base_dir = \"static/data/remote_dry_run_2024-04-26\"\n",
    "    base_dir = \"../data/remote_dry_run_2024-04-26\"\n",
    "    team_folders = [f for f in os.listdir(base_dir) if os.path.isdir(os.path.join(base_dir, f))]\n",
    "\n",
    "    for team_folder in team_folders:\n",
    "        team_dir = os.path.join(base_dir, team_folder)\n",
    "        sample_dirs = [f for f in os.listdir(team_dir) if os.path.isdir(os.path.join(team_dir, f)) and f.startswith(\"sample_\")]\n",
    "\n",
    "        for sample_dir in sample_dirs:\n",
    "            full_sample_dir = os.path.join(team_dir, sample_dir)\n",
    "            observation_start_dir = Path(full_sample_dir) / \"observation_start\"\n",
    "\n",
    "            if os.path.isdir(observation_start_dir):\n",
    "                return str(observation_start_dir)  # Return the first match\n",
    "\n",
    "    return None  # No valid observation start directory found\n",
    "\n",
    "latest_observation_start_dir()"
   ]
  },
  {
   "cell_type": "code",
   "execution_count": null,
   "metadata": {},
   "outputs": [],
   "source": [
    "import glob\n",
    "\n",
    "sample_dirs = glob.glob(f\"{dry_run_dir}/**/sample_*\")\n",
    "sample_dirs"
   ]
  },
  {
   "cell_type": "code",
   "execution_count": null,
   "metadata": {},
   "outputs": [],
   "source": [
    "sample_dirs_with_observation_start = [d for d in sample_dirs if os.path.exists(f\"{d}/observation_start\")]\n",
    "sample_dirs_with_observation_start"
   ]
  },
  {
   "cell_type": "code",
   "execution_count": null,
   "metadata": {},
   "outputs": [],
   "source": [
    "base_names = [os.path.basename(d) for d in sample_dirs_with_observation_start]\n",
    "base_names"
   ]
  },
  {
   "cell_type": "code",
   "execution_count": null,
   "metadata": {},
   "outputs": [],
   "source": [
    "sample_dirs = glob.glob(f\"{dry_run_dir}/**/sample_*\")\n",
    "sample_dirs_with_observation_start = [d for d in sample_dirs if os.path.exists(f\"{d}/observation_start\")]\n",
    "base_names = [os.path.basename(d) for d in sample_dirs_with_observation_start]\n",
    "sorted_sample_dirs = [x for _, x in sorted(zip(base_names, sample_dirs_with_observation_start), reverse=True)]\n",
    "\n",
    "sorted_sample_dirs"
   ]
  },
  {
   "cell_type": "code",
   "execution_count": null,
   "metadata": {},
   "outputs": [],
   "source": [
    "sorted_sample_dirs[0]"
   ]
  },
  {
   "cell_type": "code",
   "execution_count": null,
   "metadata": {},
   "outputs": [],
   "source": [
    "dry_run_dir"
   ]
  },
  {
   "cell_type": "code",
   "execution_count": null,
   "metadata": {},
   "outputs": [],
   "source": [
    "dev_team_dir = dry_run_dir / \"dev_team\"\n",
    "dev_team_dir"
   ]
  },
  {
   "cell_type": "code",
   "execution_count": null,
   "metadata": {},
   "outputs": [],
   "source": [
    "from cloth_tools.dataset.bookkeeping import find_latest_sample_dir_with_observation_start\n",
    "\n",
    "find_latest_sample_dir_with_observation_start(dev_team_dir) # / \"dev_team\")dev_team_dir"
   ]
  },
  {
   "cell_type": "code",
   "execution_count": null,
   "metadata": {},
   "outputs": [],
   "source": [
    "find_latest_sample_dir_with_observation_start(dry_run_dir) # / \"dev_team\")dev_team_dir"
   ]
  },
  {
   "cell_type": "code",
   "execution_count": null,
   "metadata": {},
   "outputs": [],
   "source": []
  }
 ],
 "metadata": {
  "kernelspec": {
   "display_name": "cloth-competition-dev",
   "language": "python",
   "name": "python3"
  },
  "language_info": {
   "codemirror_mode": {
    "name": "ipython",
    "version": 3
   },
   "file_extension": ".py",
   "mimetype": "text/x-python",
   "name": "python",
   "nbconvert_exporter": "python",
   "pygments_lexer": "ipython3",
   "version": "3.10.14"
  }
 },
 "nbformat": 4,
 "nbformat_minor": 2
}
