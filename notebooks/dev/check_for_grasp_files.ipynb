{
 "cells": [
  {
   "cell_type": "code",
   "execution_count": null,
   "metadata": {},
   "outputs": [],
   "source": [
    "import os\n",
    "from pathlib import Path\n",
    "\n",
    "\n",
    "current_team = \"dev_team\"\n",
    "dataset_dir = Path(f\"../data/remote_dry_run_2024-04-26/{current_team}\")\n",
    "\n",
    "sample_id = \"2024-04-23_10-20-07-968516\"\n",
    "\n",
    "sample_dir = dataset_dir / f\"sample_{sample_id}\"\n",
    "grasps_dir = dataset_dir / f\"grasps_{sample_id}\" # TODO throughout this notebook add grasp.json files \n",
    "\n",
    "os.path.exists(grasps_dir)"
   ]
  },
  {
   "cell_type": "code",
   "execution_count": null,
   "metadata": {},
   "outputs": [],
   "source": [
    "import time\n",
    "from loguru import logger\n",
    "from airo_dataset_tools.data_parsers.pose import Pose\n",
    "\n",
    "\n",
    "failed_files = set()\n",
    "\n",
    "while True:\n",
    "    grasp_files = set(os.listdir(grasps_dir))\n",
    "    files_to_consider = grasp_files - failed_files\n",
    "\n",
    "    if not files_to_consider:\n",
    "        logger.info(\"No grasp poses received yet, waiting...\")\n",
    "        time.sleep(1.0)\n",
    "        continue\n",
    "\n",
    "    grasp_files = sorted(list(files_to_consider), reverse=True)\n",
    "    latest_file = grasp_files[0]\n",
    "\n",
    "    logger.info(f\"Trying grasp pose from: {latest_file}\")\n",
    "\n",
    "    filepath = os.path.join(grasps_dir, latest_file)\n",
    "\n",
    "    try:\n",
    "        with open(filepath, \"r\") as f:\n",
    "            grasp_pose = Pose.model_validate_json(f.read()).as_homogeneous_matrix()\n",
    "    except Exception as e:\n",
    "        failed_files.add(latest_file)\n",
    "        logger.warning(f\"Cannot load {latest_file}: {e}\")\n",
    "        time.sleep(0.0001)\n",
    "        continue\n",
    "\n",
    "    logger.success(f\"Loaded grasp pose successfully from: {latest_file}\")\n",
    "    break"
   ]
  },
  {
   "cell_type": "code",
   "execution_count": null,
   "metadata": {},
   "outputs": [],
   "source": []
  }
 ],
 "metadata": {
  "kernelspec": {
   "display_name": "cloth-competition-dev",
   "language": "python",
   "name": "python3"
  },
  "language_info": {
   "codemirror_mode": {
    "name": "ipython",
    "version": 3
   },
   "file_extension": ".py",
   "mimetype": "text/x-python",
   "name": "python",
   "nbconvert_exporter": "python",
   "pygments_lexer": "ipython3",
   "version": "3.10.14"
  }
 },
 "nbformat": 4,
 "nbformat_minor": 2
}
