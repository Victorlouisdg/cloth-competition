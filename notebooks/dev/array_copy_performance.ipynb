{
 "cells": [
  {
   "cell_type": "markdown",
   "metadata": {},
   "source": [
    "Related: https://superfastpython.com/benchmark-fastest-way-to-copy-numpy-array/\n",
    "\n",
    "Conclusion of this notebook:\n",
    "* All copy methods are about the same speed.\n",
    "* Copying to shared memory is as fast as a regular copy (expected at it's also RAM).\n",
    "* Copy is already (maximally) parallelized, so starting threads doesn't help.\n",
    "* My laptop can copy at about 16 GB / s"
   ]
  },
  {
   "cell_type": "code",
   "execution_count": null,
   "metadata": {},
   "outputs": [],
   "source": [
    "import numpy as np\n",
    "\n",
    "point_cloud_0 = np.zeros((2208 * 1242, 3), dtype=np.float32)\n",
    "point_cloud_1 = np.zeros((2208 * 1242, 3), dtype=np.float32)\n",
    "point_cloud_2 = np.zeros((2208 * 1242, 3), dtype=np.float32)\n",
    "point_cloud_3 = np.zeros((2208 * 1242, 3), dtype=np.float32)\n",
    "point_cloud_4 = np.zeros((2208 * 1242, 3), dtype=np.float32)\n",
    "point_cloud_5 = np.zeros((2208 * 1242, 3), dtype=np.float32)"
   ]
  },
  {
   "cell_type": "code",
   "execution_count": null,
   "metadata": {},
   "outputs": [],
   "source": [
    "from multiprocessing import shared_memory\n",
    "\n",
    "point_cloud_shm = shared_memory.SharedMemory(create=True, size=point_cloud_0.nbytes, name=\"point_cloud\")\n",
    "point_cloud_6 = np.ndarray((2208 * 1242, 3), dtype=np.float32, buffer=point_cloud_shm.buf)\n"
   ]
  },
  {
   "cell_type": "code",
   "execution_count": null,
   "metadata": {},
   "outputs": [],
   "source": [
    "point_cloud_0.nbytes # 32 MB"
   ]
  },
  {
   "cell_type": "code",
   "execution_count": null,
   "metadata": {},
   "outputs": [],
   "source": [
    "%%timeit\n",
    "point_cloud_1 = point_cloud_0.copy()"
   ]
  },
  {
   "cell_type": "code",
   "execution_count": null,
   "metadata": {},
   "outputs": [],
   "source": [
    "%%timeit\n",
    "point_cloud_1[:] = point_cloud_0[:]"
   ]
  },
  {
   "cell_type": "code",
   "execution_count": null,
   "metadata": {},
   "outputs": [],
   "source": [
    "%%timeit\n",
    "point_cloud_1[:] = point_cloud_0[:]\n",
    "point_cloud_3[:] = point_cloud_2[:]\n",
    "point_cloud_5[:] = point_cloud_4[:]"
   ]
  },
  {
   "cell_type": "code",
   "execution_count": null,
   "metadata": {},
   "outputs": [],
   "source": [
    "import threading\n",
    "import copy\n",
    "from loguru import logger\n",
    "\n",
    "def copy_values(a, b) -> None:\n",
    "    \"Copies the values of a to b.\"\n",
    "    # logger.info(f\"Thread {threading.current_thread().name} copying.\")\n",
    "    # These all seem to works and take 2 ms for a 32 MB array.\n",
    "    b[:] = a[:]\n",
    "    # b = copy.deepcopy(a)\n",
    "    # b = a.copy()\n",
    "    # b = np.copy(a)\n",
    "    # logger.info(f\"Thread {threading.current_thread().name} finished copying.\")"
   ]
  },
  {
   "cell_type": "code",
   "execution_count": null,
   "metadata": {},
   "outputs": [],
   "source": [
    "%%timeit\n",
    "t1 = threading.Thread(target=lambda: copy_values(point_cloud_0, point_cloud_1))\n",
    "t2 = threading.Thread(target=lambda: copy_values(point_cloud_2, point_cloud_3))\n",
    "t3 = threading.Thread(target=lambda: copy_values(point_cloud_4, point_cloud_5))\n",
    "\n",
    "\n",
    "t1.start()\n",
    "t2.start()\n",
    "t3.start()\n",
    "\n",
    "t1.join()\n",
    "t2.join()\n",
    "t3.join()"
   ]
  },
  {
   "cell_type": "code",
   "execution_count": null,
   "metadata": {},
   "outputs": [],
   "source": [
    "%%timeit\n",
    "point_cloud_6[:] = point_cloud_0[:]"
   ]
  },
  {
   "cell_type": "code",
   "execution_count": null,
   "metadata": {},
   "outputs": [],
   "source": [
    "%%timeit\n",
    "t1 = threading.Thread(target=lambda: copy_values(point_cloud_0, point_cloud_6))\n",
    "t1.start()\n",
    "# t1.join()"
   ]
  },
  {
   "cell_type": "code",
   "execution_count": null,
   "metadata": {},
   "outputs": [],
   "source": [
    "import time\n",
    "start_time = time.time()\n",
    "n_copies = 0\n",
    "\n",
    "while time.time() - start_time < 10:\n",
    "    copy_values(point_cloud_0, point_cloud_6)\n",
    "    n_copies += 1\n",
    "\n",
    "print(f\"Number of copies: {n_copies} (32 MB array, 10 seconds)\")\n",
    "print(f\"Speed in GB/s: {n_copies * point_cloud_0.nbytes / 1e9 / 10:.2f} GB/s\")"
   ]
  },
  {
   "cell_type": "code",
   "execution_count": null,
   "metadata": {},
   "outputs": [],
   "source": []
  }
 ],
 "metadata": {
  "kernelspec": {
   "display_name": "airo-mono",
   "language": "python",
   "name": "python3"
  },
  "language_info": {
   "codemirror_mode": {
    "name": "ipython",
    "version": 3
   },
   "file_extension": ".py",
   "mimetype": "text/x-python",
   "name": "python",
   "nbconvert_exporter": "python",
   "pygments_lexer": "ipython3",
   "version": "3.10.13"
  }
 },
 "nbformat": 4,
 "nbformat_minor": 2
}
