{
 "cells": [
  {
   "cell_type": "markdown",
   "metadata": {},
   "source": [
    "# Loading the reference images"
   ]
  },
  {
   "cell_type": "code",
   "execution_count": null,
   "metadata": {},
   "outputs": [],
   "source": [
    "import os\n",
    "import numpy as np\n",
    "from pathlib import Path\n",
    "import matplotlib.pyplot as plt\n",
    "\n",
    "from cloth_tools.dataset.format import load_competition_observation\n",
    "\n",
    "data_dir = Path(\"data\")\n",
    "dataset_dir = data_dir / \"cloth_competition_dataset_0001_segmented\"\n",
    "references_dir = data_dir / \"cloth_competition_references_0001\"\n",
    "info_csv = data_dir / \"cloth_competition_dataset_0001_info.csv\"\n"
   ]
  },
  {
   "cell_type": "markdown",
   "metadata": {},
   "source": []
  },
  {
   "cell_type": "code",
   "execution_count": null,
   "metadata": {},
   "outputs": [],
   "source": [
    "os.path.exists(references_dir)"
   ]
  },
  {
   "cell_type": "code",
   "execution_count": null,
   "metadata": {},
   "outputs": [],
   "source": [
    "reference_sample_dirs = [references_dir / dirname for dirname in sorted(os.listdir(references_dir))]\n",
    "reference_sample_dirs"
   ]
  },
  {
   "cell_type": "code",
   "execution_count": null,
   "metadata": {},
   "outputs": [],
   "source": [
    "reference_observation_dirs = [sample_dir / \"observation_result\" for sample_dir in reference_sample_dirs]\n",
    "\n",
    "# observation_dirs = [dataset_dir / ref_dir for ref_dir in sorted(os.listdir(dataset_dir))]\n",
    "len(reference_observation_dirs)"
   ]
  },
  {
   "cell_type": "code",
   "execution_count": null,
   "metadata": {},
   "outputs": [],
   "source": [
    "import json\n",
    "\n",
    "reference_images = {}\n",
    "reference_surface_areas = {}\n",
    "\n",
    "for cloth_id, observation_dir in enumerate(reference_observation_dirs):\n",
    "    observation = load_competition_observation(observation_dir)\n",
    "\n",
    "    results_file = observation_dir / \"result.json\"\n",
    "\n",
    "    if results_file.exists():\n",
    "        with open(results_file, \"r\") as f:\n",
    "            result = json.load(f)\n",
    "        surface_area = result[\"coverage\"]\n",
    "        reference_images[f\"Reference {cloth_id} ({surface_area:.3f} m2)\"] = observation.image_left\n",
    "        reference_surface_areas[cloth_id] = surface_area\n",
    "    else:\n",
    "        reference_images[f\"Reference {cloth_id}\"] = observation.image_left\n"
   ]
  },
  {
   "cell_type": "code",
   "execution_count": null,
   "metadata": {},
   "outputs": [],
   "source": [
    "import matplotlib.pyplot as plt\n",
    "\n",
    "def display_images(images_dict):\n",
    "    \"\"\"Displays reference images in a grid layout.\n",
    "\n",
    "    Args:\n",
    "        reference_images (dict): A dictionary where keys are cloth IDs and\n",
    "                                 values are the corresponding images.\n",
    "    \"\"\"\n",
    "\n",
    "    n_images = len(images_dict)\n",
    "    cols = 5  # Adjust the number of columns as desired\n",
    "    rows = (n_images // cols) + (n_images % cols > 0)  # Calculate rows for the grid\n",
    "\n",
    "    fig, axes = plt.subplots(nrows=rows, ncols=cols, figsize=(cols * 4, rows * 3))  # Create subplots\n",
    "\n",
    "    cloth_ids = list(images_dict.keys())\n",
    "    images = list(images_dict.values())\n",
    "\n",
    "    for i, ax in enumerate(axes.flat):\n",
    "        if i < n_images:\n",
    "            image = images[i]\n",
    "            cloth_id = cloth_ids[i]\n",
    "            ax.imshow(image)\n",
    "            ax.set_title(f\"{cloth_id}\")\n",
    "            ax.axis(\"off\")  # Hide unused subplots\n",
    "        # else:\n",
    "\n",
    "    plt.tight_layout()\n",
    "    plt.show()\n",
    "\n",
    "# Example usage with your dictionary:\n",
    "display_images(reference_images) "
   ]
  },
  {
   "cell_type": "code",
   "execution_count": null,
   "metadata": {},
   "outputs": [],
   "source": [
    "import pandas as pd\n",
    "\n",
    "# Read the CSV file into a DataFrame\n",
    "df_info = pd.read_csv(info_csv)\n",
    "\n",
    "df_info.head()"
   ]
  },
  {
   "cell_type": "code",
   "execution_count": null,
   "metadata": {},
   "outputs": [],
   "source": [
    "# TODO iterate over all sample dirs in cloth_competition_dataset_0001 and create dataframe with coverage etc, then merge with df\n",
    "\n",
    "sample_dirs = [dataset_dir / dirname for dirname in sorted(os.listdir(dataset_dir))]\n",
    "\n",
    "print(len(sample_dirs))"
   ]
  },
  {
   "cell_type": "code",
   "execution_count": null,
   "metadata": {},
   "outputs": [],
   "source": [
    "# result_observations = []\n",
    "result_images_dict = {}\n",
    "surface_areas = []\n",
    "\n",
    "for sample_dir in sample_dirs:\n",
    "    observation_results_dir = sample_dir / \"observation_result\"\n",
    "    observation = load_competition_observation(observation_results_dir)\n",
    "    result_images_dict[f\"{sample_dir.name}\"] = observation\n",
    "    # result_observations.append(observation)\n",
    "    results_file = observation_results_dir / \"result.json\"\n",
    "\n",
    "    with open(results_file, \"r\") as f:\n",
    "            result = json.load(f)\n",
    "    surface_area = result[\"coverage\"]\n",
    "    surface_areas.append(surface_area)\n",
    "\n",
    "df_surface_areas = pd.DataFrame({\"sample_id\": range(len(surface_areas)), \"surface_area\": surface_areas})\n",
    "df_surface_areas.head()"
   ]
  },
  {
   "cell_type": "code",
   "execution_count": null,
   "metadata": {},
   "outputs": [],
   "source": [
    "display_images(result_images_dict) "
   ]
  },
  {
   "cell_type": "code",
   "execution_count": null,
   "metadata": {},
   "outputs": [],
   "source": [
    "# merge dataframes on sample_id\n",
    "df_merge = pd.merge(df_info, df_surface_areas, on=\"sample_id\")\n",
    "df_merge.head()"
   ]
  },
  {
   "cell_type": "code",
   "execution_count": null,
   "metadata": {},
   "outputs": [],
   "source": [
    "# convert reference_surface_areas to dataframe and merge with df\n",
    "df_reference_surface_areas = pd.DataFrame({\"reference_id\": list(reference_surface_areas.keys()), \"reference_surface_area\": list(reference_surface_areas.values())})\n",
    "df_reference_surface_areas.head()"
   ]
  },
  {
   "cell_type": "code",
   "execution_count": null,
   "metadata": {},
   "outputs": [],
   "source": [
    "# merge dataframes on reference_id\n",
    "df = pd.merge(df_merge, df_reference_surface_areas, on=\"reference_id\")\n",
    "df.head()"
   ]
  },
  {
   "cell_type": "code",
   "execution_count": null,
   "metadata": {},
   "outputs": [],
   "source": [
    "# create a column that is surface area divided by reference surface area\n",
    "df[\"coverage\"] = df[\"surface_area\"] / df[\"reference_surface_area\"]\n",
    "df.head()"
   ]
  },
  {
   "cell_type": "code",
   "execution_count": null,
   "metadata": {},
   "outputs": [],
   "source": [
    "def reference_id_to_cloth_type(reference_id):\n",
    "    if reference_id <= 14:\n",
    "        return \"shirt\"\n",
    "    else:\n",
    "        return \"towel\"\n",
    "    \n",
    "# add a column for cloth type\n",
    "df[\"cloth_type\"] = df[\"reference_id\"].apply(reference_id_to_cloth_type)"
   ]
  },
  {
   "cell_type": "code",
   "execution_count": null,
   "metadata": {},
   "outputs": [],
   "source": [
    "import matplotlib.pyplot as plt\n",
    "\n",
    "# Filter the DataFrame for each cloth type\n",
    "shirts = df[df[\"cloth_type\"] == \"shirt\"][\"coverage\"]\n",
    "towels = df[df[\"cloth_type\"] == \"towel\"][\"coverage\"]\n",
    "\n",
    "# Create the figure and axes\n",
    "plt.figure(figsize=(12, 6))\n",
    "ax = plt.gca()  # Get the current Axes for customization\n",
    "\n",
    "# Plot the histograms\n",
    "plt.hist(shirts, bins=20, alpha=0.5, label=\"Shirts\", color=\"skyblue\", edgecolor=\"white\")\n",
    "plt.hist(towels, bins=20, alpha=0.5, label=\"Towels\", color=\"lightcoral\", edgecolor=\"white\")\n",
    "\n",
    "# Add titles and labels\n",
    "plt.title(\"Coverage Distribution by Cloth Type\", fontsize=14)\n",
    "plt.xlabel(\"Coverage\", fontsize=12)\n",
    "plt.ylabel(\"Frequency\", fontsize=12)\n",
    "plt.legend(fontsize=12)  # Add a legend to distinguish the histograms\n",
    "\n",
    "# Customize appearance\n",
    "plt.grid(axis='y', alpha=0.75)\n",
    "plt.xticks(fontsize=10)\n",
    "plt.yticks(fontsize=10)\n",
    "ax.spines['top'].set_visible(False)\n",
    "ax.spines['right'].set_visible(False)\n",
    "\n",
    "# Show the plot\n",
    "plt.show()\n"
   ]
  },
  {
   "cell_type": "code",
   "execution_count": null,
   "metadata": {},
   "outputs": [],
   "source": [
    "df[\"coverage\"].describe()"
   ]
  },
  {
   "cell_type": "code",
   "execution_count": null,
   "metadata": {},
   "outputs": [],
   "source": [
    "df[\"grasp_success\"].describe()"
   ]
  },
  {
   "cell_type": "code",
   "execution_count": null,
   "metadata": {},
   "outputs": [],
   "source": [
    "# average grasp success rate\n",
    "df[\"grasp_success\"].mean()"
   ]
  },
  {
   "cell_type": "code",
   "execution_count": null,
   "metadata": {},
   "outputs": [],
   "source": [
    "df.groupby(\"cloth_type\")[\"coverage\"].mean()"
   ]
  },
  {
   "cell_type": "code",
   "execution_count": null,
   "metadata": {},
   "outputs": [],
   "source": [
    "import matplotlib.pyplot as plt\n",
    "import numpy as np\n",
    "\n",
    "# Filter data for success and failure\n",
    "success_coverages = df[df['grasp_success'] >= 0.5]['coverage']  # Assuming success if >= 0.5\n",
    "failure_coverages = df[df['grasp_success'] < 0.5]['coverage']\n",
    "\n",
    "# Create figure and axes\n",
    "plt.figure(figsize=(12, 6))\n",
    "ax = plt.gca()\n",
    "\n",
    "# Plot histograms with different colors for clarity\n",
    "plt.hist(success_coverages, bins=20, alpha=0.5, label=\"Success\", color=\"green\", edgecolor=\"white\")\n",
    "plt.hist(failure_coverages, bins=10, alpha=0.5, label=\"Failure\", color=\"red\", edgecolor=\"white\")\n",
    "\n",
    "# Add labels, title, and legend\n",
    "plt.title(\"Coverage Distribution by Grasp Success\", fontsize=14)\n",
    "plt.xlabel(\"Coverage\", fontsize=12)\n",
    "plt.ylabel(\"Frequency\", fontsize=12)\n",
    "plt.legend(fontsize=12)\n",
    "\n",
    "# Customize appearance\n",
    "plt.grid(axis='y', alpha=0.75)\n",
    "plt.xticks(fontsize=10)\n",
    "plt.yticks(fontsize=10)\n",
    "ax.spines['top'].set_visible(False)\n",
    "ax.spines['right'].set_visible(False)\n",
    "\n",
    "# Show the plot\n",
    "plt.show()\n"
   ]
  },
  {
   "cell_type": "code",
   "execution_count": null,
   "metadata": {},
   "outputs": [],
   "source": [
    "import numpy as np\n",
    "\n",
    "# Filter data for success and failure (same as before)\n",
    "success_coverages = df[df['grasp_success'] >= 0.5]['coverage']\n",
    "failure_coverages = df[df['grasp_success'] < 0.5]['coverage']\n",
    "\n",
    "# Calculate mean and standard deviation\n",
    "success_mean = np.mean(success_coverages)\n",
    "success_std = np.std(success_coverages)\n",
    "failure_mean = np.mean(failure_coverages)\n",
    "failure_std = np.std(failure_coverages)\n",
    "\n",
    "# Display the results (formatted for clarity)\n",
    "print(f\"Success - Mean Coverage: {success_mean:.2f}, Std Dev: {success_std:.2f}\")\n",
    "print(f\"Failure - Mean Coverage: {failure_mean:.2f}, Std Dev: {failure_std:.2f}\")"
   ]
  },
  {
   "cell_type": "code",
   "execution_count": null,
   "metadata": {},
   "outputs": [],
   "source": [
    "import pandas as pd\n",
    "\n",
    "# Group by reference_id and calculate average and standard deviation\n",
    "average_coverage_per_item = df.groupby(\"reference_id\")[\"coverage\"].agg(\n",
    "    [\"mean\", \"std\"]\n",
    ")\n",
    "\n",
    "# Rename columns for clarity\n",
    "average_coverage_per_item.columns = [\"Mean Coverage\", \"Std Dev Coverage\"]\n",
    "\n",
    "# Round values to 2 decimal places\n",
    "average_coverage_per_item = average_coverage_per_item.round(2)\n",
    "\n",
    "# Display in a formatted table (markdown)\n",
    "print(average_coverage_per_item.to_markdown(numalign=\"left\", stralign=\"left\"))"
   ]
  },
  {
   "cell_type": "code",
   "execution_count": null,
   "metadata": {},
   "outputs": [],
   "source": [
    "import pandas as pd\n",
    "\n",
    "# Define a function to calculate the success rate.\n",
    "def success_rate(series):\n",
    "    return (series >= 0.5).mean()\n",
    "\n",
    "# Group by 'reference_id' and calculate success rate.\n",
    "success_rate_per_item = df.groupby('reference_id')['grasp_success'].agg(success_rate)\n",
    "\n",
    "# Rename the column.\n",
    "success_rate_per_item.name = 'Success Rate'\n",
    "\n",
    "# Round the values to 3 decimal places and multiply by 100 to get a percentage.\n",
    "success_rate_per_item = (success_rate_per_item * 100).round(0)\n",
    "\n",
    "# Print the results in markdown.\n",
    "print(success_rate_per_item.to_markdown(numalign='left', stralign='left'))"
   ]
  },
  {
   "cell_type": "code",
   "execution_count": null,
   "metadata": {},
   "outputs": [],
   "source": [
    "# Create a new column to represent success or failure\n",
    "df[\"grasp_result\"] = df[\"grasp_success\"].apply(\n",
    "    lambda x: \"Success\" if x >= 0.5 else \"Failure\"\n",
    ")  # Assuming success if >= 0.5, adjust if needed\n",
    "\n",
    "\n",
    "# Group by cloth_type and grasp_result, and calculate average coverage\n",
    "average_coverage_per_cloth_type = df.groupby([\"cloth_type\", \"grasp_result\"])[\n",
    "    \"coverage\"\n",
    "].mean()\n",
    "\n",
    "# Convert Series to DataFrame for better formatting\n",
    "average_coverage_per_cloth_type_df = average_coverage_per_cloth_type.reset_index()\n",
    "\n",
    "# Pivot the DataFrame to get grasp_result as columns\n",
    "average_coverage_per_cloth_type_df = average_coverage_per_cloth_type_df.pivot(\n",
    "    index=\"cloth_type\", columns=\"grasp_result\", values=\"coverage\"\n",
    ")\n",
    "\n",
    "average_coverage_per_cloth_type_df = average_coverage_per_cloth_type_df.round(2)\n",
    "\n",
    "\n",
    "# Display the results in a table\n",
    "print(average_coverage_per_cloth_type_df.to_markdown(numalign='left', stralign='left'))"
   ]
  },
  {
   "cell_type": "code",
   "execution_count": null,
   "metadata": {},
   "outputs": [],
   "source": [
    "import seaborn as sns\n",
    "import matplotlib.pyplot as plt\n",
    "\n",
    "\n",
    "\n",
    "# Create the swarm plot\n",
    "plt.figure(figsize=(3.5, 8), dpi=100)  # Adjust the figure size as needed\n",
    "\n",
    "sns.violinplot(y=\"coverage\", data=df, density_norm=\"area\", color=\"#FFFFFF\", bw_adjust=0.8, linecolor=\"#c9c9c9\", inner=None)\n",
    "\n",
    "\n",
    "palette = [\"#ed5651\", \"#4dbf6b\"]\n",
    "\n",
    "sns.swarmplot(y=\"coverage\", data=df, hue='grasp_success', size=8, palette=palette, warn_thresh=0.0)\n",
    "# sns.swarmplot(x=\"team_name\", y=\"coverage\", data=merged_df, order=teams, hue='cloth_type', size=6)\n",
    "\n",
    "# Add title and labels\n",
    "plt.title(\"Coverage Distribution\", fontsize=14)\n",
    "plt.xlabel(\"\")\n",
    "plt.ylabel(\"Coverage\", fontsize=12)\n",
    "plt.xticks(rotation=20)  # Rotate x-axis labels if needed\n",
    "\n",
    "plt.legend(title='Successful grasp', bbox_to_anchor=(1, 1), loc='upper left') \n",
    "\n",
    "plt.grid(axis='y', alpha=0.25)  # 'alpha' controls the transparency of the grid lines\n",
    "\n",
    "\n",
    "# make the y-axis 0 to 1\n",
    "plt.ylim([0, 1.03])"
   ]
  },
  {
   "cell_type": "code",
   "execution_count": null,
   "metadata": {},
   "outputs": [],
   "source": [
    "# find the sample with minimum coverage\n",
    "min_coverage = df[\"coverage\"].min()\n",
    "min_coverage_sample = df[df[\"coverage\"] == min_coverage]\n",
    "min_coverage_sample"
   ]
  }
 ],
 "metadata": {
  "kernelspec": {
   "display_name": "cloth-competition",
   "language": "python",
   "name": "python3"
  },
  "language_info": {
   "codemirror_mode": {
    "name": "ipython",
    "version": 3
   },
   "file_extension": ".py",
   "mimetype": "text/x-python",
   "name": "python",
   "nbconvert_exporter": "python",
   "pygments_lexer": "ipython3",
   "version": "3.10.14"
  }
 },
 "nbformat": 4,
 "nbformat_minor": 2
}
