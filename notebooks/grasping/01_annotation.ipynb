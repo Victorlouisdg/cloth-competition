{
 "cells": [
  {
   "cell_type": "markdown",
   "metadata": {},
   "source": [
    "# Grasp annotation example"
   ]
  },
  {
   "cell_type": "code",
   "execution_count": null,
   "metadata": {},
   "outputs": [],
   "source": [
    "from pathlib import Path\n",
    "from typing import List\n",
    "\n",
    "import numpy as np\n",
    "import open3d as o3d\n",
    "import rerun as rr\n",
    "from airo_camera_toolkit.point_clouds.conversions import open3d_to_point_cloud, point_cloud_to_open3d\n",
    "from airo_camera_toolkit.point_clouds.operations import filter_point_cloud\n",
    "from airo_models.primitives.mesh import mesh_urdf_path\n",
    "from airo_typing import HomogeneousMatrixType, JointConfigurationType\n",
    "from cloth_tools.bounding_boxes import BBOX_CLOTH_IN_THE_AIR, bbox_to_mins_and_sizes\n",
    "from cloth_tools.dataset.format import load_competition_input_sample\n",
    "from cloth_tools.drake.building import add_meshcat_to_builder, finish_build\n",
    "from cloth_tools.drake.scenes import add_dual_ur5e_and_table_to_builder\n",
    "from cloth_tools.drake.visualization import add_meshcat_triad, publish_dual_arm_joint_path, publish_ik_solutions\n",
    "from cloth_tools.ompl.dual_arm_planner import DualArmOmplPlanner\n",
    "from cloth_tools.point_clouds.operations import filter_and_crop_point_cloud\n",
    "from pydrake.math import RigidTransform, RollPitchYaw\n",
    "from pydrake.planning import RobotDiagramBuilder, SceneGraphCollisionChecker\n",
    "from ur_analytic_ik import ur5e\n",
    "import matplotlib.pyplot as plt\n",
    "from cloth_tools.dataset.format import load_competition_input_sample\n",
    "from typing import Tuple\n",
    "from airo_camera_toolkit.utils.image_converter import ImageConverter\n",
    "from airo_typing import OpenCVIntImageType\n",
    "import cv2\n",
    "\n",
    "data_dir = Path(\"../data\")\n",
    "dataset_dir = data_dir / \"competition_dev\""
   ]
  },
  {
   "cell_type": "code",
   "execution_count": null,
   "metadata": {},
   "outputs": [],
   "source": [
    "sample = load_competition_input_sample(dataset_dir, sample_index=0)"
   ]
  },
  {
   "cell_type": "code",
   "execution_count": null,
   "metadata": {},
   "outputs": [],
   "source": [
    "plt.figure(figsize=(20, 10))\n",
    "plt.subplot(1, 2, 1)\n",
    "plt.imshow(sample.image_left);"
   ]
  },
  {
   "cell_type": "code",
   "execution_count": null,
   "metadata": {},
   "outputs": [],
   "source": [
    "confidence_map = sample.confidence_map\n",
    "point_cloud_in_camera = sample.point_cloud\n",
    "\n",
    "pcd_in_camera = point_cloud_to_open3d(point_cloud_in_camera) # X_C_PC, need X_W_C\n",
    "\n",
    "# TODO change how camera_pose is saved\n",
    "# TODO clarify somewhere what the world frame is to simplify all these transformations\n",
    "camera_pose = sample.camera_pose # X_LCB_C (camera pose in the left-arm base frame)\n",
    "X_LCB_C = camera_pose\n",
    "\n",
    "y_distance = 0.45\n",
    "X_W_L = RigidTransform(rpy=RollPitchYaw([0, 0, np.pi / 2]), p=[0, y_distance, 0]).GetAsMatrix4()\n",
    "X_W_R = RigidTransform(rpy=RollPitchYaw([0, 0, np.pi / 2]), p=[0, -y_distance, 0]).GetAsMatrix4()\n",
    "X_CB_B = RigidTransform(rpy=RollPitchYaw([0, 0, np.pi]), p=[0, 0, 0]).GetAsMatrix4()\n",
    "X_LCB_W = X_CB_B @ np.linalg.inv(X_W_L)\n",
    "X_RCB_W = X_CB_B @ np.linalg.inv(X_W_R)\n",
    "X_W_C = np.linalg.inv(X_LCB_W) @ X_LCB_C\n",
    "\n",
    "pcd = pcd_in_camera.transform(X_W_C) # transform to world frame\n",
    "point_cloud = open3d_to_point_cloud(pcd)\n",
    "\n",
    "confidence_threshold = 1.0\n",
    "confidence_mask = (confidence_map <= confidence_threshold).reshape(-1)  # Threshold and flatten\n",
    "point_cloud_filtered = filter_point_cloud(point_cloud, confidence_mask)"
   ]
  },
  {
   "cell_type": "code",
   "execution_count": null,
   "metadata": {},
   "outputs": [],
   "source": [
    "pcd_filtered = point_cloud_to_open3d(point_cloud_filtered)\n",
    "\n",
    "resolution = sample.camera_resolution\n",
    "intrinsics = sample.camera_intrinsics.astype(np.float32)\n",
    "\n",
    "X = np.array([1, 0, 0])\n",
    "Z = np.array([0, 0, -1])\n",
    "Y = np.cross(Z, X)\n",
    "orientation = np.column_stack([X, Y, Z])\n",
    "\n",
    "position = np.array([0, 0, 2.0])\n",
    "\n",
    "camera_pose_top_down = np.identity(4)\n",
    "camera_pose_top_down[:3, :3] = orientation\n",
    "camera_pose_top_down[:3, 3] = position\n",
    "\n",
    "# pcd_in_camera.point.positions = o3d.core.Tensor(pcd_in_camera.point.positions.numpy().astype(np.float32))\n",
    "\n",
    "\n",
    "camera_pose_top_down = camera_pose_top_down.astype(np.float32)\n",
    "\n",
    "# rgbd_image = pcd_filtered.project_to_rgbd_image(*resolution, sample.camera_intrinsics, extrinsics=np.linalg.inv(camera_pose_top_down))"
   ]
  },
  {
   "cell_type": "code",
   "execution_count": null,
   "metadata": {},
   "outputs": [],
   "source": [
    "rr.init(\"Grasp Annotation - Point cloud\", spawn=True)\n",
    "\n",
    "rr_point_cloud = rr.Points3D(positions=point_cloud_filtered.points, colors=point_cloud_filtered.colors)\n",
    "rr.log(\"world/point_cloud\", rr_point_cloud)"
   ]
  },
  {
   "cell_type": "code",
   "execution_count": null,
   "metadata": {},
   "outputs": [],
   "source": [
    "line_type = cv2.LINE_AA\n",
    "point_size = 15\n",
    "point_thickness = 2\n",
    "\n",
    "window_frontal = \"Grasp Annotation - Frontal view\"\n",
    "window_topdown = \"Grasp Annotation - Topdown view\"\n",
    "windows = [window_frontal, window_topdown]\n",
    "\n",
    "h = 600\n",
    "w = int(1.5 * h)\n",
    "cv2.namedWindow(window_frontal, cv2.WINDOW_NORMAL)\n",
    "cv2.namedWindow(window_topdown, cv2.WINDOW_NORMAL)\n",
    "cv2.resizeWindow(window_frontal, w, h)\n",
    "cv2.resizeWindow(window_topdown, h, h)\n",
    "cv2.moveWindow(window_frontal, 0, 0)\n",
    "cv2.moveWindow(window_topdown, w + 80, 0)\n",
    "\n",
    "clicked_point = {\n",
    "    window_frontal: None,\n",
    "    window_topdown: None\n",
    "}\n",
    "\n",
    "def callback_frontal(event, x, y, flags, param):\n",
    "    if event == cv2.EVENT_LBUTTONDOWN:\n",
    "        print(f\"Frontal view: click at ({x}, {y})\")\n",
    "        clicked_point[window_frontal] = (x, y)\n",
    "    if event == cv2.EVENT_RBUTTONDOWN:\n",
    "        print(f\"Frontal view: removed click.\")\n",
    "        clicked_point[window_frontal] = None\n",
    "\n",
    "def callback_topdown(event, x, y, flags, param):\n",
    "    if event == cv2.EVENT_LBUTTONDOWN:\n",
    "        print(f\"Topdown view: click at ({x}, {y})\")\n",
    "        clicked_point[window_topdown] = (x, y)\n",
    "    if event == cv2.EVENT_RBUTTONDOWN:\n",
    "        print(f\"Topdown view: removed click.\")\n",
    "        clicked_point[window_topdown] = None\n",
    "\n",
    "def draw_point(image: OpenCVIntImageType, point: tuple[int, int], color: tuple[int, int, int] = (0, 255, 0)):\n",
    "    cv2.circle(image, point, point_size, color, point_thickness, line_type)\n",
    "\n",
    "\n",
    "cv2.setMouseCallback(window_frontal, callback_frontal)\n",
    "cv2.setMouseCallback(window_topdown, callback_topdown)\n",
    "\n",
    "while True:\n",
    "    image = ImageConverter.from_numpy_int_format(sample.image_left).image_in_opencv_format\n",
    "\n",
    "    image_frontal = image.copy()\n",
    "    image_topdown = image.copy()\n",
    "\n",
    "    if clicked_point[window_frontal] is not None:\n",
    "        draw_point(image_frontal, clicked_point[window_frontal])\n",
    "\n",
    "    if clicked_point[window_topdown] is not None:\n",
    "        draw_point(image_topdown, clicked_point[window_topdown])\n",
    "\n",
    "    cv2.imshow(window_frontal, image_frontal)\n",
    "    cv2.imshow(window_topdown, image_topdown)\n",
    "    key = cv2.waitKey(10)\n",
    "    if key== ord('q'):\n",
    "        cv2.destroyAllWindows()\n",
    "        break"
   ]
  },
  {
   "cell_type": "code",
   "execution_count": null,
   "metadata": {},
   "outputs": [],
   "source": []
  },
  {
   "cell_type": "code",
   "execution_count": null,
   "metadata": {},
   "outputs": [],
   "source": []
  }
 ],
 "metadata": {
  "kernelspec": {
   "display_name": "cloth-competition",
   "language": "python",
   "name": "python3"
  },
  "language_info": {
   "codemirror_mode": {
    "name": "ipython",
    "version": 3
   },
   "file_extension": ".py",
   "mimetype": "text/x-python",
   "name": "python",
   "nbconvert_exporter": "python",
   "pygments_lexer": "ipython3",
   "version": "3.10.13"
  }
 },
 "nbformat": 4,
 "nbformat_minor": 2
}
