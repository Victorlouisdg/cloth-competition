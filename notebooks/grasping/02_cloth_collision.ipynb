{
 "cells": [
  {
   "cell_type": "markdown",
   "metadata": {},
   "source": [
    "load pointcloud -> crop -> convex hull -> save as URDF -> load into Drake"
   ]
  },
  {
   "cell_type": "code",
   "execution_count": null,
   "metadata": {},
   "outputs": [],
   "source": [
    "from pathlib import Path\n",
    "from typing import List\n",
    "\n",
    "import numpy as np\n",
    "import open3d as o3d\n",
    "import rerun as rr\n",
    "from airo_camera_toolkit.point_clouds.conversions import open3d_to_point_cloud, point_cloud_to_open3d\n",
    "from airo_camera_toolkit.point_clouds.operations import filter_point_cloud\n",
    "from airo_models.primitives.mesh import mesh_urdf_path\n",
    "from airo_models.primitives.box import box_urdf_path\n",
    "from airo_typing import HomogeneousMatrixType, JointConfigurationType\n",
    "from cloth_tools.bounding_boxes import BBOX_CLOTH_IN_THE_AIR, bbox_to_mins_and_sizes\n",
    "from cloth_tools.dataset.format import load_competition_input_sample\n",
    "from cloth_tools.drake.building import add_meshcat_to_builder, finish_build\n",
    "from cloth_tools.drake.scenes import add_dual_ur5e_and_table_to_builder\n",
    "from cloth_tools.drake.visualization import add_meshcat_triad, publish_dual_arm_joint_path, publish_ik_solutions\n",
    "from cloth_tools.ompl.dual_arm_planner import DualArmOmplPlanner\n",
    "from cloth_tools.point_clouds.operations import filter_and_crop_point_cloud\n",
    "from pydrake.math import RigidTransform, RollPitchYaw\n",
    "from pydrake.planning import RobotDiagramBuilder, SceneGraphCollisionChecker\n",
    "from ur_analytic_ik import ur5e\n",
    "\n",
    "data_dir = Path(\"../data\")\n",
    "dataset_dir = data_dir / \"dataset_0000\""
   ]
  },
  {
   "cell_type": "code",
   "execution_count": null,
   "metadata": {},
   "outputs": [],
   "source": [
    "sample = load_competition_input_sample(dataset_dir, sample_index=0)\n",
    "\n",
    "confidence_map = sample.confidence_map\n",
    "point_cloud_in_camera = sample.point_cloud"
   ]
  },
  {
   "cell_type": "code",
   "execution_count": null,
   "metadata": {},
   "outputs": [],
   "source": [
    "pcd_in_camera = point_cloud_to_open3d(point_cloud_in_camera)  # X_C_PC, need X_W_C\n",
    "\n",
    "X_W_C = sample.camera_pose_in_world  # X_LCB_C (camera pose in the left-arm base frame)\n",
    "pcd = pcd_in_camera.transform(X_W_C)  # transform to world frame"
   ]
  },
  {
   "cell_type": "code",
   "execution_count": null,
   "metadata": {},
   "outputs": [],
   "source": [
    "point_cloud = open3d_to_point_cloud(pcd)\n",
    "\n",
    "confidence_threshold = 1.0\n",
    "confidence_mask = (confidence_map <= confidence_threshold).reshape(-1)  # Threshold and flatten\n",
    "point_cloud_filtered = filter_point_cloud(point_cloud, confidence_mask)\n",
    "\n",
    "bbox = BBOX_CLOTH_IN_THE_AIR\n",
    "\n",
    "point_cloud_cropped = filter_and_crop_point_cloud(point_cloud, confidence_map, bbox)"
   ]
  },
  {
   "cell_type": "code",
   "execution_count": null,
   "metadata": {},
   "outputs": [],
   "source": [
    "pcd_cropped = point_cloud_to_open3d(point_cloud_cropped)\n",
    "\n",
    "bbox_o3d = o3d.geometry.AxisAlignedBoundingBox(*bbox)\n",
    "bbox_o3d.color = (1.0, 0.0, 1.0)\n",
    "\n",
    "o3d.visualization.draw_geometries([pcd_cropped.to_legacy(), bbox_o3d])"
   ]
  },
  {
   "cell_type": "code",
   "execution_count": null,
   "metadata": {},
   "outputs": [],
   "source": [
    "hull = pcd_cropped.compute_convex_hull()"
   ]
  },
  {
   "cell_type": "code",
   "execution_count": null,
   "metadata": {},
   "outputs": [],
   "source": [
    "o3d.visualization.draw_geometries([pcd_cropped.to_legacy(), hull.to_legacy(), bbox_o3d])"
   ]
  },
  {
   "cell_type": "code",
   "execution_count": null,
   "metadata": {},
   "outputs": [],
   "source": [
    "# make the hull a bit bigger to avoid collisions\n",
    "hull.scale(1.2, hull.get_center())"
   ]
  },
  {
   "cell_type": "code",
   "execution_count": null,
   "metadata": {},
   "outputs": [],
   "source": [
    "hull_ls = o3d.geometry.LineSet.create_from_triangle_mesh(hull.to_legacy())\n",
    "hull_ls.paint_uniform_color((1, 0, 0))\n",
    "o3d.visualization.draw_geometries([pcd_cropped.to_legacy(), hull_ls, bbox_o3d])"
   ]
  },
  {
   "cell_type": "code",
   "execution_count": null,
   "metadata": {},
   "outputs": [],
   "source": [
    "window_name = \"convex_hull\"\n",
    "rr.init(window_name, spawn=True)"
   ]
  },
  {
   "cell_type": "code",
   "execution_count": null,
   "metadata": {},
   "outputs": [],
   "source": [
    "rr_point_cloud = rr.Points3D(positions=point_cloud_filtered.points, colors=point_cloud_filtered.colors)\n",
    "rr.log(\"world/point_cloud\", rr_point_cloud)"
   ]
  },
  {
   "cell_type": "code",
   "execution_count": null,
   "metadata": {},
   "outputs": [],
   "source": [
    "bbox = BBOX_CLOTH_IN_THE_AIR\n",
    "bbox_color = (122, 173, 255)  # blue\n",
    "bbox_mins, bbox_sizes = bbox_to_mins_and_sizes(bbox)\n",
    "rr_bbox = rr.Boxes3D(mins=bbox_mins, sizes=bbox_sizes, colors=bbox_color)\n",
    "rr.log(\"world/bbox\", rr_bbox)"
   ]
  },
  {
   "cell_type": "code",
   "execution_count": null,
   "metadata": {},
   "outputs": [],
   "source": [
    "hull.compute_vertex_normals()"
   ]
  },
  {
   "cell_type": "code",
   "execution_count": null,
   "metadata": {},
   "outputs": [],
   "source": [
    "hull_color = (1.0, 0.2, 0.0, 0.5)\n",
    "\n",
    "rr_mesh_material = rr.Material(hull_color)\n",
    "rr_mesh = rr.Mesh3D(\n",
    "    vertex_positions=hull.vertex.positions.numpy(),\n",
    "    vertex_normals=hull.vertex.normals.numpy(),\n",
    "    indices=hull.triangle.indices.numpy(),\n",
    "    mesh_material=rr_mesh_material,\n",
    ")\n",
    "\n",
    "rr.log(\"world/hull\", rr_mesh)"
   ]
  },
  {
   "cell_type": "code",
   "execution_count": null,
   "metadata": {},
   "outputs": [],
   "source": [
    "# save hull as .obj\n",
    "hull_path = data_dir / \"hull.obj\"\n",
    "o3d.t.io.write_triangle_mesh(str(hull_path), hull)"
   ]
  },
  {
   "cell_type": "code",
   "execution_count": null,
   "metadata": {},
   "outputs": [],
   "source": [
    "import tempfile\n",
    "\n",
    "file = tempfile.NamedTemporaryFile(prefix=\"cloth_hull_\", suffix=\".obj\", delete=False)\n",
    "filename = file.name\n",
    "filename"
   ]
  },
  {
   "cell_type": "code",
   "execution_count": null,
   "metadata": {},
   "outputs": [],
   "source": [
    "o3d.t.io.write_triangle_mesh(filename, hull)"
   ]
  },
  {
   "cell_type": "code",
   "execution_count": null,
   "metadata": {},
   "outputs": [],
   "source": [
    "hull_loaded = o3d.t.io.read_triangle_mesh(filename)\n",
    "# hull_loaded.vertex.normals"
   ]
  },
  {
   "cell_type": "code",
   "execution_count": null,
   "metadata": {},
   "outputs": [],
   "source": [
    "hull_legacy = hull_loaded.to_legacy()\n",
    "hull_legacy.has_vertex_normals()\n",
    "hull_legacy.compute_vertex_normals()\n",
    "# hull_legacy.vertex_normals = o3d.utility.Vector3dVector([])"
   ]
  },
  {
   "cell_type": "code",
   "execution_count": null,
   "metadata": {},
   "outputs": [],
   "source": [
    "o3d.visualization.draw_geometries([hull_legacy])"
   ]
  },
  {
   "cell_type": "code",
   "execution_count": null,
   "metadata": {},
   "outputs": [],
   "source": [
    "path = mesh_urdf_path(filename, \"cloth_hull\")\n",
    "path"
   ]
  },
  {
   "cell_type": "code",
   "execution_count": null,
   "metadata": {},
   "outputs": [],
   "source": [
    "safety_wall = box_urdf_path((0.2, 0.05, 0.3), \"safety_wall\")"
   ]
  },
  {
   "cell_type": "code",
   "execution_count": null,
   "metadata": {},
   "outputs": [],
   "source": [
    "robot_diagram_builder = RobotDiagramBuilder()\n",
    "meshcat = add_meshcat_to_builder(robot_diagram_builder)\n",
    "arm_indices, gripper_indices = add_dual_ur5e_and_table_to_builder(robot_diagram_builder)\n",
    "\n",
    "# Add the cloth hull to the scene\n",
    "plant = robot_diagram_builder.plant()\n",
    "parser = robot_diagram_builder.parser()\n",
    "hull_index = parser.AddModels(path)[0]\n",
    "safety_wall_index = parser.AddModels(safety_wall)[0]\n",
    "\n",
    "world_frame = plant.world_frame()\n",
    "hull_frame = plant.GetFrameByName(\"base_link\", hull_index)\n",
    "safety_wall_frame = plant.GetFrameByName(\"base_link\", safety_wall_index)\n",
    "\n",
    "safety_wall_transform = RigidTransform(p=[0.0, -0.15, 0.85])  # move the safety wall to the right of the table\n",
    "plant.WeldFrames(world_frame, hull_frame)\n",
    "plant.WeldFrames(world_frame, safety_wall_frame, safety_wall_transform)\n",
    "\n",
    "diagram, context = finish_build(robot_diagram_builder, meshcat)\n",
    "plant = diagram.plant()\n",
    "plant_context = plant.GetMyContextFromRoot(context)"
   ]
  },
  {
   "cell_type": "code",
   "execution_count": null,
   "metadata": {},
   "outputs": [],
   "source": [
    "collision_checker = SceneGraphCollisionChecker(\n",
    "    model=diagram,\n",
    "    robot_model_instances=[*arm_indices, *gripper_indices],\n",
    "    edge_step_size=0.125,  # Arbitrary value: we don't use the CheckEdgeCollisionFree\n",
    "    env_collision_padding=0.005,\n",
    "    self_collision_padding=0.005,\n",
    ")"
   ]
  },
  {
   "cell_type": "code",
   "execution_count": null,
   "metadata": {},
   "outputs": [],
   "source": [
    "start_joints_left = np.deg2rad([0, -100, -20, -90, 90, 0])\n",
    "start_joints_right = np.deg2rad([-180, -45, -95, -130, 90, 90])\n",
    "# goal_joints_right = np.deg2rad([-100, -116, -110, -133, 40, 0])\n",
    "\n",
    "plant = diagram.plant()\n",
    "plant_context = plant.GetMyContextFromRoot(context)\n",
    "\n",
    "arm_left_index, arm_right_index = arm_indices\n",
    "plant.SetPositions(plant_context, arm_left_index, start_joints_left)\n",
    "plant.SetPositions(plant_context, arm_right_index, start_joints_right)\n",
    "diagram.ForcedPublish(context)"
   ]
  },
  {
   "cell_type": "code",
   "execution_count": null,
   "metadata": {},
   "outputs": [],
   "source": [
    "Z = np.array([1, 0, 0])\n",
    "X = np.array([0, 1, 0])\n",
    "Y = np.cross(Z, X)\n",
    "orientation = np.column_stack([X, Y, Z])\n",
    "\n",
    "position = np.array([-0.2, -0.15, 0.24])\n",
    "\n",
    "pregrasp_pose = np.identity(4)\n",
    "pregrasp_pose[:3, :3] = orientation\n",
    "pregrasp_pose[:3, 3] = position\n",
    "\n",
    "add_meshcat_triad(meshcat, \"pregrasp_pose\", X_W_Triad=pregrasp_pose, length=0.1)"
   ]
  },
  {
   "cell_type": "code",
   "execution_count": null,
   "metadata": {},
   "outputs": [],
   "source": [
    "from functools import partial\n",
    "\n",
    "\n",
    "tcp_transform = np.identity(4)\n",
    "tcp_transform[2, 3] = 0.175\n",
    "\n",
    "\n",
    "def inverse_kinematics_in_world_fn(\n",
    "    tcp_pose: HomogeneousMatrixType, X_W_CB: HomogeneousMatrixType\n",
    ") -> List[JointConfigurationType]:\n",
    "    X_W_TCP = tcp_pose\n",
    "    X_CB_W = np.linalg.inv(X_W_CB)\n",
    "    solutions_1x6 = ur5e.inverse_kinematics_with_tcp(X_CB_W @ X_W_TCP, tcp_transform)\n",
    "    solutions = [solution.squeeze() for solution in solutions_1x6]\n",
    "    return solutions\n",
    "\n",
    "\n",
    "X_W_LCB = sample.left_arm_pose_in_world\n",
    "X_W_RCB = sample.right_arm_pose_in_world\n",
    "\n",
    "inverse_kinematics_left_fn = partial(inverse_kinematics_in_world_fn, X_W_CB=X_W_LCB)\n",
    "inverse_kinematics_right_fn = partial(inverse_kinematics_in_world_fn, X_W_CB=X_W_RCB)\n",
    "\n",
    "\n",
    "solutions_right = inverse_kinematics_right_fn(pregrasp_pose)\n",
    "publish_ik_solutions(solutions_right, 2.0, meshcat, diagram, context, arm_right_index)"
   ]
  },
  {
   "cell_type": "code",
   "execution_count": null,
   "metadata": {},
   "outputs": [],
   "source": [
    "planner = DualArmOmplPlanner(\n",
    "    collision_checker.CheckConfigCollisionFree, inverse_kinematics_left_fn, inverse_kinematics_right_fn\n",
    ")\n",
    "path = planner.plan_to_tcp_pose(start_joints_left, start_joints_right, None, pregrasp_pose)"
   ]
  },
  {
   "cell_type": "code",
   "execution_count": null,
   "metadata": {},
   "outputs": [],
   "source": [
    "publish_dual_arm_joint_path(path, 5.0, meshcat, diagram, context, arm_left_index, arm_right_index)"
   ]
  },
  {
   "cell_type": "code",
   "execution_count": null,
   "metadata": {},
   "outputs": [],
   "source": []
  },
  {
   "cell_type": "code",
   "execution_count": null,
   "metadata": {},
   "outputs": [],
   "source": []
  }
 ],
 "metadata": {
  "kernelspec": {
   "display_name": "cloth-competition",
   "language": "python",
   "name": "python3"
  },
  "language_info": {
   "codemirror_mode": {
    "name": "ipython",
    "version": 3
   },
   "file_extension": ".py",
   "mimetype": "text/x-python",
   "name": "python",
   "nbconvert_exporter": "python",
   "pygments_lexer": "ipython3",
   "version": "3.10.13"
  }
 },
 "nbformat": 4,
 "nbformat_minor": 2
}
