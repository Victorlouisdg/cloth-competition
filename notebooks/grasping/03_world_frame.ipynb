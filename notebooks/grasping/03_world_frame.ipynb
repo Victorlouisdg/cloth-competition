{
 "cells": [
  {
   "cell_type": "markdown",
   "metadata": {},
   "source": [
    "Desired coordinate frames:\n",
    "\n",
    "![coordinate frames](https://i.imgur.com/9Dn5Dfl.png)"
   ]
  },
  {
   "cell_type": "code",
   "execution_count": null,
   "metadata": {},
   "outputs": [],
   "source": [
    "import numpy as np\n",
    "from cloth_tools.config import load_camera_pose_in_left_and_right\n",
    "\n",
    "\n",
    "X_LCB_C, X_RCB_C = load_camera_pose_in_left_and_right()"
   ]
  },
  {
   "cell_type": "code",
   "execution_count": null,
   "metadata": {},
   "outputs": [],
   "source": [
    "X_LCB_RCB = X_LCB_C @ np.linalg.inv(X_RCB_C)\n",
    "with np.printoptions(precision=3, suppress=True):\n",
    "    print(\"Pose of the right robot base in the left robot base frame: X_LCB_RCB =\")\n",
    "    print(X_LCB_RCB)"
   ]
  },
  {
   "cell_type": "code",
   "execution_count": null,
   "metadata": {},
   "outputs": [],
   "source": [
    "p_LCB_RCB = X_LCB_RCB[:3, 3]\n",
    "with np.printoptions(precision=3, suppress=True):\n",
    "    print(p_LCB_RCB)"
   ]
  },
  {
   "cell_type": "code",
   "execution_count": null,
   "metadata": {},
   "outputs": [],
   "source": [
    "print(\"Distance between the two robot bases (according to the camera calibration):\")\n",
    "np.linalg.norm(p_LCB_RCB)"
   ]
  },
  {
   "cell_type": "code",
   "execution_count": null,
   "metadata": {},
   "outputs": [],
   "source": [
    "# We define the world origin as the middle point between the two robot bases\n",
    "p_LCB_W = p_LCB_RCB / 2.0\n",
    "with np.printoptions(precision=3, suppress=True):\n",
    "    print(p_LCB_W)"
   ]
  },
  {
   "cell_type": "code",
   "execution_count": null,
   "metadata": {},
   "outputs": [],
   "source": [
    "from airo_spatial_algebra.se3 import SE3Container\n",
    "\n",
    "# The line below define the world Y-axis as the vector from the right robot base to the left robot base\n",
    "y_LCB_W = -p_LCB_W / np.linalg.norm(p_LCB_W)\n",
    "z_LCB_W = np.array([0, 0, 1])\n",
    "x_LCB_W = np.cross(y_LCB_W, z_LCB_W)\n",
    "x_LCB_W = x_LCB_W / np.linalg.norm(x_LCB_W)\n",
    "z_LCB_W = np.cross(x_LCB_W, y_LCB_W)  # make sure z-axis is orthogonal to x and y\n",
    "\n",
    "\n",
    "R_LCB_W = np.column_stack((x_LCB_W, y_LCB_W, z_LCB_W))\n",
    "\n",
    "X_LCB_W = np.identity(4)\n",
    "X_LCB_W[:3, :3] = R_LCB_W\n",
    "X_LCB_W[:3, 3] = p_LCB_W\n",
    "\n",
    "X_W_LCB = np.linalg.inv(X_LCB_W)\n",
    "X_W_RCB = X_W_LCB @ X_LCB_RCB\n",
    "\n",
    "with np.printoptions(precision=3, suppress=True):\n",
    "    print(\"Pose of the left robot base in the world frame: X_W_LCB =\")\n",
    "    print(X_W_LCB)\n",
    "    print(\"Pose of the right robot base in the world frame: X_W_RCB =\")\n",
    "    print(X_W_RCB)"
   ]
  },
  {
   "cell_type": "code",
   "execution_count": null,
   "metadata": {},
   "outputs": [],
   "source": [
    "# bringing it all together\n",
    "from airo_typing import HomogeneousMatrixType\n",
    "\n",
    "\n",
    "X_LCB_C, X_RCB_C = load_camera_pose_in_left_and_right()\n",
    "\n",
    "\n",
    "def create_egocentric_world_frame(\n",
    "    camera_pose_in_left: HomogeneousMatrixType, camera_pose_in_right: HomogeneousMatrixType\n",
    ") -> tuple[HomogeneousMatrixType:, HomogeneousMatrixType, HomogeneousMatrixType]:\n",
    "    X_LCB_C = camera_pose_in_left\n",
    "    X_RCB_C = camera_pose_in_right\n",
    "    X_LCB_RCB = X_LCB_C @ np.linalg.inv(X_RCB_C)\n",
    "    p_LCB_RCB = X_LCB_RCB[:3, 3]\n",
    "\n",
    "    # Define the world origin as the middle point between the two robot bases\n",
    "    p_LCB_W = p_LCB_RCB / 2.0\n",
    "\n",
    "    # Define the world Y-axis as the vector from the right robot base to the left robot base\n",
    "    y_LCB_W = -p_LCB_RCB / np.linalg.norm(p_LCB_RCB)\n",
    "\n",
    "    # Define (for now) that the world Z-axis is the same as the left_base Z-axis\n",
    "    # We will fix later that it is not exactly orthogonal to the world Y-axis\n",
    "    z_LCB_W = np.array([0, 0, 1])\n",
    "\n",
    "    # Define the world X-axis as the cross product of the world Y and Z axes\n",
    "    x_LCB_W = np.cross(y_LCB_W, z_LCB_W)\n",
    "    x_LCB_W = x_LCB_W / np.linalg.norm(x_LCB_W)  # normalize because Z was not exactly orthogonal to Y\n",
    "\n",
    "    # Ensure the world Z-axis is orthogonal to the world X and Y axes\n",
    "    z_LCB_W = np.cross(x_LCB_W, y_LCB_W)\n",
    "\n",
    "    # Create the rotation matrix\n",
    "    R_LCB_W = np.column_stack((x_LCB_W, y_LCB_W, z_LCB_W))\n",
    "\n",
    "    # Create the homogeneous transformation matrix\n",
    "    X_LCB_W = np.identity(4)\n",
    "    X_LCB_W[:3, :3] = R_LCB_W\n",
    "    X_LCB_W[:3, 3] = p_LCB_W\n",
    "\n",
    "    X_W_LCB = np.linalg.inv(X_LCB_W)\n",
    "    X_W_RCB = X_W_LCB @ X_LCB_RCB\n",
    "\n",
    "    X_W_C = X_W_LCB @ X_LCB_C\n",
    "    # X_W_C_ = X_W_RCB @ X_RCB_C # Alternative, but should give exactly the same result I belive\n",
    "    return X_W_C, X_W_LCB, X_W_RCB\n",
    "\n",
    "\n",
    "X_W_C, X_W_LCB, X_W_RCB = create_egocentric_world_frame(X_LCB_C, X_RCB_C)\n",
    "\n",
    "with np.printoptions(precision=3, suppress=True):\n",
    "    print(\"Pose of the camera in the world frame: X_W_C =\")\n",
    "    print(X_W_C)\n",
    "    print(\"Pose of the left robot base in the world frame: X_W_LCB =\")\n",
    "    print(X_W_LCB)\n",
    "    print(\"Pose of the right robot base in the world frame: X_W_RCB =\")\n",
    "    print(X_W_RCB)"
   ]
  }
 ],
 "metadata": {
  "kernelspec": {
   "display_name": "cloth-competition",
   "language": "python",
   "name": "python3"
  },
  "language_info": {
   "codemirror_mode": {
    "name": "ipython",
    "version": 3
   },
   "file_extension": ".py",
   "mimetype": "text/x-python",
   "name": "python",
   "nbconvert_exporter": "python",
   "pygments_lexer": "ipython3",
   "version": "3.10.13"
  }
 },
 "nbformat": 4,
 "nbformat_minor": 2
}
