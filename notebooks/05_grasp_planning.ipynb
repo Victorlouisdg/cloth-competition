{
 "cells": [
  {
   "cell_type": "markdown",
   "metadata": {},
   "source": [
    "# Grasp Planning\n",
    "\n",
    "🚧 This notebook is still under construction.\n",
    "\n",
    "> ℹ️ If you want to run this notebook, you will need to install additional dependencies.\n",
    "> You can try creating the conda environment in `environment-dev.yaml`, which should include the necessary dependencies."
   ]
  },
  {
   "cell_type": "code",
   "execution_count": null,
   "metadata": {},
   "outputs": [],
   "source": [
    "import os\n",
    "from pathlib import Path\n",
    "\n",
    "\n",
    "current_team = \"dev_team\"\n",
    "dataset_dir = Path(f\"data/remote_dry_run_2024-04-26/{current_team}\")\n",
    "\n",
    "sample_id = \"2024-04-23_10-20-07-968516\"\n",
    "\n",
    "sample_dir = dataset_dir / f\"sample_{sample_id}\"\n",
    "grasps_dir = dataset_dir / f\"grasps_{sample_id}\" # TODO throughout this notebook add grasp.json files \n",
    "\n",
    "os.path.exists(sample_dir)"
   ]
  },
  {
   "cell_type": "code",
   "execution_count": null,
   "metadata": {},
   "outputs": [],
   "source": [
    "from cloth_tools.dataset.format import load_competition_observation\n",
    "\n",
    "observation_start_dir = sample_dir / \"observation_start\"\n",
    "\n",
    "observation = load_competition_observation(observation_start_dir)"
   ]
  },
  {
   "cell_type": "code",
   "execution_count": null,
   "metadata": {},
   "outputs": [],
   "source": [
    "from cloth_tools.drake.scenes import make_drake_scene_from_observation\n",
    "\n",
    "scene = make_drake_scene_from_observation(observation, include_cloth_obstacle=False)\n",
    "scene_with_cloth = make_drake_scene_from_observation(observation, include_cloth_obstacle=True)"
   ]
  },
  {
   "cell_type": "code",
   "execution_count": null,
   "metadata": {},
   "outputs": [],
   "source": [
    "from functools import partial\n",
    "\n",
    "from cloth_tools.kinematics.constants import TCP_TRANSFORM\n",
    "from cloth_tools.kinematics.inverse_kinematics import inverse_kinematics_in_world_fn\n",
    "\n",
    "X_W_LCB = observation.arm_left_pose_in_world\n",
    "X_W_RCB = observation.arm_right_pose_in_world\n",
    "\n",
    "inverse_kinematics_left_fn = partial(inverse_kinematics_in_world_fn, X_W_CB=X_W_LCB, tcp_transform=TCP_TRANSFORM)\n",
    "inverse_kinematics_right_fn = partial(inverse_kinematics_in_world_fn, X_W_CB=X_W_RCB, tcp_transform=TCP_TRANSFORM)"
   ]
  },
  {
   "cell_type": "code",
   "execution_count": null,
   "metadata": {},
   "outputs": [],
   "source": [
    "from cloth_tools.drake.scenes import make_dual_arm_collision_checker\n",
    "\n",
    "\n",
    "collision_checker_no_cloth = make_dual_arm_collision_checker(scene)\n",
    "collision_checker_with_cloth = make_dual_arm_collision_checker(scene_with_cloth)"
   ]
  },
  {
   "cell_type": "code",
   "execution_count": null,
   "metadata": {},
   "outputs": [],
   "source": [
    "from cloth_tools.kinematics.constants import JOINT_BOUNDS\n",
    "from airo_planner import DualArmOmplPlanner\n",
    "\n",
    "planner_pregrasp = DualArmOmplPlanner(\n",
    "    is_state_valid_fn=collision_checker_with_cloth.CheckConfigCollisionFree,\n",
    "    inverse_kinematics_left_fn=inverse_kinematics_left_fn,\n",
    "    inverse_kinematics_right_fn=inverse_kinematics_right_fn,\n",
    "    joint_bounds_left=JOINT_BOUNDS,\n",
    "    joint_bounds_right=JOINT_BOUNDS,\n",
    ")"
   ]
  },
  {
   "cell_type": "code",
   "execution_count": null,
   "metadata": {},
   "outputs": [],
   "source": [
    "from cloth_tools.annotation.grasp_annotation import grasp_hanging_cloth_pose\n",
    "import numpy as np\n",
    "\n",
    "grasp_pose_fixed = grasp_hanging_cloth_pose(np.array([0, 0, 0.5]), np.array([1, 0, 0]), 0.0)\n",
    "grasp_pose_fixed"
   ]
  },
  {
   "cell_type": "code",
   "execution_count": null,
   "metadata": {},
   "outputs": [],
   "source": [
    "from cloth_tools.planning.grasp_planning import plan_pregrasp_and_grasp_trajectory\n",
    "from airo_drake import animate_dual_joint_trajectory\n",
    "\n",
    "trajectory_pregrasp_and_grasp = plan_pregrasp_and_grasp_trajectory(\n",
    "    planner_pregrasp,\n",
    "    grasp_pose_fixed,\n",
    "    observation.arm_left_joints,\n",
    "    observation.arm_right_joints,\n",
    "    inverse_kinematics_left_fn,\n",
    "    inverse_kinematics_right_fn,\n",
    "    collision_checker_no_cloth.CheckConfigCollisionFree,\n",
    "    scene.robot_diagram.plant(),\n",
    "    with_left=False\n",
    ")\n",
    "\n",
    "animate_dual_joint_trajectory(\n",
    "    scene_with_cloth.meshcat,\n",
    "    scene_with_cloth.robot_diagram,\n",
    "    scene_with_cloth.arm_left_index,\n",
    "    scene_with_cloth.arm_right_index,\n",
    "    trajectory_pregrasp_and_grasp,\n",
    ")\n",
    "\n",
    "print(f\"You can see the trajectory animation at: {scene_with_cloth.meshcat.web_url()}\")"
   ]
  },
  {
   "cell_type": "code",
   "execution_count": null,
   "metadata": {},
   "outputs": [],
   "source": [
    "from cloth_tools.planning.grasp_planning import ExhaustedOptionsError\n",
    "\n",
    "\n",
    "def is_grasp_executable_fn(observation, grasp_pose) -> bool:\n",
    "    scene = make_drake_scene_from_observation(observation, include_cloth_obstacle=False)\n",
    "    scene_with_cloth = make_drake_scene_from_observation(observation, include_cloth_obstacle=True)\n",
    "\n",
    "    X_W_LCB = observation.arm_left_pose_in_world\n",
    "    X_W_RCB = observation.arm_right_pose_in_world\n",
    "\n",
    "    inverse_kinematics_left_fn = partial(inverse_kinematics_in_world_fn, X_W_CB=X_W_LCB, tcp_transform=TCP_TRANSFORM)\n",
    "    inverse_kinematics_right_fn = partial(inverse_kinematics_in_world_fn, X_W_CB=X_W_RCB, tcp_transform=TCP_TRANSFORM)\n",
    "\n",
    "    collision_checker_no_cloth = make_dual_arm_collision_checker(scene)\n",
    "    collision_checker_with_cloth = make_dual_arm_collision_checker(scene_with_cloth)\n",
    "\n",
    "    planner_pregrasp = DualArmOmplPlanner(\n",
    "        is_state_valid_fn=collision_checker_with_cloth.CheckConfigCollisionFree,\n",
    "        inverse_kinematics_left_fn=inverse_kinematics_left_fn,\n",
    "        inverse_kinematics_right_fn=inverse_kinematics_right_fn,\n",
    "        joint_bounds_left=JOINT_BOUNDS,\n",
    "        joint_bounds_right=JOINT_BOUNDS,\n",
    "    )\n",
    "\n",
    "    try:\n",
    "        plan_pregrasp_and_grasp_trajectory(\n",
    "            planner_pregrasp,\n",
    "            grasp_pose,\n",
    "            observation.arm_left_joints,\n",
    "            observation.arm_right_joints,\n",
    "            inverse_kinematics_left_fn,\n",
    "            inverse_kinematics_right_fn,\n",
    "            collision_checker_no_cloth.CheckConfigCollisionFree,\n",
    "            scene.robot_diagram.plant(),\n",
    "            with_left=False,\n",
    "        )\n",
    "    except ExhaustedOptionsError:\n",
    "        return False\n",
    "\n",
    "    return True\n",
    "\n",
    "\n",
    "is_grasp_executable_fn(observation, grasp_pose_fixed)"
   ]
  },
  {
   "cell_type": "code",
   "execution_count": null,
   "metadata": {},
   "outputs": [],
   "source": [
    "grasp_pose_unreachable = grasp_hanging_cloth_pose(np.array([0, 0, 1.5]), np.array([1, 0, 0]), 0.5)\n",
    "print(grasp_pose_unreachable)\n",
    "\n",
    "is_grasp_executable_fn(observation, grasp_pose_unreachable)"
   ]
  },
  {
   "cell_type": "code",
   "execution_count": null,
   "metadata": {},
   "outputs": [],
   "source": []
  }
 ],
 "metadata": {
  "kernelspec": {
   "display_name": "cloth-competition-dev",
   "language": "python",
   "name": "python3"
  },
  "language_info": {
   "codemirror_mode": {
    "name": "ipython",
    "version": 3
   },
   "file_extension": ".py",
   "mimetype": "text/x-python",
   "name": "python",
   "nbconvert_exporter": "python",
   "pygments_lexer": "ipython3",
   "version": "3.10.14"
  }
 },
 "nbformat": 4,
 "nbformat_minor": 2
}
