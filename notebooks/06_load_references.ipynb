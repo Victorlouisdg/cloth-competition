{
 "cells": [
  {
   "cell_type": "markdown",
   "metadata": {},
   "source": [
    "# Loading the reference images"
   ]
  },
  {
   "cell_type": "code",
   "execution_count": null,
   "metadata": {},
   "outputs": [],
   "source": [
    "import os\n",
    "import numpy as np\n",
    "from pathlib import Path\n",
    "import matplotlib.pyplot as plt\n",
    "\n",
    "from cloth_tools.dataset.format import load_competition_observation\n",
    "\n",
    "data_dir = Path(\"data\")\n",
    "references_dir = data_dir / \"cloth_competition_references_0002\"\n",
    "teams_dir = data_dir / \"evaluation_icra_2024\"\n",
    "\n",
    "team_name = \"dev_team\"\n",
    "team_dir = teams_dir / team_name\n",
    "\n",
    "team_dir"
   ]
  },
  {
   "cell_type": "markdown",
   "metadata": {},
   "source": []
  },
  {
   "cell_type": "code",
   "execution_count": null,
   "metadata": {},
   "outputs": [],
   "source": [
    "os.path.exists(references_dir)"
   ]
  },
  {
   "cell_type": "code",
   "execution_count": null,
   "metadata": {},
   "outputs": [],
   "source": [
    "reference_sample_dirs = [references_dir / dirname for dirname in sorted(os.listdir(references_dir))]\n",
    "reference_sample_dirs"
   ]
  },
  {
   "cell_type": "code",
   "execution_count": null,
   "metadata": {},
   "outputs": [],
   "source": [
    "reference_observation_dirs = [sample_dir / \"observation_result\" for sample_dir in reference_sample_dirs]\n",
    "\n",
    "# observation_dirs = [dataset_dir / ref_dir for ref_dir in sorted(os.listdir(dataset_dir))]\n",
    "len(reference_observation_dirs)"
   ]
  },
  {
   "cell_type": "code",
   "execution_count": null,
   "metadata": {},
   "outputs": [],
   "source": [
    "import json\n",
    "\n",
    "reference_images = {}\n",
    "reference_surface_areas = {}\n",
    "\n",
    "for cloth_id, observation_dir in enumerate(reference_observation_dirs):\n",
    "    observation = load_competition_observation(observation_dir)\n",
    "\n",
    "    results_file = observation_dir / \"result.json\"\n",
    "\n",
    "    if results_file.exists():\n",
    "        with open(results_file, \"r\") as f:\n",
    "            result = json.load(f)\n",
    "        surface_area = result[\"coverage\"]\n",
    "        reference_images[f\"Reference {cloth_id} ({surface_area:.3f} m2)\"] = observation.image_left\n",
    "        reference_surface_areas[cloth_id] = surface_area\n",
    "    else:\n",
    "        reference_images[f\"Reference {cloth_id}\"] = observation.image_left\n"
   ]
  },
  {
   "cell_type": "code",
   "execution_count": null,
   "metadata": {},
   "outputs": [],
   "source": [
    "import matplotlib.pyplot as plt\n",
    "\n",
    "def display_images(images_dict):\n",
    "    \"\"\"Displays reference images in a grid layout.\n",
    "\n",
    "    Args:\n",
    "        reference_images (dict): A dictionary where keys are cloth IDs and\n",
    "                                 values are the corresponding images.\n",
    "    \"\"\"\n",
    "\n",
    "    n_images = len(images_dict)\n",
    "    cols = 4  # Adjust the number of columns as desired\n",
    "    rows = (n_images // cols) + (n_images % cols > 0)  # Calculate rows for the grid\n",
    "\n",
    "    fig, axes = plt.subplots(nrows=rows, ncols=cols, figsize=(cols * 4, rows * 3))  # Create subplots\n",
    "\n",
    "    cloth_ids = list(images_dict.keys())\n",
    "    images = list(images_dict.values())\n",
    "\n",
    "    for i, ax in enumerate(axes.flat):\n",
    "        if i < n_images:\n",
    "            image = images[i]\n",
    "            cloth_id = cloth_ids[i]\n",
    "            ax.imshow(image)\n",
    "            ax.set_title(f\"{cloth_id}\")\n",
    "            ax.axis(\"off\")  # Hide unused subplots\n",
    "        # else:\n",
    "\n",
    "    plt.tight_layout()\n",
    "    plt.show()\n",
    "\n",
    "# Example usage with your dictionary:\n",
    "display_images(reference_images) "
   ]
  },
  {
   "cell_type": "code",
   "execution_count": null,
   "metadata": {},
   "outputs": [],
   "source": [
    "def sample_id_to_reference_id(sample_id):\n",
    "    return sample_id % 8\n",
    "\n",
    "sample_id_to_reference_id(8), sample_id_to_reference_id(10)"
   ]
  },
  {
   "cell_type": "code",
   "execution_count": null,
   "metadata": {},
   "outputs": [],
   "source": [
    "team_sample_dirs = [team_dir / dirname for dirname in sorted(os.listdir(team_dir)) if dirname.startswith(\"sample_\")]\n",
    "\n",
    "team_sample_dirs_complete = []\n",
    "team_result_observations = []\n",
    "\n",
    "i = 0 \n",
    "for team_sample_dir in team_sample_dirs:\n",
    "    try:\n",
    "        observation_results_dir = team_sample_dir / \"observation_result\"\n",
    "        if not os.path.exists(observation_results_dir):\n",
    "            continue \n",
    "        observation = load_competition_observation(observation_results_dir)   \n",
    "        team_result_observations.append(observation)\n",
    "        team_sample_dirs_complete.append(team_sample_dir)\n",
    "    except:\n",
    "        print(f\"Failed to load result observation from {observation_results_dir}\")\n",
    "        continue\n",
    "\n",
    "\n",
    "print(f\"Loaded {len(team_result_observations)} observations from team {team_name}\")"
   ]
  },
  {
   "cell_type": "code",
   "execution_count": null,
   "metadata": {},
   "outputs": [],
   "source": [
    "team_surface_areas = {}\n",
    "team_images = {}\n",
    "team_coverages = {}\n",
    "\n",
    "for i, observation in enumerate(team_result_observations):\n",
    "    results_file = team_sample_dirs_complete[i] / \"observation_result\" / \"result.json\"\n",
    "    if results_file.exists():\n",
    "        with open(results_file, \"r\") as f:\n",
    "            result = json.load(f)\n",
    "        team_surface_area = result[\"coverage\"]\n",
    "        reference_id = sample_id_to_reference_id(i)\n",
    "        reference_surface_area = reference_surface_areas[reference_id]\n",
    "        coverage = team_surface_area / reference_surface_area\n",
    "        team_surface_areas[i] = team_surface_area\n",
    "        team_coverages[i] = coverage\n",
    "        team_images[f\"Evaluation {i} ({team_surface_area:.3f} m2, {coverage:.2f})\"] = observation.image_left\n",
    "    else:\n",
    "        team_images[f\"Evaluation {i}\"] = observation.image_left\n",
    "        print(f\"Results file not found for observation {i}\")"
   ]
  },
  {
   "cell_type": "code",
   "execution_count": null,
   "metadata": {},
   "outputs": [],
   "source": [
    "display_images(team_images)"
   ]
  },
  {
   "cell_type": "code",
   "execution_count": null,
   "metadata": {},
   "outputs": [],
   "source": [
    "average_coverage = np.mean(list(team_coverages.values()))\n",
    "\n",
    "print(f\"Average coverage: {average_coverage:.2f}\")"
   ]
  },
  {
   "cell_type": "code",
   "execution_count": null,
   "metadata": {},
   "outputs": [],
   "source": []
  }
 ],
 "metadata": {
  "kernelspec": {
   "display_name": "cloth-competition",
   "language": "python",
   "name": "python3"
  },
  "language_info": {
   "codemirror_mode": {
    "name": "ipython",
    "version": 3
   },
   "file_extension": ".py",
   "mimetype": "text/x-python",
   "name": "python",
   "nbconvert_exporter": "python",
   "pygments_lexer": "ipython3",
   "version": "3.10.14"
  }
 },
 "nbformat": 4,
 "nbformat_minor": 2
}
