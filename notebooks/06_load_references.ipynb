{
 "cells": [
  {
   "cell_type": "markdown",
   "metadata": {},
   "source": [
    "# Background removal\n",
    "\n",
    "In this notebook we show how you can use the depth maps to remove most of the background from the images. \n",
    "This is important because all data was recorded with the same background, but the models have to be able to generalize to different backgrounds.\n",
    "The background at the ICRA 2024 will also be different than during the data collection."
   ]
  },
  {
   "cell_type": "code",
   "execution_count": null,
   "metadata": {},
   "outputs": [],
   "source": [
    "import os\n",
    "import numpy as np\n",
    "from pathlib import Path\n",
    "import matplotlib.pyplot as plt\n",
    "\n",
    "from cloth_tools.dataset.format import load_competition_observation\n",
    "\n",
    "data_dir = Path(\"data\")\n",
    "dataset_dir = data_dir / \"cloth_competition_references_0001\""
   ]
  },
  {
   "cell_type": "code",
   "execution_count": null,
   "metadata": {},
   "outputs": [],
   "source": [
    "os.path.exists(dataset_dir)"
   ]
  },
  {
   "cell_type": "code",
   "execution_count": null,
   "metadata": {},
   "outputs": [],
   "source": [
    "observation_dirs = [dataset_dir / ref_dir for ref_dir in sorted(os.listdir(dataset_dir))]\n",
    "len(observation_dirs)"
   ]
  },
  {
   "cell_type": "code",
   "execution_count": null,
   "metadata": {},
   "outputs": [],
   "source": [
    "reference_images = {}\n",
    "\n",
    "for observation_dir in observation_dirs:\n",
    "    cloth_id = str(observation_dir).split(\"_\")[-1]\n",
    "    observation = load_competition_observation(observation_dir)\n",
    "    reference_images[cloth_id] = observation.image_left"
   ]
  },
  {
   "cell_type": "code",
   "execution_count": null,
   "metadata": {},
   "outputs": [],
   "source": [
    "import matplotlib.pyplot as plt\n",
    "\n",
    "def display_reference_images(reference_images):\n",
    "    \"\"\"Displays reference images in a grid layout.\n",
    "\n",
    "    Args:\n",
    "        reference_images (dict): A dictionary where keys are cloth IDs and\n",
    "                                 values are the corresponding images.\n",
    "    \"\"\"\n",
    "\n",
    "    n_images = len(reference_images)\n",
    "    cols = 3  # Adjust the number of columns as desired\n",
    "    rows = (n_images // cols) + (n_images % cols > 0)  # Calculate rows for the grid\n",
    "\n",
    "    fig, axes = plt.subplots(nrows=rows, ncols=cols, figsize=(cols * 4, rows * 3))  # Create subplots\n",
    "\n",
    "    cloth_ids = list(reference_images.keys())\n",
    "    images = list(reference_images.values())\n",
    "\n",
    "    for i, ax in enumerate(axes.flat):\n",
    "        if i < n_images:\n",
    "            image = images[i]\n",
    "            cloth_id = cloth_ids[i]\n",
    "            ax.imshow(image)\n",
    "            ax.set_title(f\"Cloth ID: {cloth_id}\")\n",
    "            ax.axis(\"off\")  # Hide unused subplots\n",
    "        # else:\n",
    "\n",
    "    plt.tight_layout()\n",
    "    plt.show()\n",
    "\n",
    "# Example usage with your dictionary:\n",
    "display_reference_images(reference_images) "
   ]
  },
  {
   "cell_type": "code",
   "execution_count": null,
   "metadata": {},
   "outputs": [],
   "source": []
  }
 ],
 "metadata": {
  "kernelspec": {
   "display_name": "cloth-competition",
   "language": "python",
   "name": "python3"
  },
  "language_info": {
   "codemirror_mode": {
    "name": "ipython",
    "version": 3
   },
   "file_extension": ".py",
   "mimetype": "text/x-python",
   "name": "python",
   "nbconvert_exporter": "python",
   "pygments_lexer": "ipython3",
   "version": "3.10.14"
  }
 },
 "nbformat": 4,
 "nbformat_minor": 2
}
