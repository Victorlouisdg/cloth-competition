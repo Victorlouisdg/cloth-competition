{
 "cells": [
  {
   "cell_type": "markdown",
   "metadata": {},
   "source": [
    "# Getting started :rocket:\n",
    "\n",
    "Welcome to the cloth competition! In this notebook we will load and explore the data.\n",
    "\n",
    "> :construction: This notebook is still under construction. Dataset format may still change. :construction:\n",
    "\n",
    "Download the dataset from [here](https://ugentbe-my.sharepoint.com/:f:/g/personal/victorlouis_degusseme_ugent_be/Ej7meTLMnQRItbr7SlQ7EdUBJGelCQIcWIQ_ddBliGXiDA?e=bf5RbG) and extract it to `data/competition_dev`."
   ]
  },
  {
   "cell_type": "code",
   "execution_count": null,
   "metadata": {},
   "outputs": [],
   "source": [
    "from cloth_tools.dataset.format import load_competition_input_sample\n",
    "from pathlib import Path\n",
    "import numpy as np\n",
    "import matplotlib.pyplot as plt\n",
    "\n",
    "data_dir = Path(\"data\")\n",
    "dataset_dir = data_dir / \"competition_dev\""
   ]
  },
  {
   "cell_type": "code",
   "execution_count": null,
   "metadata": {},
   "outputs": [],
   "source": [
    "sample = load_competition_input_sample(dataset_dir, sample_index=0)"
   ]
  },
  {
   "cell_type": "markdown",
   "metadata": {},
   "source": [
    "## 1. Exploring the data"
   ]
  },
  {
   "cell_type": "markdown",
   "metadata": {},
   "source": [
    "### 1.1 Color images"
   ]
  },
  {
   "cell_type": "code",
   "execution_count": null,
   "metadata": {},
   "outputs": [],
   "source": [
    "plt.figure(figsize=(20, 10))\n",
    "plt.subplot(1, 2, 1)\n",
    "plt.imshow(sample.image_left)\n",
    "plt.title(\"Left image\")\n",
    "plt.subplot(1, 2, 2)\n",
    "plt.imshow(sample.image_right)\n",
    "plt.title(\"Right image\")\n",
    "plt.show()"
   ]
  },
  {
   "cell_type": "markdown",
   "metadata": {},
   "source": [
    "### 1.2 Depth and confidence maps"
   ]
  },
  {
   "cell_type": "code",
   "execution_count": null,
   "metadata": {},
   "outputs": [],
   "source": [
    "print(\"depth_map.dtype:\", sample.depth_map.dtype)\n",
    "print(\"confidence_map.dtype:\", sample.confidence_map.dtype)\n",
    "\n",
    "plt.figure(figsize=(20, 10))\n",
    "plt.subplot(1, 2, 1)\n",
    "plt.imshow(sample.depth_map)\n",
    "plt.title(\"Depth map\")\n",
    "plt.colorbar(fraction=0.025, pad=0.04)\n",
    "plt.subplot(1, 2, 2)\n",
    "plt.imshow(sample.confidence_map)\n",
    "plt.title(\"Confidence map\")\n",
    "plt.colorbar(fraction=0.025, pad=0.04)\n",
    "plt.show()"
   ]
  },
  {
   "cell_type": "markdown",
   "metadata": {},
   "source": [
    "## 1.3 Camera parameters"
   ]
  },
  {
   "cell_type": "code",
   "execution_count": null,
   "metadata": {},
   "outputs": [],
   "source": [
    "with np.printoptions(precision=3, suppress=True):\n",
    "    print(\"Resolution:\", sample.camera_resolution)\n",
    "    print(\"Intrinsics: \\n\", sample.camera_intrinsics)\n",
    "    print(\"Extrinsics: \\n\", sample.camera_pose)"
   ]
  },
  {
   "cell_type": "markdown",
   "metadata": {},
   "source": [
    "## 1.4 Colored point cloud\n",
    "\n",
    "**TODO** Change this to only load the provided point cloud. More advanced point cloud processing can go in a seperate notebook."
   ]
  },
  {
   "cell_type": "code",
   "execution_count": null,
   "metadata": {},
   "outputs": [],
   "source": [
    "# point_cloud = sample.point_cloud\n",
    "\n",
    "# print(\"point_cloud.shape:\", point_cloud.shape)"
   ]
  },
  {
   "cell_type": "code",
   "execution_count": null,
   "metadata": {},
   "outputs": [],
   "source": [
    "import open3d as o3d\n",
    "\n",
    "\n",
    "rgbd_image = o3d.geometry.RGBDImage.create_from_color_and_depth(\n",
    "    o3d.geometry.Image(sample.image_left),\n",
    "    o3d.geometry.Image(sample.depth_map),\n",
    "    depth_scale=1.0,\n",
    "    depth_trunc=100.0,\n",
    "    convert_rgb_to_intensity=False,\n",
    ")\n",
    "\n",
    "intrisncis = o3d.camera.PinholeCameraIntrinsic(*sample.camera_resolution, sample.camera_intrinsics)\n",
    "\n",
    "pcd_legacy = o3d.geometry.PointCloud.create_from_rgbd_image(rgbd_image, intrisncis, np.linalg.inv(sample.camera_pose))\n",
    "\n",
    "o3d.visualization.draw_geometries([pcd_legacy])"
   ]
  },
  {
   "cell_type": "code",
   "execution_count": null,
   "metadata": {},
   "outputs": [],
   "source": [
    "pcd = o3d.t.geometry.PointCloud.from_legacy(pcd_legacy)"
   ]
  },
  {
   "cell_type": "code",
   "execution_count": null,
   "metadata": {},
   "outputs": [],
   "source": []
  }
 ],
 "metadata": {
  "kernelspec": {
   "display_name": "cloth-competition",
   "language": "python",
   "name": "python3"
  },
  "language_info": {
   "codemirror_mode": {
    "name": "ipython",
    "version": 3
   },
   "file_extension": ".py",
   "mimetype": "text/x-python",
   "name": "python",
   "nbconvert_exporter": "python",
   "pygments_lexer": "ipython3",
   "version": "3.10.13"
  }
 },
 "nbformat": 4,
 "nbformat_minor": 2
}
