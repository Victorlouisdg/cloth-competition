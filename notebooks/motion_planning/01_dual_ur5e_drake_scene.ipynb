{
 "cells": [
  {
   "cell_type": "markdown",
   "metadata": {},
   "source": [
    "# Drake Scene with two UR5e robots\n",
    "\n",
    "To run this notebook, you need access to the currently private `airo-planner` and install it."
   ]
  },
  {
   "cell_type": "code",
   "execution_count": null,
   "metadata": {},
   "outputs": [],
   "source": [
    "import os\n",
    "from pathlib import Path\n",
    "import numpy as np\n",
    "from airo_planner.utils import files\n",
    "from pydrake.geometry import Meshcat\n",
    "from pydrake.geometry import Meshcat\n",
    "from pydrake.math import RigidTransform\n",
    "\n",
    "# from pydrake.visualization import ApplyVisualizationConfig, VisualizationConfig\n",
    "from pydrake.geometry import MeshcatVisualizer\n",
    "from pydrake.planning import RobotDiagramBuilder, SceneGraphCollisionChecker"
   ]
  },
  {
   "cell_type": "code",
   "execution_count": null,
   "metadata": {},
   "outputs": [],
   "source": [
    "robot_diagram_builder = RobotDiagramBuilder()\n",
    "scene_graph = robot_diagram_builder.scene_graph()\n",
    "plant = robot_diagram_builder.plant()\n",
    "builder = robot_diagram_builder.builder()\n",
    "parser = robot_diagram_builder.parser()\n",
    "\n",
    "# Add visualizer\n",
    "meshcat = Meshcat()\n",
    "visualizer = MeshcatVisualizer.AddToBuilder(builder, scene_graph, meshcat)\n",
    "# config = VisualizationConfig(publish_contacts=True, enable_alpha_sliders=True)\n",
    "# ApplyVisualizationConfig(config, builder=builder, plant=plant, meshcat=meshcat)\n",
    "\n",
    "\n",
    "# Load URDF files\n",
    "resources_root = str(files.get_resources_dir())\n",
    "ur5e_urdf = Path(os.path.join(resources_root, \"robots\", \"ur5e\", \"ur5e.urdf\"))\n",
    "cube_urdf = \"cube_and_cylinder.urdf\"\n",
    "\n",
    "arm_left_index = parser.AddModelFromFile(str(ur5e_urdf), model_name=\"arm_left\")\n",
    "arm_right_index = parser.AddModelFromFile(str(ur5e_urdf), model_name=\"arm_right\")\n",
    "cube_index = parser.AddModelFromFile(str(cube_urdf))\n",
    "\n",
    "# Weld some frames together\n",
    "world_frame = plant.world_frame()\n",
    "arm_left_frame = plant.GetFrameByName(\"base_link\", arm_left_index)\n",
    "arm_right_frame = plant.GetFrameByName(\"base_link\", arm_right_index)\n",
    "cube_frame = plant.GetFrameByName(\"base_link\", cube_index)\n",
    "\n",
    "plant.WeldFrames(world_frame, arm_left_frame)\n",
    "plant.WeldFrames(world_frame, arm_right_frame, RigidTransform([0.9, 0, 0]))\n",
    "plant.WeldFrames(world_frame, cube_frame, RigidTransform([0, 0.5, 0]))\n",
    "\n",
    "# plant.set_discrete_contact_solver(DiscreteContactSolver.kSap)\n",
    "# plant.Finalize()\n",
    "\n",
    "# Set up collision checking\n",
    "diagram = robot_diagram_builder.Build()\n",
    "\n",
    "\n",
    "# Not sure if this is needed\n",
    "def _configuration_distance(q1, q2):\n",
    "    return np.linalg.norm(q1 - q2)\n",
    "\n",
    "\n",
    "collision_checker = SceneGraphCollisionChecker(\n",
    "    model=diagram,\n",
    "    robot_model_instances=[arm_left_index, arm_right_index],\n",
    "    configuration_distance_function=_configuration_distance,\n",
    "    edge_step_size=0.125,\n",
    ")\n",
    "\n",
    "# Create default contexts ~= state\n",
    "context = diagram.CreateDefaultContext()\n",
    "plant_context = plant.GetMyContextFromRoot(context)\n",
    "diagram.ForcedPublish(context)"
   ]
  },
  {
   "cell_type": "code",
   "execution_count": null,
   "metadata": {},
   "outputs": [],
   "source": [
    "q = plant.GetPositions(plant_context, arm_left_index).tolist()\n",
    "q"
   ]
  },
  {
   "cell_type": "code",
   "execution_count": null,
   "metadata": {},
   "outputs": [],
   "source": [
    "q_all = plant.GetPositions(plant_context)\n",
    "collision_checker.CheckConfigCollisionFree(q_all)"
   ]
  },
  {
   "cell_type": "code",
   "execution_count": null,
   "metadata": {},
   "outputs": [],
   "source": [
    "q_new = q.copy()\n",
    "q_new[1] = -np.pi / 2\n",
    "plant.SetPositions(plant_context, arm_left_index, q_new)\n",
    "plant.SetPositions(plant_context, arm_right_index, q_new)\n",
    "\n",
    "diagram.ForcedPublish(context)\n",
    "\n",
    "q_all = plant.GetPositions(plant_context)\n",
    "collision_checker.CheckConfigCollisionFree(q_all)"
   ]
  },
  {
   "cell_type": "code",
   "execution_count": null,
   "metadata": {},
   "outputs": [],
   "source": [
    "collision_checker.CheckConfigCollisionFree(np.zeros(12))"
   ]
  }
 ],
 "metadata": {
  "kernelspec": {
   "display_name": "cloth-competition",
   "language": "python",
   "name": "python3"
  },
  "language_info": {
   "codemirror_mode": {
    "name": "ipython",
    "version": 3
   },
   "file_extension": ".py",
   "mimetype": "text/x-python",
   "name": "python",
   "nbconvert_exporter": "python",
   "pygments_lexer": "ipython3",
   "version": "3.10.13"
  }
 },
 "nbformat": 4,
 "nbformat_minor": 2
}
