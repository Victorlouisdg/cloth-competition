{
 "cells": [
  {
   "cell_type": "markdown",
   "metadata": {},
   "source": [
    "# Drake Scene with two UR5e robots\n",
    "\n",
    "To run this notebook, you need access to the currently private `airo-planner` and install it."
   ]
  },
  {
   "cell_type": "code",
   "execution_count": null,
   "metadata": {},
   "outputs": [],
   "source": [
    "import os\n",
    "from pathlib import Path\n",
    "import numpy as np\n",
    "from airo_planner.utils import files\n",
    "from pydrake.geometry import Meshcat\n",
    "from pydrake.geometry import Meshcat\n",
    "from pydrake.math import RigidTransform\n",
    "from pydrake.geometry import MeshcatVisualizer\n",
    "from pydrake.planning import RobotDiagramBuilder, SceneGraphCollisionChecker\n",
    "from pydrake.multibody.plant import DiscreteContactSolver\n",
    "\n",
    "# from pydrake.visualization import ApplyVisualizationConfig, VisualizationConfig"
   ]
  },
  {
   "cell_type": "code",
   "execution_count": null,
   "metadata": {},
   "outputs": [],
   "source": [
    "robot_diagram_builder = RobotDiagramBuilder()  # time_step=0.001 even when I set timestep I get the mimic joint warning\n",
    "scene_graph = robot_diagram_builder.scene_graph()\n",
    "plant = robot_diagram_builder.plant()\n",
    "builder = robot_diagram_builder.builder()\n",
    "parser = robot_diagram_builder.parser()\n",
    "\n",
    "# Add visualizer\n",
    "meshcat = Meshcat()\n",
    "visualizer = MeshcatVisualizer.AddToBuilder(builder, scene_graph, meshcat)\n",
    "# config = VisualizationConfig(publish_contacts=True, enable_alpha_sliders=True)\n",
    "# ApplyVisualizationConfig(config, builder=builder, plant=plant, meshcat=meshcat)\n",
    "\n",
    "# This get rid ot the warning for the mimic joints in the Robotiq gripper\n",
    "plant.set_discrete_contact_solver(DiscreteContactSolver.kSap)\n",
    "\n",
    "# Load URDF files\n",
    "resources_root = str(files.get_resources_dir())\n",
    "ur5e_urdf = Path(resources_root) / \"robots\" / \"ur5e\" / \"ur5e.urdf\"\n",
    "robotiq_2f_85_gripper_urdf = Path(resources_root) / \"grippers\" / \"2f_85_gripper\" / \"urdf\" / \"robotiq_2f_85_static.urdf\"\n",
    "cube_urdf = \"cube_and_cylinder.urdf\"\n",
    "table_urdf = \"table.urdf\"\n",
    "\n",
    "arm_left_index = parser.AddModelFromFile(str(ur5e_urdf), model_name=\"arm_left\")\n",
    "arm_right_index = parser.AddModelFromFile(str(ur5e_urdf), model_name=\"arm_right\")\n",
    "gripper_left_index = parser.AddModelFromFile(str(robotiq_2f_85_gripper_urdf), model_name=\"gripper_left\")\n",
    "gripper_right_index = parser.AddModelFromFile(str(robotiq_2f_85_gripper_urdf), model_name=\"gripper_right\")\n",
    "table_index = parser.AddModelFromFile(str(table_urdf))\n",
    "\n",
    "# Weld some frames together\n",
    "world_frame = plant.world_frame()\n",
    "arm_left_frame = plant.GetFrameByName(\"base_link\", arm_left_index)\n",
    "arm_right_frame = plant.GetFrameByName(\"base_link\", arm_right_index)\n",
    "arm_left_wrist_frame = plant.GetFrameByName(\"wrist_3_link\", arm_left_index)\n",
    "arm_right_wrist_frame = plant.GetFrameByName(\"wrist_3_link\", arm_right_index)\n",
    "gripper_left_frame = plant.GetFrameByName(\"base_link\", gripper_left_index)\n",
    "gripper_right_frame = plant.GetFrameByName(\"base_link\", gripper_right_index)\n",
    "table_frame = plant.GetFrameByName(\"base_link\", table_index)\n",
    "\n",
    "distance_between_arms = 0.9\n",
    "distance_between_arms_half = distance_between_arms / 2\n",
    "\n",
    "plant.WeldFrames(world_frame, arm_left_frame)\n",
    "plant.WeldFrames(world_frame, arm_right_frame, RigidTransform([distance_between_arms, 0, 0]))\n",
    "plant.WeldFrames(arm_left_wrist_frame, gripper_left_frame)\n",
    "plant.WeldFrames(arm_right_wrist_frame, gripper_right_frame)\n",
    "plant.WeldFrames(world_frame, table_frame, RigidTransform([distance_between_arms_half, 0, 0]))\n",
    "\n",
    "\n",
    "# plant.Finalize()\n",
    "\n",
    "# Set up collision checking\n",
    "diagram = robot_diagram_builder.Build()\n",
    "\n",
    "\n",
    "# Not sure if this is needed\n",
    "def _configuration_distance(q1, q2):\n",
    "    return np.linalg.norm(q1 - q2)\n",
    "\n",
    "\n",
    "collision_checker = SceneGraphCollisionChecker(\n",
    "    model=diagram,\n",
    "    robot_model_instances=[arm_left_index, arm_right_index],\n",
    "    configuration_distance_function=_configuration_distance,\n",
    "    edge_step_size=0.125,\n",
    ")\n",
    "\n",
    "# Create default contexts ~= state\n",
    "context = diagram.CreateDefaultContext()\n",
    "plant_context = plant.GetMyContextFromRoot(context)\n",
    "diagram.ForcedPublish(context)"
   ]
  },
  {
   "cell_type": "code",
   "execution_count": null,
   "metadata": {},
   "outputs": [],
   "source": [
    "q = plant.GetPositions(plant_context, arm_left_index).tolist()\n",
    "q"
   ]
  },
  {
   "cell_type": "code",
   "execution_count": null,
   "metadata": {},
   "outputs": [],
   "source": [
    "q_all = plant.GetPositions(plant_context)\n",
    "collision_checker.CheckConfigCollisionFree(q_all)"
   ]
  },
  {
   "cell_type": "code",
   "execution_count": null,
   "metadata": {},
   "outputs": [],
   "source": [
    "q_new = q.copy()\n",
    "q_new[1] = -np.pi / 2\n",
    "plant.SetPositions(plant_context, arm_left_index, q_new)\n",
    "plant.SetPositions(plant_context, arm_right_index, q_new)\n",
    "\n",
    "diagram.ForcedPublish(context)\n",
    "\n",
    "q_all = plant.GetPositions(plant_context)\n",
    "collision_checker.CheckConfigCollisionFree(q_all)"
   ]
  },
  {
   "cell_type": "code",
   "execution_count": null,
   "metadata": {},
   "outputs": [],
   "source": [
    "collision_checker.CheckConfigCollisionFree(np.zeros(12))"
   ]
  },
  {
   "cell_type": "code",
   "execution_count": null,
   "metadata": {},
   "outputs": [],
   "source": []
  }
 ],
 "metadata": {
  "kernelspec": {
   "display_name": "cloth-competition",
   "language": "python",
   "name": "python3"
  },
  "language_info": {
   "codemirror_mode": {
    "name": "ipython",
    "version": 3
   },
   "file_extension": ".py",
   "mimetype": "text/x-python",
   "name": "python",
   "nbconvert_exporter": "python",
   "pygments_lexer": "ipython3",
   "version": "3.10.13"
  }
 },
 "nbformat": 4,
 "nbformat_minor": 2
}
