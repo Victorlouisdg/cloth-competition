{
 "cells": [
  {
   "cell_type": "markdown",
   "metadata": {},
   "source": [
    "# Drake Scene with two UR5e robots"
   ]
  },
  {
   "cell_type": "code",
   "execution_count": null,
   "metadata": {},
   "outputs": [],
   "source": [
    "import numpy as np\n",
    "import airo_models\n",
    "from pydrake.geometry import Meshcat\n",
    "from pydrake.geometry import Meshcat\n",
    "from pydrake.math import RigidTransform, RollPitchYaw\n",
    "from pydrake.geometry import MeshcatVisualizer\n",
    "from pydrake.planning import RobotDiagramBuilder, SceneGraphCollisionChecker\n",
    "from pydrake.multibody.plant import DiscreteContactSolver\n",
    "from cloth_tools.drake.visualization import add_meshcat_triad\n",
    "from cloth_tools.urdf.robotiq import create_static_robotiq_2f_85_urdf"
   ]
  },
  {
   "cell_type": "code",
   "execution_count": null,
   "metadata": {},
   "outputs": [],
   "source": [
    "robot_diagram_builder = RobotDiagramBuilder()  # time_step=0.001 even when I set timestep I get the mimic joint warning\n",
    "scene_graph = robot_diagram_builder.scene_graph()\n",
    "plant = robot_diagram_builder.plant()\n",
    "builder = robot_diagram_builder.builder()\n",
    "parser = robot_diagram_builder.parser()\n",
    "\n",
    "# Add visualizer\n",
    "meshcat = Meshcat()\n",
    "visualizer = MeshcatVisualizer.AddToBuilder(builder, scene_graph, meshcat)\n",
    "\n",
    "# This get rid ot the warning for the mimic joints in the Robotiq gripper\n",
    "plant.set_discrete_contact_solver(DiscreteContactSolver.kSap)\n",
    "\n",
    "## Example of how to build a scene, this is does the same as the add_dual_ur5e_and_table_to_builder() function\n",
    "# Load URDF files\n",
    "ur5e_urdf_path = airo_models.get_urdf_path(\"ur5e\")\n",
    "robotiq_urdf_path = create_static_robotiq_2f_85_urdf()\n",
    "\n",
    "table_thickness = 0.2\n",
    "table_urdf_path = airo_models.box_urdf_path((2.0, 2.4, table_thickness), \"table\")\n",
    "wall_thickness = 0.2\n",
    "wall_back_urdf_path = airo_models.box_urdf_path((wall_thickness, 2.7, 2.0), \"wall_back\")\n",
    "wall_left_urdf_path = airo_models.box_urdf_path((2.0, wall_thickness, 2.0), \"wall_left\")\n",
    "wall_right_urdf_path = airo_models.box_urdf_path((2.0, wall_thickness, 2.0), \"wall_right\")\n",
    "\n",
    "arm_left_index = parser.AddModelFromFile(ur5e_urdf_path, model_name=\"arm_left\")\n",
    "arm_right_index = parser.AddModelFromFile(ur5e_urdf_path, model_name=\"arm_right\")\n",
    "gripper_left_index = parser.AddModelFromFile(robotiq_urdf_path, \"gripper_left\")\n",
    "gripper_right_index = parser.AddModelFromFile(robotiq_urdf_path, model_name=\"gripper_right\")\n",
    "\n",
    "table_index = parser.AddModelFromFile(table_urdf_path)\n",
    "wall_back_index = parser.AddModelFromFile(wall_back_urdf_path)\n",
    "wall_left_index = parser.AddModelFromFile(wall_left_urdf_path)\n",
    "wall_right_index = parser.AddModelFromFile(wall_right_urdf_path)\n",
    "\n",
    "# Weld some frames together\n",
    "world_frame = plant.world_frame()\n",
    "arm_left_frame = plant.GetFrameByName(\"base_link\", arm_left_index)\n",
    "arm_right_frame = plant.GetFrameByName(\"base_link\", arm_right_index)\n",
    "arm_left_tool_frame = plant.GetFrameByName(\"tool0\", arm_left_index)\n",
    "arm_right_tool_frame = plant.GetFrameByName(\"tool0\", arm_right_index)\n",
    "gripper_left_frame = plant.GetFrameByName(\"base_link\", gripper_left_index)\n",
    "gripper_right_frame = plant.GetFrameByName(\"base_link\", gripper_right_index)\n",
    "\n",
    "table_frame = plant.GetFrameByName(\"base_link\", table_index)\n",
    "wall_back_frame = plant.GetFrameByName(\"base_link\", wall_back_index)\n",
    "wall_left_frame = plant.GetFrameByName(\"base_link\", wall_left_index)\n",
    "wall_right_frame = plant.GetFrameByName(\"base_link\", wall_right_index)\n",
    "\n",
    "arm_y = 0.45\n",
    "arm_left_transform = RigidTransform(rpy=RollPitchYaw([0, 0, np.pi / 2]), p=[0, arm_y, 0])\n",
    "arm_right_transform = RigidTransform(rpy=RollPitchYaw([0, 0, np.pi / 2]), p=[0, -arm_y, 0])\n",
    "robotiq_ur_transform = RigidTransform(rpy=RollPitchYaw([0, 0, np.pi / 2]), p=[0, 0, 0])\n",
    "table_transform = RigidTransform(p=[0, 0, -table_thickness / 2])\n",
    "wall_back_transform = RigidTransform(p=[0.9 + wall_thickness / 2, 0, 0])\n",
    "wall_left_transform = RigidTransform(p=[0, arm_y + 0.7 + wall_thickness / 2, 0])\n",
    "wall_right_transform = RigidTransform(p=[0, -arm_y - 0.7 - wall_thickness / 2, 0])\n",
    "\n",
    "plant.WeldFrames(world_frame, arm_left_frame, arm_left_transform)\n",
    "plant.WeldFrames(world_frame, arm_right_frame, arm_right_transform)\n",
    "plant.WeldFrames(arm_left_tool_frame, gripper_left_frame, robotiq_ur_transform)\n",
    "plant.WeldFrames(arm_right_tool_frame, gripper_right_frame, robotiq_ur_transform)\n",
    "plant.WeldFrames(world_frame, table_frame, table_transform)\n",
    "plant.WeldFrames(world_frame, wall_back_frame, wall_back_transform)\n",
    "plant.WeldFrames(world_frame, wall_left_frame, wall_left_transform)\n",
    "plant.WeldFrames(world_frame, wall_right_frame, wall_right_transform)\n",
    "\n",
    "add_meshcat_triad(meshcat, \"World\", length=0.3)"
   ]
  },
  {
   "cell_type": "code",
   "execution_count": null,
   "metadata": {},
   "outputs": [],
   "source": [
    "# A diagram is needed in the constructor of the SceneGraphCollisionChecker\n",
    "# However, calling .Build() prevents us from adding more models, e.g. runtime obstacles\n",
    "diagram = robot_diagram_builder.Build()\n",
    "\n",
    "# Create default contexts ~= state\n",
    "context = diagram.CreateDefaultContext()\n",
    "plant_context = plant.GetMyContextFromRoot(context)\n",
    "diagram.ForcedPublish(context)"
   ]
  },
  {
   "cell_type": "code",
   "execution_count": null,
   "metadata": {},
   "outputs": [],
   "source": [
    "# Making sure the gripper don't add state to the plant\n",
    "# This simplifies calling the collision checker\n",
    "plant.num_positions(gripper_left_index), plant.num_positions(gripper_right_index)"
   ]
  },
  {
   "cell_type": "code",
   "execution_count": null,
   "metadata": {},
   "outputs": [],
   "source": [
    "collision_checker = SceneGraphCollisionChecker(\n",
    "    model=diagram,\n",
    "    robot_model_instances=[arm_left_index, arm_right_index],\n",
    "    edge_step_size=0.01,  # Arbitrary value: we don't use the CheckEdgeCollisionFree\n",
    ")"
   ]
  },
  {
   "cell_type": "code",
   "execution_count": null,
   "metadata": {},
   "outputs": [],
   "source": [
    "q = plant.GetPositions(plant_context, arm_left_index).tolist()\n",
    "q"
   ]
  },
  {
   "cell_type": "code",
   "execution_count": null,
   "metadata": {},
   "outputs": [],
   "source": [
    "q_all = plant.GetPositions(plant_context)\n",
    "collision_checker.CheckConfigCollisionFree(q_all)"
   ]
  },
  {
   "cell_type": "code",
   "execution_count": null,
   "metadata": {},
   "outputs": [],
   "source": [
    "q_left = q.copy()\n",
    "q_right = q.copy()\n",
    "q_left[1] = -np.pi / 2\n",
    "q_right[1] = -np.pi / 2\n",
    "q_right[2] = np.pi / 2\n",
    "plant.SetPositions(plant_context, arm_left_index, q_left)\n",
    "plant.SetPositions(plant_context, arm_right_index, q_right)\n",
    "\n",
    "diagram.ForcedPublish(context)\n",
    "\n",
    "q_all = plant.GetPositions(plant_context)\n",
    "collision_checker.CheckConfigCollisionFree(q_all)"
   ]
  },
  {
   "cell_type": "code",
   "execution_count": null,
   "metadata": {},
   "outputs": [],
   "source": [
    "collision_checker.CheckConfigCollisionFree(np.zeros(12))"
   ]
  },
  {
   "cell_type": "code",
   "execution_count": null,
   "metadata": {},
   "outputs": [],
   "source": []
  }
 ],
 "metadata": {
  "kernelspec": {
   "display_name": "cloth-competition",
   "language": "python",
   "name": "python3"
  },
  "language_info": {
   "codemirror_mode": {
    "name": "ipython",
    "version": 3
   },
   "file_extension": ".py",
   "mimetype": "text/x-python",
   "name": "python",
   "nbconvert_exporter": "python",
   "pygments_lexer": "ipython3",
   "version": "3.10.13"
  }
 },
 "nbformat": 4,
 "nbformat_minor": 2
}
