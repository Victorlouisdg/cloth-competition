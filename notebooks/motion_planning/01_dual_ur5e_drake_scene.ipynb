{
 "cells": [
  {
   "cell_type": "markdown",
   "metadata": {},
   "source": [
    "# Drake Scene with two UR5e robots"
   ]
  },
  {
   "cell_type": "code",
   "execution_count": null,
   "metadata": {},
   "outputs": [],
   "source": [
    "import numpy as np\n",
    "from pydrake.geometry import Meshcat\n",
    "from pydrake.geometry import Meshcat\n",
    "from pydrake.math import RigidTransform, RollPitchYaw\n",
    "from pydrake.geometry import MeshcatVisualizer\n",
    "from pydrake.planning import RobotDiagramBuilder, SceneGraphCollisionChecker\n",
    "from pydrake.multibody.plant import DiscreteContactSolver\n",
    "import airo_models\n",
    "from cloth_tools.drake.visualization import add_meshcat_triad\n",
    "from cloth_tools.urdf.robotiq import create_static_robotiq_2f_85_urdf"
   ]
  },
  {
   "cell_type": "code",
   "execution_count": null,
   "metadata": {},
   "outputs": [],
   "source": [
    "robot_diagram_builder = RobotDiagramBuilder()  # time_step=0.001 even when I set timestep I get the mimic joint warning\n",
    "scene_graph = robot_diagram_builder.scene_graph()\n",
    "plant = robot_diagram_builder.plant()\n",
    "builder = robot_diagram_builder.builder()\n",
    "parser = robot_diagram_builder.parser()\n",
    "\n",
    "# Add visualizer\n",
    "meshcat = Meshcat()\n",
    "visualizer = MeshcatVisualizer.AddToBuilder(builder, scene_graph, meshcat)\n",
    "\n",
    "# This get rid ot the warning for the mimic joints in the Robotiq gripper\n",
    "plant.set_discrete_contact_solver(DiscreteContactSolver.kSap)\n",
    "\n",
    "# Load URDF files\n",
    "ur5e_urdf_path = airo_models.get_urdf_path(\"ur5e\")\n",
    "robotiq_urdf_path = create_static_robotiq_2f_85_urdf()\n",
    "table_urdf_path = \"table.urdf\"\n",
    "\n",
    "arm_left_index = parser.AddModelFromFile(ur5e_urdf_path, model_name=\"arm_left\")\n",
    "arm_right_index = parser.AddModelFromFile(ur5e_urdf_path, model_name=\"arm_right\")\n",
    "gripper_left_index = parser.AddModelFromFile(robotiq_urdf_path, \"gripper_left\")\n",
    "gripper_right_index = parser.AddModelFromFile(robotiq_urdf_path, model_name=\"gripper_right\")\n",
    "table_index = parser.AddModelFromFile(table_urdf_path)\n",
    "\n",
    "# Weld some frames together\n",
    "world_frame = plant.world_frame()\n",
    "table_frame = plant.GetFrameByName(\"base_link\", table_index)\n",
    "arm_left_frame = plant.GetFrameByName(\"base_link\", arm_left_index)\n",
    "arm_right_frame = plant.GetFrameByName(\"base_link\", arm_right_index)\n",
    "arm_left_tool_frame = plant.GetFrameByName(\"tool0\", arm_left_index)\n",
    "arm_right_tool_frame = plant.GetFrameByName(\"tool0\", arm_right_index)\n",
    "gripper_left_frame = plant.GetFrameByName(\"base_link\", gripper_left_index)\n",
    "gripper_right_frame = plant.GetFrameByName(\"base_link\", gripper_right_index)\n",
    "\n",
    "y_distance = 0.45\n",
    "\n",
    "plant.WeldFrames(\n",
    "    world_frame, arm_left_frame, RigidTransform(rpy=RollPitchYaw([0, 0, -np.pi / 2]), p=[0, -y_distance, 0])\n",
    ")\n",
    "plant.WeldFrames(\n",
    "    world_frame, arm_right_frame, RigidTransform(rpy=RollPitchYaw([0, 0, -np.pi / 2]), p=[0, y_distance, 0])\n",
    ")\n",
    "plant.WeldFrames(\n",
    "    arm_left_tool_frame, gripper_left_frame, RigidTransform(rpy=RollPitchYaw([0, 0, np.pi / 2]), p=[0, 0, 0])\n",
    ")\n",
    "plant.WeldFrames(\n",
    "    arm_right_tool_frame, gripper_right_frame, RigidTransform(rpy=RollPitchYaw([0, 0, np.pi / 2]), p=[0, 0, 0])\n",
    ")\n",
    "plant.WeldFrames(world_frame, table_frame)\n",
    "\n",
    "\n",
    "add_meshcat_triad(meshcat, \"World\", length=0.3)"
   ]
  },
  {
   "cell_type": "code",
   "execution_count": null,
   "metadata": {},
   "outputs": [],
   "source": [
    "# A diagram is needed in the constructor of the SceneGraphCollisionChecker\n",
    "# However, calling .Build() prevents us from adding more models, e.g. runtime obstacles\n",
    "diagram = robot_diagram_builder.Build()\n",
    "\n",
    "# Create default contexts ~= state\n",
    "context = diagram.CreateDefaultContext()\n",
    "plant_context = plant.GetMyContextFromRoot(context)\n",
    "diagram.ForcedPublish(context)"
   ]
  },
  {
   "cell_type": "code",
   "execution_count": null,
   "metadata": {},
   "outputs": [],
   "source": [
    "plant.num_positions(gripper_left_index), plant.num_positions(gripper_right_index)"
   ]
  },
  {
   "cell_type": "code",
   "execution_count": null,
   "metadata": {},
   "outputs": [],
   "source": [
    "collision_checker = SceneGraphCollisionChecker(\n",
    "    model=diagram,\n",
    "    robot_model_instances=[arm_left_index, arm_right_index],\n",
    "    edge_step_size=0.01,  # Arbitrary value: we don't use the CheckEdgeCollisionFree\n",
    ")"
   ]
  },
  {
   "cell_type": "code",
   "execution_count": null,
   "metadata": {},
   "outputs": [],
   "source": [
    "q = plant.GetPositions(plant_context, arm_left_index).tolist()\n",
    "q"
   ]
  },
  {
   "cell_type": "code",
   "execution_count": null,
   "metadata": {},
   "outputs": [],
   "source": [
    "q_all = plant.GetPositions(plant_context)\n",
    "collision_checker.CheckConfigCollisionFree(q_all)"
   ]
  },
  {
   "cell_type": "code",
   "execution_count": null,
   "metadata": {},
   "outputs": [],
   "source": [
    "q_new = q.copy()\n",
    "q_new[1] = -np.pi / 2\n",
    "plant.SetPositions(plant_context, arm_left_index, q_new)\n",
    "plant.SetPositions(plant_context, arm_right_index, q_new)\n",
    "\n",
    "diagram.ForcedPublish(context)\n",
    "\n",
    "q_all = plant.GetPositions(plant_context)\n",
    "collision_checker.CheckConfigCollisionFree(q_all)"
   ]
  },
  {
   "cell_type": "code",
   "execution_count": null,
   "metadata": {},
   "outputs": [],
   "source": [
    "collision_checker.CheckConfigCollisionFree(np.zeros(12))"
   ]
  },
  {
   "cell_type": "code",
   "execution_count": null,
   "metadata": {},
   "outputs": [],
   "source": []
  }
 ],
 "metadata": {
  "kernelspec": {
   "display_name": "cloth-competition",
   "language": "python",
   "name": "python3"
  },
  "language_info": {
   "codemirror_mode": {
    "name": "ipython",
    "version": 3
   },
   "file_extension": ".py",
   "mimetype": "text/x-python",
   "name": "python",
   "nbconvert_exporter": "python",
   "pygments_lexer": "ipython3",
   "version": "3.10.13"
  }
 },
 "nbformat": 4,
 "nbformat_minor": 2
}
