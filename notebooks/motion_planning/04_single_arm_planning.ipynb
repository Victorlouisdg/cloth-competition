{
 "cells": [
  {
   "cell_type": "markdown",
   "metadata": {},
   "source": [
    "# Single arm motion planning\n",
    "\n",
    "This notebook shows how to use the SingleArmOmplPlanner with Drake to plan a collision-free path between two joint configurations."
   ]
  },
  {
   "cell_type": "code",
   "execution_count": null,
   "metadata": {},
   "outputs": [],
   "source": [
    "import numpy as np\n",
    "from pydrake.planning import RobotDiagramBuilder, SceneGraphCollisionChecker\n",
    "from cloth_tools.drake.building import add_meshcat_to_builder, finish_build\n",
    "from cloth_tools.drake.scenes import add_ur5e_and_table_to_builder\n",
    "from cloth_tools.drake.visualization import publish_joint_path\n",
    "from cloth_tools.ompl.single_arm_planner import SingleArmOmplPlanner"
   ]
  },
  {
   "cell_type": "markdown",
   "metadata": {},
   "source": [
    "## 1. Setting up Drake for collision checking \n",
    "\n",
    "### 1.1 Start building the Drake diagram\n",
    "\n",
    "Building Drake diagram can be quite complex. \n",
    "To simplify this Drake has a helper class called `RobotDiagramBuilder` that helps linking all the Drake systems.\n",
    "\n",
    "Using this class and its attirbutes we can easily add URDFs and weld them together.\n",
    "As far as I know, a weld is exactly the same as a fixed joint in URDF."
   ]
  },
  {
   "cell_type": "code",
   "execution_count": null,
   "metadata": {},
   "outputs": [],
   "source": [
    "robot_diagram_builder = RobotDiagramBuilder()  # time_step=0.001 even when I set timestep I get the mimic joint warning\n",
    "meshcat = add_meshcat_to_builder(robot_diagram_builder)\n",
    "arm_index, gripper_index = add_ur5e_and_table_to_builder(robot_diagram_builder)"
   ]
  },
  {
   "cell_type": "markdown",
   "metadata": {},
   "source": [
    "### 1.2 Finalize the diagram"
   ]
  },
  {
   "cell_type": "code",
   "execution_count": null,
   "metadata": {},
   "outputs": [],
   "source": [
    "diagram, context = finish_build(robot_diagram_builder, meshcat)\n",
    "plant = diagram.plant()\n",
    "plant_context = plant.GetMyContextFromRoot(context)"
   ]
  },
  {
   "cell_type": "markdown",
   "metadata": {},
   "source": [
    "### 1.3 Creating the collision checker"
   ]
  },
  {
   "cell_type": "code",
   "execution_count": null,
   "metadata": {},
   "outputs": [],
   "source": [
    "collision_checker = SceneGraphCollisionChecker(\n",
    "    model=diagram,\n",
    "    robot_model_instances=[arm_index, gripper_index],\n",
    "    edge_step_size=0.125,  # Arbitrary value: we don't use the CheckEdgeCollisionFree\n",
    "    env_collision_padding=0.005,\n",
    "    self_collision_padding=0.005,\n",
    ")"
   ]
  },
  {
   "cell_type": "code",
   "execution_count": null,
   "metadata": {},
   "outputs": [],
   "source": [
    "start_joints = np.deg2rad([0, -90, -90, -90, 90, 0])\n",
    "collision_checker.CheckConfigCollisionFree(start_joints)"
   ]
  },
  {
   "cell_type": "code",
   "execution_count": null,
   "metadata": {},
   "outputs": [],
   "source": [
    "# To visualize the start pose in meshcat\n",
    "plant.SetPositions(plant_context, arm_index, start_joints)\n",
    "diagram.ForcedPublish(context)"
   ]
  },
  {
   "cell_type": "code",
   "execution_count": null,
   "metadata": {},
   "outputs": [],
   "source": [
    "goal_joints = np.deg2rad([180, -135, 95, -50, -90, -90])\n",
    "collision_checker.CheckConfigCollisionFree(goal_joints)"
   ]
  },
  {
   "cell_type": "markdown",
   "metadata": {},
   "source": [
    "## 2. Integration with OMPL\n",
    "\n",
    "For integration with OMPL, we provide a `SingleArmOmplPlanner`, which handles conversion to OMPL data types and creates OMPL objects. \n",
    "\n",
    "The only \"external\" thing this class requires, a function tells it whether a given joint configuration is valid or not.\n",
    "\n",
    "In this case, the `CheckConfigCollisionFree` method of the `SceneGraphCollisionChecker` we made can be used for this purpose."
   ]
  },
  {
   "cell_type": "code",
   "execution_count": null,
   "metadata": {},
   "outputs": [],
   "source": [
    "planner = SingleArmOmplPlanner(is_state_valid_fn=collision_checker.CheckConfigCollisionFree)\n",
    "\n",
    "# You can choose the planner OMPL uses like so:\n",
    "# import ompl.geometric as og\n",
    "# simple_setup = planner._simple_setup\n",
    "# simple_setup.setPlanner(og.LBKPIECE1(simple_setup.getSpaceInformation()))"
   ]
  },
  {
   "cell_type": "code",
   "execution_count": null,
   "metadata": {},
   "outputs": [],
   "source": [
    "path = planner.plan_to_joint_configuration(start_joints, goal_joints)"
   ]
  },
  {
   "cell_type": "markdown",
   "metadata": {},
   "source": [
    "## 3. Visualizing the path in Drake\n",
    "\n",
    "Run the cell below and look at Meshcat in your browser to see your robot moving."
   ]
  },
  {
   "cell_type": "code",
   "execution_count": null,
   "metadata": {},
   "outputs": [],
   "source": [
    "publish_joint_path(path, 5.0, meshcat, diagram, context, arm_index)"
   ]
  },
  {
   "cell_type": "code",
   "execution_count": null,
   "metadata": {},
   "outputs": [],
   "source": []
  }
 ],
 "metadata": {
  "kernelspec": {
   "display_name": "cloth-competition",
   "language": "python",
   "name": "python3"
  },
  "language_info": {
   "codemirror_mode": {
    "name": "ipython",
    "version": 3
   },
   "file_extension": ".py",
   "mimetype": "text/x-python",
   "name": "python",
   "nbconvert_exporter": "python",
   "pygments_lexer": "ipython3",
   "version": "3.10.13"
  }
 },
 "nbformat": 4,
 "nbformat_minor": 2
}
