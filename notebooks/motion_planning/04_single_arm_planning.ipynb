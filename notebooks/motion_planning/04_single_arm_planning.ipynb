{
 "cells": [
  {
   "cell_type": "markdown",
   "metadata": {},
   "source": [
    "# Single arm motion planning\n",
    "\n",
    "This notebook shows how to use the SingleArmOmplPlanner with Drake to plan a collision-free path between two joint configurations."
   ]
  },
  {
   "cell_type": "code",
   "execution_count": null,
   "metadata": {},
   "outputs": [],
   "source": [
    "from pathlib import Path\n",
    "import numpy as np\n",
    "from airo_planner.utils import files\n",
    "from pydrake.geometry import Meshcat\n",
    "from pydrake.math import RigidTransform\n",
    "from pydrake.geometry import MeshcatVisualizer\n",
    "from pydrake.planning import RobotDiagramBuilder, SceneGraphCollisionChecker\n",
    "from pydrake.visualization import ApplyVisualizationConfig, VisualizationConfig"
   ]
  },
  {
   "cell_type": "markdown",
   "metadata": {},
   "source": [
    "## 1. Setting up Drake for collision checking \n",
    "\n",
    "### 1.1 Start building the Drake diagram\n",
    "\n",
    "Building Drake diagram can be quite complex. \n",
    "To simplify this Drake has a helper class called `RobotDiagramBuilder` that helps linking all the Drake systems.\n",
    "\n",
    "Using this class and its attirbutes we can easily add URDFs and weld them together.\n",
    "As far as I know, a weld is exactly the same as a fixed joint in URDF."
   ]
  },
  {
   "cell_type": "code",
   "execution_count": null,
   "metadata": {},
   "outputs": [],
   "source": [
    "robot_diagram_builder = RobotDiagramBuilder()  # time_step=0.001 even when I set timestep I get the mimic joint warning\n",
    "scene_graph = robot_diagram_builder.scene_graph()\n",
    "plant = robot_diagram_builder.plant()\n",
    "builder = robot_diagram_builder.builder()\n",
    "parser = robot_diagram_builder.parser()\n",
    "\n",
    "# Add visualizer\n",
    "meshcat = Meshcat()\n",
    "visualizer = MeshcatVisualizer.AddToBuilder(builder, scene_graph, meshcat)\n",
    "\n",
    "# Load URDF files\n",
    "resources_root = str(files.get_resources_dir())\n",
    "ur5e_urdf = Path(resources_root) / \"robots\" / \"ur5e\" / \"ur5e.urdf\"\n",
    "robotiq_2f_85_gripper_urdf = Path(resources_root) / \"grippers\" / \"2f_85_gripper\" / \"urdf\" / \"robotiq_2f_85_static.urdf\"\n",
    "table_urdf = \"table.urdf\"\n",
    "\n",
    "arm_index = parser.AddModelFromFile(str(ur5e_urdf), model_name=\"arm_left\")\n",
    "gripper_index = parser.AddModelFromFile(str(robotiq_2f_85_gripper_urdf), model_name=\"gripper\")\n",
    "table_index = parser.AddModelFromFile(str(table_urdf))\n",
    "\n",
    "# Weld some frames together\n",
    "world_frame = plant.world_frame()\n",
    "arm_frame = plant.GetFrameByName(\"base_link\", arm_index)\n",
    "arm_wrist_frame = plant.GetFrameByName(\"wrist_3_link\", arm_index)\n",
    "gripper_frame = plant.GetFrameByName(\"base_link\", gripper_index)\n",
    "table_frame = plant.GetFrameByName(\"base_link\", table_index)\n",
    "\n",
    "plant.WeldFrames(world_frame, arm_frame)\n",
    "plant.WeldFrames(arm_wrist_frame, gripper_frame)\n",
    "plant.WeldFrames(world_frame, table_frame, RigidTransform([0, 0, 0]))"
   ]
  },
  {
   "cell_type": "markdown",
   "metadata": {},
   "source": [
    "### 1.2 Finalize the diagram"
   ]
  },
  {
   "cell_type": "code",
   "execution_count": null,
   "metadata": {},
   "outputs": [],
   "source": [
    "# These 4 lines are only for collision visualization\n",
    "builder = robot_diagram_builder.builder()\n",
    "plant.Finalize()\n",
    "config = VisualizationConfig(publish_contacts=True, enable_alpha_sliders=True)\n",
    "ApplyVisualizationConfig(config, builder=builder, plant=plant, meshcat=meshcat)\n",
    "\n",
    "# A diagram is needed in the constructor of the SceneGraphCollisionChecker\n",
    "# However, calling .Build() prevents us from adding more models, e.g. runtime obstacles\n",
    "diagram = robot_diagram_builder.Build()\n",
    "\n",
    "# Create default contexts ~= state\n",
    "context = diagram.CreateDefaultContext()\n",
    "plant_context = plant.GetMyContextFromRoot(context)\n",
    "diagram.ForcedPublish(context)"
   ]
  },
  {
   "cell_type": "markdown",
   "metadata": {},
   "source": [
    "### 1.3 Creating the collision checker"
   ]
  },
  {
   "cell_type": "code",
   "execution_count": null,
   "metadata": {},
   "outputs": [],
   "source": [
    "collision_checker = SceneGraphCollisionChecker(\n",
    "    model=diagram,\n",
    "    robot_model_instances=[arm_index],\n",
    "    edge_step_size=0.125, # Arbitrary value: we don't use the CheckEdgeCollisionFree\n",
    "    env_collision_padding = 0.005,\n",
    "    self_collision_padding = 0.005,\n",
    ")"
   ]
  },
  {
   "cell_type": "code",
   "execution_count": null,
   "metadata": {},
   "outputs": [],
   "source": [
    "start_joints = np.deg2rad([0, -90, -90, -90, 90, 0])\n",
    "\n",
    "q_all = plant.GetPositions(plant_context)\n",
    "collision_checker.CheckConfigCollisionFree(q_all)"
   ]
  },
  {
   "cell_type": "code",
   "execution_count": null,
   "metadata": {},
   "outputs": [],
   "source": [
    "plant.SetPositions(plant_context, arm_index, start_joints)\n",
    "diagram.ForcedPublish(context)"
   ]
  },
  {
   "cell_type": "code",
   "execution_count": null,
   "metadata": {},
   "outputs": [],
   "source": [
    "goal_joints = np.deg2rad([180, -135, 95, -50, -90, -90])\n",
    "collision_checker.CheckConfigCollisionFree(goal_joints)"
   ]
  },
  {
   "cell_type": "markdown",
   "metadata": {},
   "source": [
    "## 2. Integration with OMPL\n",
    "\n",
    "For integration with OMPL, we provide a `SingleArmOmplPlanner`, which handles conversion to OMPL data types and creates OMPL objects. \n",
    "\n",
    "The only \"external\" thing this class requires, a function tells it whether a given joint configuration is valid or not.\n",
    "\n",
    "In this case, the `CheckConfigCollisionFree` method of the `SceneGraphCollisionChecker` we made can be used for this purpose."
   ]
  },
  {
   "cell_type": "code",
   "execution_count": null,
   "metadata": {},
   "outputs": [],
   "source": [
    "from cloth_tools.ompl.single_arm_planner import SingleArmOmplPlanner\n",
    "\n",
    "planner = SingleArmOmplPlanner(is_state_valid_fn=collision_checker.CheckConfigCollisionFree)"
   ]
  },
  {
   "cell_type": "code",
   "execution_count": null,
   "metadata": {},
   "outputs": [],
   "source": [
    "path = planner.plan_to_joint_configuration(start_joints, goal_joints)\n",
    "\n",
    "if path is None:\n",
    "    print(\"No path found\")\n",
    "else:\n",
    "    with np.printoptions(precision=3, suppress=True):\n",
    "        print(\"Amount of waypoints:\", len(path))\n",
    "        print(path[0])\n",
    "        print(path[-1])\n"
   ]
  },
  {
   "cell_type": "markdown",
   "metadata": {},
   "source": [
    "# 3. Visualizing the path in Drake\n",
    "\n",
    "Because we added a MeshcatVisualizer to the diagram, we can visualize the path in Drake by simply force publishing the waypoints to the Diagram and sleeping in between.\n",
    "\n",
    "TODO: use the Meshcat support for animations for this instead.\n",
    "\n",
    "Run the cell below and look at Meshcat in your browser to see your robot moving."
   ]
  },
  {
   "cell_type": "code",
   "execution_count": null,
   "metadata": {},
   "outputs": [],
   "source": [
    "import time\n",
    "\n",
    "total_time = 8.0\n",
    "\n",
    "for joint_configuration in path:\n",
    "    plant.SetPositions(plant_context, arm_index, joint_configuration)\n",
    "    diagram.ForcedPublish(context)\n",
    "    time.sleep(total_time / len(path))"
   ]
  },
  {
   "cell_type": "code",
   "execution_count": null,
   "metadata": {},
   "outputs": [],
   "source": []
  }
 ],
 "metadata": {
  "kernelspec": {
   "display_name": "cloth-competition",
   "language": "python",
   "name": "python3"
  },
  "language_info": {
   "codemirror_mode": {
    "name": "ipython",
    "version": 3
   },
   "file_extension": ".py",
   "mimetype": "text/x-python",
   "name": "python",
   "nbconvert_exporter": "python",
   "pygments_lexer": "ipython3",
   "version": "3.10.13"
  }
 },
 "nbformat": 4,
 "nbformat_minor": 2
}
