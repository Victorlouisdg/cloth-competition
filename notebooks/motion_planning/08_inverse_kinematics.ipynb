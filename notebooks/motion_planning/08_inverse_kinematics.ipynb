{
 "cells": [
  {
   "cell_type": "code",
   "execution_count": null,
   "metadata": {},
   "outputs": [],
   "source": [
    "import numpy as np\n",
    "from pydrake.planning import RobotDiagramBuilder\n",
    "from pydrake.math import RigidTransform, RollPitchYaw\n",
    "from cloth_tools.drake.building import add_meshcat_to_builder, finish_build\n",
    "from cloth_tools.drake.scenes import add_ur5e_and_table_to_builder\n",
    "from cloth_tools.drake.visualization import add_meshcat_triad"
   ]
  },
  {
   "cell_type": "code",
   "execution_count": null,
   "metadata": {},
   "outputs": [],
   "source": [
    "tcp_transform = np.identity(4)\n",
    "tcp_transform[2, 3] = 0.175"
   ]
  },
  {
   "cell_type": "code",
   "execution_count": null,
   "metadata": {},
   "outputs": [],
   "source": [
    "robot_diagram_builder = RobotDiagramBuilder()\n",
    "meshcat = add_meshcat_to_builder(robot_diagram_builder)\n",
    "arm_index, gripper_index = add_ur5e_and_table_to_builder(robot_diagram_builder)\n",
    "diagram, context = finish_build(robot_diagram_builder, meshcat)\n",
    "plant = diagram.plant()\n",
    "plant_context = plant.GetMyContextFromRoot(context)"
   ]
  },
  {
   "cell_type": "code",
   "execution_count": null,
   "metadata": {},
   "outputs": [],
   "source": [
    "start_joints = np.deg2rad([0, -90, -90, -90, 90, 0])\n",
    "plant.SetPositions(plant_context, arm_index, start_joints)\n",
    "diagram.ForcedPublish(context)"
   ]
  },
  {
   "cell_type": "code",
   "execution_count": null,
   "metadata": {},
   "outputs": [],
   "source": [
    "transform = RigidTransform(p=[0.25, 0, 0.4], rpy=RollPitchYaw([np.pi, 0, 0]))\n",
    "tcp_pose_0 = np.ascontiguousarray(transform.GetAsMatrix4())\n",
    "\n",
    "add_meshcat_triad(meshcat, \"TCP Frame\", X_W_Triad=transform)\n",
    "\n",
    "with np.printoptions(precision=10, suppress=True):\n",
    "    print(\"tcp_pose_0\")\n",
    "    print(tcp_pose_0)"
   ]
  },
  {
   "cell_type": "code",
   "execution_count": null,
   "metadata": {},
   "outputs": [],
   "source": [
    "from ur_analytic_ik import ur5e\n",
    "\n",
    "from cloth_tools.drake.visualization import publish_ik_solutions\n",
    "\n",
    "# Important note:\n",
    "# Drake TCP poses can be passed directly to the IK only when the robot base (as defined by the UR control box)\n",
    "# is aligned with the world frame.\n",
    "solutions = ur5e.inverse_kinematics_with_tcp(tcp_pose_0, tcp_transform)\n",
    "publish_ik_solutions(solutions, 2.0, meshcat, diagram, context, arm_index)"
   ]
  },
  {
   "cell_type": "code",
   "execution_count": null,
   "metadata": {},
   "outputs": [],
   "source": [
    "tcp_pose_1 = np.identity(4)\n",
    "X = np.array([-1.0, 0.0, 0.0])\n",
    "Y = np.array([0.0, 1.0, 0.0])\n",
    "Z = np.array([0.0, 0.0, -1.0])\n",
    "top_down_orientation = np.column_stack([X, Y, Z])\n",
    "translation = np.array([-0.2, -0.2, 0.2])\n",
    "\n",
    "tcp_pose_1[:3, :3] = top_down_orientation\n",
    "tcp_pose_1[:3, 3] = translation\n",
    "\n",
    "with np.printoptions(precision=3, suppress=True):\n",
    "    print(\"tcp_pose_1\")\n",
    "    print(tcp_pose_1)"
   ]
  },
  {
   "cell_type": "code",
   "execution_count": null,
   "metadata": {},
   "outputs": [],
   "source": [
    "add_meshcat_triad(meshcat, \"tcp_pose_1\", X_W_Triad=RigidTransform(tcp_pose_1))"
   ]
  },
  {
   "cell_type": "code",
   "execution_count": null,
   "metadata": {},
   "outputs": [],
   "source": [
    "with np.printoptions(precision=3, suppress=True):\n",
    "    print(\"inverse_kinematics\")\n",
    "    print(ur5e.inverse_kinematics(tcp_pose_1))"
   ]
  },
  {
   "cell_type": "code",
   "execution_count": null,
   "metadata": {},
   "outputs": [],
   "source": [
    "solutions_2 = ur5e.inverse_kinematics_with_tcp(tcp_pose_1, tcp_transform)\n",
    "publish_ik_solutions(solutions_2, 2.0, meshcat, diagram, context, arm_index)"
   ]
  },
  {
   "cell_type": "code",
   "execution_count": null,
   "metadata": {},
   "outputs": [],
   "source": []
  }
 ],
 "metadata": {
  "kernelspec": {
   "display_name": "cloth-competition",
   "language": "python",
   "name": "python3"
  },
  "language_info": {
   "codemirror_mode": {
    "name": "ipython",
    "version": 3
   },
   "file_extension": ".py",
   "mimetype": "text/x-python",
   "name": "python",
   "nbconvert_exporter": "python",
   "pygments_lexer": "ipython3",
   "version": "3.10.13"
  }
 },
 "nbformat": 4,
 "nbformat_minor": 2
}
