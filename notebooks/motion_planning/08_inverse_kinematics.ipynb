{
 "cells": [
  {
   "cell_type": "code",
   "execution_count": null,
   "metadata": {},
   "outputs": [],
   "source": [
    "from pathlib import Path\n",
    "import numpy as np\n",
    "from airo_planner.utils import files\n",
    "from pydrake.geometry import Meshcat\n",
    "from pydrake.geometry import MeshcatVisualizer\n",
    "from pydrake.planning import RobotDiagramBuilder\n",
    "from cloth_tools.drake.building import finish_build\n",
    "from pydrake.math import RigidTransform, RollPitchYaw\n",
    "from airo_planner.visualization.drake_viz import add_meshcat_triad"
   ]
  },
  {
   "cell_type": "code",
   "execution_count": null,
   "metadata": {},
   "outputs": [],
   "source": [
    "tcp_transform = np.identity(4)\n",
    "tcp_transform[2, 3] = 0.175"
   ]
  },
  {
   "cell_type": "code",
   "execution_count": null,
   "metadata": {},
   "outputs": [],
   "source": [
    "robot_diagram_builder = RobotDiagramBuilder()  # time_step=0.001 even when I set timestep I get the mimic joint warning\n",
    "scene_graph = robot_diagram_builder.scene_graph()\n",
    "plant = robot_diagram_builder.plant()\n",
    "builder = robot_diagram_builder.builder()\n",
    "parser = robot_diagram_builder.parser()\n",
    "\n",
    "# Add visualizer\n",
    "meshcat = Meshcat()\n",
    "visualizer = MeshcatVisualizer.AddToBuilder(builder, scene_graph, meshcat)\n",
    "\n",
    "# Load URDF files\n",
    "resources_root = str(files.get_resources_dir())\n",
    "ur5e_urdf = Path(resources_root) / \"robots\" / \"ur5e\" / \"ur5e.urdf\"\n",
    "robotiq_2f_85_gripper_urdf = Path(resources_root) / \"grippers\" / \"2f_85_gripper\" / \"urdf\" / \"robotiq_2f_85_static.urdf\"\n",
    "table_urdf = \"table.urdf\"\n",
    "\n",
    "arm_index = parser.AddModelFromFile(str(ur5e_urdf), model_name=\"arm_left\")\n",
    "gripper_index = parser.AddModelFromFile(str(robotiq_2f_85_gripper_urdf), model_name=\"gripper\")\n",
    "table_index = parser.AddModelFromFile(str(table_urdf))\n",
    "\n",
    "# Weld some frames together\n",
    "world_frame = plant.world_frame()\n",
    "arm_frame = plant.GetFrameByName(\"base_link\", arm_index)\n",
    "arm_tool_frame = plant.GetFrameByName(\"tool0\", arm_index)\n",
    "gripper_frame = plant.GetFrameByName(\"base_link\", gripper_index)\n",
    "table_frame = plant.GetFrameByName(\"base_link\", table_index)\n",
    "\n",
    "X_W_B = RigidTransform(rpy=RollPitchYaw([0, 0, -np.pi / 2]), p=[0, 0, 0])\n",
    "\n",
    "plant.WeldFrames(world_frame, arm_frame, X_W_B)\n",
    "plant.WeldFrames(arm_tool_frame, gripper_frame, RigidTransform(rpy=RollPitchYaw([0, 0, np.pi / 2]), p=[0, 0, 0]))\n",
    "plant.WeldFrames(world_frame, table_frame)\n",
    "\n",
    "diagram, context = finish_build(robot_diagram_builder, meshcat)\n",
    "plant = diagram.plant()\n",
    "plant_context = plant.GetMyContextFromRoot(context)"
   ]
  },
  {
   "cell_type": "code",
   "execution_count": null,
   "metadata": {},
   "outputs": [],
   "source": [
    "start_joints = np.deg2rad([0, -90, -90, -90, 90, 0])\n",
    "plant.SetPositions(plant_context, arm_index, start_joints)\n",
    "diagram.ForcedPublish(context)"
   ]
  },
  {
   "cell_type": "code",
   "execution_count": null,
   "metadata": {},
   "outputs": [],
   "source": [
    "transform = RigidTransform(p=[0.25, 0, 0.4], rpy=RollPitchYaw([np.pi, 0, 0]))\n",
    "tcp_pose_0 = np.ascontiguousarray(transform.GetAsMatrix4())\n",
    "\n",
    "add_meshcat_triad(meshcat, \"TCP Frame\", X_W_Triad=transform)\n",
    "\n",
    "with np.printoptions(precision=10, suppress=True):\n",
    "    print(\"tcp_pose_0\")\n",
    "    print(tcp_pose_0)\n"
   ]
  },
  {
   "cell_type": "code",
   "execution_count": null,
   "metadata": {},
   "outputs": [],
   "source": [
    "from ur_analytic_ik import ur5e\n",
    "\n",
    "from cloth_tools.drake.visualization import publish_ik_solutions\n",
    "\n",
    "# I have in Drake X_W_TCP and I want to get X_CB_TCP, to use X_CB_W for conversion\n",
    "X_CB_B = RigidTransform(rpy=RollPitchYaw([0, 0, np.pi]), p=[0, 0, 0]).GetAsMatrix4() # 180 rotation between URDF base en control box base\n",
    "X_CB_W = X_CB_B @ np.linalg.inv(X_W_B.GetAsMatrix4())\n",
    "X_CB_TCP = X_CB_W @ tcp_pose_0\n",
    "\n",
    "solutions = ur5e.inverse_kinematics_with_tcp(X_CB_TCP, tcp_transform)\n",
    "publish_ik_solutions(solutions, 2.0, meshcat, diagram, context, arm_index)"
   ]
  },
  {
   "cell_type": "code",
   "execution_count": null,
   "metadata": {},
   "outputs": [],
   "source": [
    "tcp_pose_1 = np.identity(4)\n",
    "X = np.array([-1.0, 0.0, 0.0])\n",
    "Y = np.array([0.0, 1.0, 0.0])\n",
    "Z = np.array([0.0, 0.0, -1.0])\n",
    "top_down_orientation = np.column_stack([X, Y, Z])\n",
    "translation = np.array([-0.2, -0.2, 0.2])\n",
    "\n",
    "tcp_pose_1[:3, :3] = top_down_orientation\n",
    "tcp_pose_1[:3, 3] = translation\n",
    "\n",
    "with np.printoptions(precision=3, suppress=True):\n",
    "    print(\"tcp_pose_1\")\n",
    "    print(tcp_pose_1)"
   ]
  },
  {
   "cell_type": "code",
   "execution_count": null,
   "metadata": {},
   "outputs": [],
   "source": [
    "add_meshcat_triad(meshcat, \"tcp_pose_1\", X_W_Triad=RigidTransform(tcp_pose_1))"
   ]
  },
  {
   "cell_type": "code",
   "execution_count": null,
   "metadata": {},
   "outputs": [],
   "source": [
    "with np.printoptions(precision=3, suppress=True):\n",
    "    print(\"inverse_kinematics\")\n",
    "    print(ur5e.inverse_kinematics(tcp_pose_1))\n"
   ]
  },
  {
   "cell_type": "code",
   "execution_count": null,
   "metadata": {},
   "outputs": [],
   "source": [
    "solutions_2 = ur5e.inverse_kinematics_with_tcp(X_CB_W @ tcp_pose_1, tcp_transform)\n",
    "publish_ik_solutions(solutions_2, 2.0, meshcat, diagram, context, arm_index)"
   ]
  },
  {
   "cell_type": "code",
   "execution_count": null,
   "metadata": {},
   "outputs": [],
   "source": []
  }
 ],
 "metadata": {
  "kernelspec": {
   "display_name": "cloth-competition",
   "language": "python",
   "name": "python3"
  },
  "language_info": {
   "codemirror_mode": {
    "name": "ipython",
    "version": 3
   },
   "file_extension": ".py",
   "mimetype": "text/x-python",
   "name": "python",
   "nbconvert_exporter": "python",
   "pygments_lexer": "ipython3",
   "version": "3.10.13"
  }
 },
 "nbformat": 4,
 "nbformat_minor": 2
}
