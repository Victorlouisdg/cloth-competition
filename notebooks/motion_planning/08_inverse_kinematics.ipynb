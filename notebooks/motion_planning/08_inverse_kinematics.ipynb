{
 "cells": [
  {
   "cell_type": "code",
   "execution_count": null,
   "metadata": {},
   "outputs": [],
   "source": [
    "from pathlib import Path\n",
    "import numpy as np\n",
    "from airo_planner.utils import files\n",
    "from pydrake.geometry import Meshcat\n",
    "from pydrake.math import RigidTransform\n",
    "from pydrake.geometry import MeshcatVisualizer\n",
    "from pydrake.planning import RobotDiagramBuilder\n",
    "from cloth_tools.drake.building import finish_build"
   ]
  },
  {
   "cell_type": "code",
   "execution_count": null,
   "metadata": {},
   "outputs": [],
   "source": [
    "tcp_transform = np.identity(4)\n",
    "tcp_transform[2, 3] = 0.175"
   ]
  },
  {
   "cell_type": "code",
   "execution_count": null,
   "metadata": {},
   "outputs": [],
   "source": [
    "robot_diagram_builder = RobotDiagramBuilder()  # time_step=0.001 even when I set timestep I get the mimic joint warning\n",
    "scene_graph = robot_diagram_builder.scene_graph()\n",
    "plant = robot_diagram_builder.plant()\n",
    "builder = robot_diagram_builder.builder()\n",
    "parser = robot_diagram_builder.parser()\n",
    "\n",
    "# Add visualizer\n",
    "meshcat = Meshcat()\n",
    "visualizer = MeshcatVisualizer.AddToBuilder(builder, scene_graph, meshcat)\n",
    "\n",
    "# Load URDF files\n",
    "resources_root = str(files.get_resources_dir())\n",
    "ur5e_urdf = Path(resources_root) / \"robots\" / \"ur5e\" / \"ur5e.urdf\"\n",
    "robotiq_2f_85_gripper_urdf = Path(resources_root) / \"grippers\" / \"2f_85_gripper\" / \"urdf\" / \"robotiq_2f_85_static.urdf\"\n",
    "table_urdf = \"table.urdf\"\n",
    "\n",
    "arm_index = parser.AddModelFromFile(str(ur5e_urdf), model_name=\"arm_left\")\n",
    "gripper_index = parser.AddModelFromFile(str(robotiq_2f_85_gripper_urdf), model_name=\"gripper\")\n",
    "table_index = parser.AddModelFromFile(str(table_urdf))\n",
    "\n",
    "# Weld some frames together\n",
    "world_frame = plant.world_frame()\n",
    "arm_frame = plant.GetFrameByName(\"base_link\", arm_index)\n",
    "arm_wrist_frame = plant.GetFrameByName(\"wrist_3_link\", arm_index)\n",
    "gripper_frame = plant.GetFrameByName(\"base_link\", gripper_index)\n",
    "table_frame = plant.GetFrameByName(\"base_link\", table_index)\n",
    "\n",
    "plant.WeldFrames(world_frame, arm_frame)\n",
    "plant.WeldFrames(arm_wrist_frame, gripper_frame)\n",
    "plant.WeldFrames(world_frame, table_frame, RigidTransform([0, 0, 0]))\n",
    "\n",
    "diagram, context = finish_build(robot_diagram_builder, meshcat)\n",
    "plant = diagram.plant()\n",
    "plant_context = plant.GetMyContextFromRoot(context)"
   ]
  },
  {
   "cell_type": "code",
   "execution_count": null,
   "metadata": {},
   "outputs": [],
   "source": [
    "from typing import List\n",
    "from airo_typing import JointConfigurationType\n",
    "import time\n",
    "\n",
    "\n",
    "def publish_ik_solutions(solutions: List[JointConfigurationType]):\n",
    "    plant = diagram.plant()\n",
    "    plant_context = plant.GetMyContextFromRoot(context)\n",
    "\n",
    "    # meshcat.DeleteRecording() # Doesn't seem necessary, old one is overwritten\n",
    "    fps = 60.0\n",
    "    solution_show_time = 2.0\n",
    "    meshcat.StartRecording(set_visualizations_while_recording=False, frames_per_second=fps)\n",
    "\n",
    "    t = 0.0\n",
    "\n",
    "    for joint_configuration in solutions:\n",
    "        for _ in range(int(solution_show_time * fps)):\n",
    "            context.SetTime(t)\n",
    "            plant.SetPositions(plant_context, arm_index, joint_configuration.squeeze())\n",
    "            diagram.ForcedPublish(context)\n",
    "            t += 1.0 / fps\n",
    "\n",
    "    meshcat.StopRecording()\n",
    "    meshcat.PublishRecording()"
   ]
  },
  {
   "cell_type": "code",
   "execution_count": null,
   "metadata": {},
   "outputs": [],
   "source": [
    "import numpy as np\n",
    "from airo_typing import Vector3DType\n",
    "from pydrake.geometry import Cylinder, Meshcat, Rgba\n",
    "from pydrake.math import RigidTransform, RotationMatrix, RollPitchYaw\n",
    "from pydrake.multibody.tree import FrameIndex\n",
    "from pydrake.trajectories import BsplineTrajectory\n",
    "\n",
    "\n",
    "def add_meshcat_triad(meshcat, path, length=0.05, radius=0.002, opacity=1.0, X_W_Triad=RigidTransform(), rgba_xyz=None):\n",
    "    if rgba_xyz is None:\n",
    "        rgba_xyz = [[1, 0, 0, opacity], [0, 1, 0, opacity], [0, 0, 1, opacity]]\n",
    "\n",
    "    meshcat.SetTransform(path, X_W_Triad)\n",
    "    # x-axis\n",
    "    X_TG = RigidTransform(RotationMatrix.MakeYRotation(np.pi / 2), [length / 2.0, 0, 0])\n",
    "    meshcat.SetTransform(path + \"/x-axis\", X_TG)\n",
    "    meshcat.SetObject(path + \"/x-axis\", Cylinder(radius, length), Rgba(*rgba_xyz[0]))\n",
    "\n",
    "    # y-axis\n",
    "    X_TG = RigidTransform(RotationMatrix.MakeXRotation(np.pi / 2), [0, length / 2.0, 0])\n",
    "    meshcat.SetTransform(path + \"/y-axis\", X_TG)\n",
    "    meshcat.SetObject(path + \"/y-axis\", Cylinder(radius, length), Rgba(*rgba_xyz[1]))\n",
    "\n",
    "    # z-axis\n",
    "    X_TG = RigidTransform([0, 0, length / 2.0])\n",
    "    meshcat.SetTransform(path + \"/z-axis\", X_TG)\n",
    "    meshcat.SetObject(path + \"/z-axis\", Cylinder(radius, length), Rgba(*rgba_xyz[2]))\n"
   ]
  },
  {
   "cell_type": "code",
   "execution_count": null,
   "metadata": {},
   "outputs": [],
   "source": [
    "start_joints = np.deg2rad([0, -90, -90, -90, 90, 0])\n",
    "plant.SetPositions(plant_context, arm_index, start_joints)\n",
    "diagram.ForcedPublish(context)"
   ]
  },
  {
   "cell_type": "code",
   "execution_count": null,
   "metadata": {},
   "outputs": [],
   "source": [
    "from airo_spatial_algebra import SE3Container\n",
    "\n",
    "transform = RigidTransform(p=[0.25, 0, 0.4], rpy=RollPitchYaw([np.pi, 0, 0]))\n",
    "tcp_pose_0 = np.ascontiguousarray(transform.GetAsMatrix4())\n",
    "\n",
    "add_meshcat_triad(meshcat, \"TCP Frame\", X_W_Triad=transform)\n",
    "\n",
    "with np.printoptions(precision=10, suppress=True):\n",
    "    print(\"tcp_pose_0\")\n",
    "    print(tcp_pose_0)\n"
   ]
  },
  {
   "cell_type": "code",
   "execution_count": null,
   "metadata": {},
   "outputs": [],
   "source": [
    "from ur_analytic_ik import ur5e\n",
    "\n",
    "solutions = ur5e.inverse_kinematics_with_tcp(tcp_pose_0, tcp_transform)\n",
    "publish_ik_solutions(solutions)"
   ]
  },
  {
   "cell_type": "code",
   "execution_count": null,
   "metadata": {},
   "outputs": [],
   "source": [
    "tcp_pose_1 = np.identity(4)\n",
    "X = np.array([-1.0, 0.0, 0.0])\n",
    "Y = np.array([0.0, 1.0, 0.0])\n",
    "Z = np.array([0.0, 0.0, -1.0])\n",
    "top_down_orientation = np.column_stack([X, Y, Z])\n",
    "translation = np.array([-0.2, -0.2, 0.2])\n",
    "\n",
    "tcp_pose_1[:3, :3] = top_down_orientation\n",
    "tcp_pose_1[:3, 3] = translation\n",
    "\n",
    "with np.printoptions(precision=3, suppress=True):\n",
    "    print(\"tcp_pose_1\")\n",
    "    print(tcp_pose_1)"
   ]
  },
  {
   "cell_type": "code",
   "execution_count": null,
   "metadata": {},
   "outputs": [],
   "source": [
    "add_meshcat_triad(meshcat, \"tcp_pose_1\", X_W_Triad=RigidTransform(tcp_pose_1))"
   ]
  },
  {
   "cell_type": "code",
   "execution_count": null,
   "metadata": {},
   "outputs": [],
   "source": [
    "with np.printoptions(precision=3, suppress=True):\n",
    "    print(\"inverse_kinematics\")\n",
    "    print(ur5e.inverse_kinematics(tcp_pose_1))\n"
   ]
  },
  {
   "cell_type": "code",
   "execution_count": null,
   "metadata": {},
   "outputs": [],
   "source": [
    "publish_ik_solutions(ur5e.inverse_kinematics_with_tcp(tcp_pose_1, tcp_transform))"
   ]
  },
  {
   "cell_type": "code",
   "execution_count": null,
   "metadata": {},
   "outputs": [],
   "source": []
  }
 ],
 "metadata": {
  "kernelspec": {
   "display_name": "cloth-competition",
   "language": "python",
   "name": "python3"
  },
  "language_info": {
   "codemirror_mode": {
    "name": "ipython",
    "version": 3
   },
   "file_extension": ".py",
   "mimetype": "text/x-python",
   "name": "python",
   "nbconvert_exporter": "python",
   "pygments_lexer": "ipython3",
   "version": "3.10.13"
  }
 },
 "nbformat": 4,
 "nbformat_minor": 2
}
