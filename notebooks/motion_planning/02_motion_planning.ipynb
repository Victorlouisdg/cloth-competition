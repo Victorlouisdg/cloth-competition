{
 "cells": [
  {
   "cell_type": "code",
   "execution_count": null,
   "metadata": {},
   "outputs": [],
   "source": [
    "import numpy as np\n",
    "from airo_drake import DualArmScene, add_floor, add_manipulator, add_meshcat, add_wall, finish_build\n",
    "from pydrake.math import RigidTransform, RollPitchYaw\n",
    "from pydrake.multibody.tree import ModelInstanceIndex\n",
    "from pydrake.planning import RobotDiagramBuilder, SceneGraphCollisionChecker\n",
    "from cloth_tools.drake.scenes import add_cloth_competition_dual_ur5e_scene, X_W_LCB_DEFAULT, X_W_RCB_DEFAULT\n",
    "from airo_drake import X_URBASE_ROSBASE\n",
    "\n",
    "\n",
    "robot_diagram_builder = RobotDiagramBuilder()\n",
    "\n",
    "meshcat = add_meshcat(robot_diagram_builder)\n",
    "\n",
    "X_W_LCB = X_W_LCB_DEFAULT\n",
    "X_W_RCB = X_W_RCB_DEFAULT\n",
    "\n",
    "(arm_left_index, arm_right_index), (gripper_left_index, gripper_right_index) = add_cloth_competition_dual_ur5e_scene(\n",
    "    robot_diagram_builder, X_W_LCB, X_W_RCB\n",
    ")\n",
    "robot_diagram, context = finish_build(robot_diagram_builder, meshcat)\n",
    "\n",
    "scene = DualArmScene(robot_diagram, arm_left_index, arm_right_index, gripper_left_index, gripper_right_index, meshcat)"
   ]
  },
  {
   "cell_type": "code",
   "execution_count": null,
   "metadata": {},
   "outputs": [],
   "source": [
    "collision_checker = SceneGraphCollisionChecker(\n",
    "    model=scene.robot_diagram,\n",
    "    robot_model_instances=[\n",
    "        scene.arm_left_index,\n",
    "        scene.arm_right_index,\n",
    "        scene.gripper_left_index,\n",
    "        scene.gripper_right_index,\n",
    "    ],\n",
    "    edge_step_size=0.125,  # Arbitrary value: we don't use the CheckEdgeCollisionFree\n",
    "    env_collision_padding=0.005,\n",
    "    self_collision_padding=0.005,\n",
    ")"
   ]
  },
  {
   "cell_type": "code",
   "execution_count": null,
   "metadata": {},
   "outputs": [],
   "source": [
    "from functools import partial\n",
    "from cloth_tools.kinematics.constants import TCP_TRANSFORM\n",
    "from cloth_tools.kinematics.inverse_kinematics import inverse_kinematics_in_world_fn\n",
    "\n",
    "inverse_kinematics_left_fn = partial(inverse_kinematics_in_world_fn, X_W_CB=X_W_LCB, tcp_transform=TCP_TRANSFORM)\n",
    "inverse_kinematics_right_fn = partial(inverse_kinematics_in_world_fn, X_W_CB=X_W_RCB, tcp_transform=TCP_TRANSFORM)"
   ]
  },
  {
   "cell_type": "code",
   "execution_count": null,
   "metadata": {},
   "outputs": [],
   "source": [
    "from airo_planner import DualArmOmplPlanner\n",
    "\n",
    "joint_bounds_lower = np.deg2rad([-360, -195, -160, -360, -360, -360])\n",
    "joint_bounds_upper = np.deg2rad([360, 15, 160, 360, 360, 360])\n",
    "joint_bounds = joint_bounds_lower, joint_bounds_upper\n",
    "\n",
    "planner = DualArmOmplPlanner(\n",
    "    is_state_valid_fn=collision_checker.CheckConfigCollisionFree,\n",
    "    inverse_kinematics_left_fn=inverse_kinematics_left_fn,\n",
    "    inverse_kinematics_right_fn=inverse_kinematics_right_fn,\n",
    "    joint_bounds_left=joint_bounds,\n",
    "    joint_bounds_right=joint_bounds,\n",
    ")"
   ]
  },
  {
   "cell_type": "code",
   "execution_count": null,
   "metadata": {},
   "outputs": [],
   "source": [
    "tangled_joints_left = np.deg2rad([0, -90, -90, -90, 90, 0])\n",
    "tangled_joints_right = np.deg2rad([-136, -116, -110, -133, 40, 0])\n",
    "tangled_joints = np.concatenate([tangled_joints_left, tangled_joints_right])\n",
    "\n",
    "plant = scene.robot_diagram.plant()\n",
    "plant_context = plant.GetMyContextFromRoot(context)\n",
    "plant.SetPositions(plant_context, tangled_joints)\n",
    "scene.robot_diagram.ForcedPublish(context) # updates the meshcat visualization"
   ]
  },
  {
   "cell_type": "code",
   "execution_count": null,
   "metadata": {},
   "outputs": [],
   "source": [
    "from airo_typing import RotationMatrixType\n",
    "from airo_drake import visualize_frame\n",
    "from airo_typing import HomogeneousMatrixType\n",
    "\n",
    "def hang_in_the_air_tcp_orientation(left: bool) -> RotationMatrixType:\n",
    "    gripper_forward_direction = np.array([0, -1, 0]) if left else np.array([0, 1, 0])\n",
    "    Z = gripper_forward_direction / np.linalg.norm(gripper_forward_direction)\n",
    "    X = np.array([0, 0, 1]) if left else np.array([0, 0, -1])\n",
    "    Y = np.cross(Z, X)\n",
    "    return np.column_stack([X, Y, Z])\n",
    "\n",
    "\n",
    "def hang_in_the_air_tcp_pose(left: bool) -> HomogeneousMatrixType:\n",
    "    position = np.array([0, 0, 0.9])  # 1 m is too close to a singularity\n",
    "    gripper_orientation = hang_in_the_air_tcp_orientation(left)\n",
    "\n",
    "    gripper_pose = np.identity(4)\n",
    "    gripper_pose[0:3, 0:3] = gripper_orientation\n",
    "    gripper_pose[0:3, 3] = position\n",
    "    return gripper_pose\n",
    "\n",
    "stretch_pose_left = hang_in_the_air_tcp_pose(left=True)\n",
    "stretch_pose_right = hang_in_the_air_tcp_pose(left=False)\n",
    "\n",
    "stretch_pose_left[:3, 3] += np.array([-0.4, 0.02, 0])\n",
    "stretch_pose_right[:3, 3] += np.array([-0.4, -0.02, 0])\n",
    "\n",
    "visualize_frame(scene.meshcat, \"stretch_pose_left\", stretch_pose_left, opacity=0.5)\n",
    "visualize_frame(scene.meshcat, \"stretch_pose_right\", stretch_pose_right, opacity=0.5)"
   ]
  },
  {
   "cell_type": "code",
   "execution_count": null,
   "metadata": {},
   "outputs": [],
   "source": [
    "tangled_joints_left = np.deg2rad([0, -90, -90, -90, 90, 0])\n",
    "tangled_joints_right = np.deg2rad([-136, -116, -110, -133, 40, 0])\n",
    "tangled_joints = np.concatenate([tangled_joints_left, tangled_joints_right])\n",
    "\n",
    "\n",
    "path = planner.plan_to_tcp_pose(tangled_joints_left, tangled_joints_right, stretch_pose_left, stretch_pose_right)"
   ]
  },
  {
   "cell_type": "code",
   "execution_count": null,
   "metadata": {},
   "outputs": [],
   "source": [
    "from airo_drake import time_parametrize_toppra, animate_dual_joint_trajectory\n",
    "\n",
    "trajectory = time_parametrize_toppra(scene.robot_diagram.plant(), path)\n",
    "animate_dual_joint_trajectory(scene.meshcat, scene.robot_diagram, scene.arm_left_index, scene.arm_right_index, trajectory)"
   ]
  }
 ],
 "metadata": {
  "kernelspec": {
   "display_name": "cloth-competition-dev",
   "language": "python",
   "name": "python3"
  },
  "language_info": {
   "codemirror_mode": {
    "name": "ipython",
    "version": 3
   },
   "file_extension": ".py",
   "mimetype": "text/x-python",
   "name": "python",
   "nbconvert_exporter": "python",
   "pygments_lexer": "ipython3",
   "version": "3.10.14"
  }
 },
 "nbformat": 4,
 "nbformat_minor": 2
}
