{
 "cells": [
  {
   "cell_type": "code",
   "execution_count": null,
   "metadata": {},
   "outputs": [],
   "source": [
    "import numpy as np\n",
    "from airo_drake import DualArmScene, add_floor, add_manipulator, add_meshcat, add_wall, finish_build\n",
    "from pydrake.math import RigidTransform, RollPitchYaw\n",
    "from pydrake.multibody.tree import ModelInstanceIndex\n",
    "from pydrake.planning import RobotDiagramBuilder, SceneGraphCollisionChecker\n",
    "from cloth_tools.drake.scenes import add_cloth_competition_dual_ur5e_scene, X_W_LCB_DEFAULT, X_W_RCB_DEFAULT\n",
    "from airo_drake import X_URBASE_ROSBASE\n",
    "\n",
    "\n",
    "robot_diagram_builder = RobotDiagramBuilder()\n",
    "\n",
    "meshcat = add_meshcat(robot_diagram_builder)\n",
    "meshcat.SetCameraPose([-1.5, 0, 1.0], [0, 0, 0])\n",
    "\n",
    "X_W_LCB = X_W_LCB_DEFAULT\n",
    "X_W_RCB = X_W_RCB_DEFAULT\n",
    "\n",
    "(arm_left_index, arm_right_index), (gripper_left_index, gripper_right_index) = add_cloth_competition_dual_ur5e_scene(\n",
    "    robot_diagram_builder, X_W_LCB, X_W_RCB\n",
    ")\n",
    "robot_diagram, context = finish_build(robot_diagram_builder, meshcat)\n",
    "\n",
    "scene = DualArmScene(robot_diagram, arm_left_index, arm_right_index, gripper_left_index, gripper_right_index, meshcat)"
   ]
  },
  {
   "cell_type": "code",
   "execution_count": null,
   "metadata": {},
   "outputs": [],
   "source": [
    "collision_checker = SceneGraphCollisionChecker(\n",
    "    model=scene.robot_diagram,\n",
    "    robot_model_instances=[\n",
    "        scene.arm_left_index,\n",
    "        scene.arm_right_index,\n",
    "        scene.gripper_left_index,\n",
    "        scene.gripper_right_index,\n",
    "    ],\n",
    "    edge_step_size=0.125,  # Arbitrary value: we don't use the CheckEdgeCollisionFree\n",
    "    env_collision_padding=0.005,\n",
    "    self_collision_padding=0.005,\n",
    ")"
   ]
  },
  {
   "cell_type": "code",
   "execution_count": null,
   "metadata": {},
   "outputs": [],
   "source": [
    "tangled_joints_left = np.deg2rad([0, -90, -90, -90, 90, 0])\n",
    "# tangled_joints_right = np.deg2rad([224, -116, -110, -133, 40, 0])\n",
    "tangled_joints_right = np.deg2rad([144, -90, -125, 30, 120, 10])\n",
    "tangled_joints = np.concatenate([tangled_joints_left, tangled_joints_right])\n",
    "\n",
    "plant = scene.robot_diagram.plant()\n",
    "plant_context = plant.GetMyContextFromRoot(context)\n",
    "plant.SetPositions(plant_context, tangled_joints)\n",
    "scene.robot_diagram.ForcedPublish(context) # updates the meshcat visualization"
   ]
  },
  {
   "cell_type": "code",
   "execution_count": null,
   "metadata": {},
   "outputs": [],
   "source": [
    "from airo_typing import JointConfigurationType\n",
    "\n",
    "from cloth_tools.kinematics.inverse_kinematics import post_process_solution\n",
    "\n",
    "\n",
    "test_start_joints = np.array([0, 0, 0, 0, 0, -3.13])\n",
    "test_solution = np.array([0, 0, 0, 0, 0, 1.57])\n",
    "print(post_process_solution(test_solution, test_start_joints))"
   ]
  },
  {
   "cell_type": "code",
   "execution_count": null,
   "metadata": {},
   "outputs": [],
   "source": [
    "from functools import partial\n",
    "\n",
    "from airo_typing import HomogeneousMatrixType, JointConfigurationType\n",
    "from cloth_tools.kinematics.constants import TCP_TRANSFORM\n",
    "from cloth_tools.kinematics.inverse_kinematics import (\n",
    "    inverse_kinematics_in_world_fn,\n",
    "    inverse_kinematics_in_world_post_processed_fn,\n",
    ")\n",
    "from ur_analytic_ik import ur5e\n",
    "\n",
    "\n",
    "inverse_kinematics_left_fn = partial(\n",
    "    inverse_kinematics_in_world_post_processed_fn,\n",
    "    X_W_CB=X_W_LCB,\n",
    "    tcp_transform=TCP_TRANSFORM,\n",
    "    reference_configuration=tangled_joints_left,\n",
    ")\n",
    "inverse_kinematics_right_fn = partial(\n",
    "    inverse_kinematics_in_world_post_processed_fn,\n",
    "    X_W_CB=X_W_RCB,\n",
    "    tcp_transform=TCP_TRANSFORM,\n",
    "    reference_configuration=tangled_joints_right,\n",
    ")"
   ]
  },
  {
   "cell_type": "code",
   "execution_count": null,
   "metadata": {},
   "outputs": [],
   "source": [
    "from airo_planner import DualArmOmplPlanner\n",
    "\n",
    "joint_bounds_lower = np.deg2rad([-360, -195, -160, -360, -360, -360])\n",
    "joint_bounds_upper = np.deg2rad([360, 15, 160, 360, 360, 360])\n",
    "joint_bounds = joint_bounds_lower, joint_bounds_upper\n",
    "\n",
    "planner = DualArmOmplPlanner(\n",
    "    is_state_valid_fn=collision_checker.CheckConfigCollisionFree,\n",
    "    inverse_kinematics_left_fn=inverse_kinematics_left_fn,\n",
    "    inverse_kinematics_right_fn=inverse_kinematics_right_fn,\n",
    "    joint_bounds_left=joint_bounds,\n",
    "    joint_bounds_right=joint_bounds,\n",
    ")"
   ]
  },
  {
   "cell_type": "code",
   "execution_count": null,
   "metadata": {},
   "outputs": [],
   "source": [
    "from airo_typing import RotationMatrixType\n",
    "from airo_drake import visualize_frame\n",
    "from airo_typing import HomogeneousMatrixType\n",
    "\n",
    "def hang_in_the_air_tcp_orientation(left: bool) -> RotationMatrixType:\n",
    "    gripper_forward_direction = np.array([0, -1, 0]) if left else np.array([0, 1, 0])\n",
    "    Z = gripper_forward_direction / np.linalg.norm(gripper_forward_direction)\n",
    "    X = np.array([0, 0, 1]) if left else np.array([0, 0, -1])\n",
    "    Y = np.cross(Z, X)\n",
    "    return np.column_stack([X, Y, Z])\n",
    "\n",
    "\n",
    "def hang_in_the_air_tcp_pose(left: bool) -> HomogeneousMatrixType:\n",
    "    position = np.array([0, 0, 0.9])  # 1 m is too close to a singularity\n",
    "    gripper_orientation = hang_in_the_air_tcp_orientation(left)\n",
    "\n",
    "    gripper_pose = np.identity(4)\n",
    "    gripper_pose[0:3, 0:3] = gripper_orientation\n",
    "    gripper_pose[0:3, 3] = position\n",
    "    return gripper_pose\n",
    "\n",
    "stretch_pose_left = hang_in_the_air_tcp_pose(left=True)\n",
    "stretch_pose_right = hang_in_the_air_tcp_pose(left=False)\n",
    "\n",
    "stretch_pose_left[:3, 3] += np.array([-0.4, 0.02, 0])\n",
    "stretch_pose_right[:3, 3] += np.array([-0.4, -0.02, 0])\n",
    "\n",
    "visualize_frame(scene.meshcat, \"stretch_pose_left\", stretch_pose_left, opacity=0.5)\n",
    "visualize_frame(scene.meshcat, \"stretch_pose_right\", stretch_pose_right, opacity=0.5)"
   ]
  },
  {
   "cell_type": "code",
   "execution_count": null,
   "metadata": {},
   "outputs": [],
   "source": [
    "path = planner.plan_to_tcp_pose(tangled_joints_left, tangled_joints_right, stretch_pose_left, stretch_pose_right)"
   ]
  },
  {
   "cell_type": "code",
   "execution_count": null,
   "metadata": {},
   "outputs": [],
   "source": [
    "from airo_drake import time_parametrize_toppra, animate_dual_joint_trajectory\n",
    "\n",
    "trajectory = time_parametrize_toppra(scene.robot_diagram.plant(), path)\n",
    "animate_dual_joint_trajectory(scene.meshcat, scene.robot_diagram, scene.arm_left_index, scene.arm_right_index, trajectory)"
   ]
  },
  {
   "cell_type": "code",
   "execution_count": null,
   "metadata": {},
   "outputs": [],
   "source": [
    "path.shape"
   ]
  },
  {
   "cell_type": "code",
   "execution_count": null,
   "metadata": {},
   "outputs": [],
   "source": [
    "from ur_analytic_ik import ur5e\n",
    "\n",
    "def forward_kinematics_in_world_fn(joints, X_W_CB, tcp_transform):\n",
    "    X_CB_TCP = ur5e.forward_kinematics_with_tcp(*joints, tcp_transform)\n",
    "    X_W_TCP = X_W_CB @ X_CB_TCP\n",
    "    return X_W_TCP\n",
    "\n",
    "\n",
    "forward_kinematics_left_fn = partial(forward_kinematics_in_world_fn, X_W_CB=X_W_LCB, tcp_transform=TCP_TRANSFORM)\n",
    "forward_kinematics_right_fn = partial(forward_kinematics_in_world_fn, X_W_CB=X_W_RCB, tcp_transform=TCP_TRANSFORM)\n",
    "\n",
    "path_left = path[:, :6]\n",
    "path_right = path[:, 6:]\n"
   ]
  },
  {
   "cell_type": "code",
   "execution_count": null,
   "metadata": {},
   "outputs": [],
   "source": [
    "tcp_pose_left = forward_kinematics_left_fn(path_left[0])\n",
    "tcp_pose_right = forward_kinematics_right_fn(path_right[0])\n",
    "\n",
    "visualize_frame(scene.meshcat, \"tcp_pose_left\", tcp_pose_left, opacity=0.5)\n",
    "visualize_frame(scene.meshcat, \"tcp_pose_right\", tcp_pose_right, opacity=0.5)\n",
    "\n",
    "print(tangled_joints_right)\n",
    "print(\"IK Solutions\")\n",
    "for s in inverse_kinematics_right_fn(tcp_pose_right):\n",
    "    print(s, \"->\", post_process_solution(s, tangled_joints_right))"
   ]
  },
  {
   "cell_type": "code",
   "execution_count": null,
   "metadata": {},
   "outputs": [],
   "source": [
    "from airo_typing import InverseKinematicsFunctionType, JointPathType\n",
    "from pydrake.trajectories import PiecewisePolynomial\n",
    "from airo_drake import discretize_drake_joint_trajectory\n",
    "\n",
    "# For dual arm use only\n",
    "def calculate_tcp_paths(\n",
    "    path: JointPathType,\n",
    "    forward_kinematics_left_fn: InverseKinematicsFunctionType,\n",
    "    forward_kinematics_right_fn: InverseKinematicsFunctionType,\n",
    "):\n",
    "    \n",
    "    # TODO interpolate joint path with drake and then discretize again\n",
    "    path = np.array(path).squeeze()\n",
    "    times_dummy = np.linspace(0.0, 1.0, len(path))  # TOPP-RA will calculate the actual times\n",
    "    joint_trajectory = PiecewisePolynomial.FirstOrderHold(times_dummy, path.T)\n",
    "\n",
    "    # path_discretized = discretize_drake_joint_trajectory(joint_trajectory)\n",
    "\n",
    "    joint_positions = []\n",
    "    times_uniform = np.linspace(joint_trajectory.start_time(), joint_trajectory.end_time(), 100)\n",
    "    for t in times_uniform:\n",
    "        position = joint_trajectory.value(t).squeeze()\n",
    "        joint_positions.append(position)\n",
    "\n",
    "    path_discretized = np.array(joint_positions)\n",
    "\n",
    "    tcp_path_left = []\n",
    "    tcp_path_right = []\n",
    "    for i in range(len(path_discretized)):\n",
    "        joints = path_discretized[i]\n",
    "        tcp_pose_left = forward_kinematics_left_fn(joints[:6])\n",
    "        tcp_pose_right = forward_kinematics_right_fn(joints[6:])\n",
    "        tcp_path_left.append(tcp_pose_left)\n",
    "        tcp_path_right.append(tcp_pose_right)\n",
    "    return np.array(tcp_path_left), np.array(tcp_path_right)\n",
    "\n",
    "\n",
    "tcp_path_left, tcp_path_right = calculate_tcp_paths(path, forward_kinematics_left_fn, forward_kinematics_right_fn)\n",
    "\n",
    "tcp_path_right.shape"
   ]
  },
  {
   "cell_type": "code",
   "execution_count": null,
   "metadata": {},
   "outputs": [],
   "source": [
    "from airo_typing import PosePathType\n",
    "import numpy as np\n",
    "from pydrake.geometry import Meshcat\n",
    "\n",
    "\n",
    "def visualize_pose_path(\n",
    "    meshcat: Meshcat,\n",
    "    name: str,\n",
    "    pose_path: PosePathType,\n",
    "    length: float = 0.05,\n",
    "    radius: float = 0.001,\n",
    "    opacity: float = 1.0,\n",
    "):\n",
    "    for i in range(1, len(pose_path)):\n",
    "        visualize_frame(\n",
    "            meshcat,\n",
    "            f\"{name}/pose_{i}\",\n",
    "            pose_path[i],\n",
    "            length=length,\n",
    "            radius=radius,\n",
    "            opacity=opacity,\n",
    "        )\n",
    "\n",
    "\n",
    "visualize_pose_path(scene.meshcat, \"tcp_path_left\", tcp_path_left)\n",
    "visualize_pose_path(scene.meshcat, \"tcp_path_right\", tcp_path_right)"
   ]
  },
  {
   "cell_type": "code",
   "execution_count": null,
   "metadata": {},
   "outputs": [],
   "source": [
    "scene.meshcat.Delete(\"tcp_path_left/\")\n",
    "scene.meshcat.Delete(\"tcp_path_right/\")"
   ]
  },
  {
   "cell_type": "code",
   "execution_count": null,
   "metadata": {},
   "outputs": [],
   "source": [
    "from airo_typing import Vector3DArrayType\n",
    "\n",
    "\n",
    "def extract_positions(pose_path: PosePathType) -> Vector3DArrayType:\n",
    "    return np.array([pose[:3, 3] for pose in pose_path])\n",
    "\n",
    "positions_left = extract_positions(tcp_path_left)\n",
    "positions_right = extract_positions(tcp_path_right)\n",
    "positions_left.shape, positions_right.shape"
   ]
  },
  {
   "cell_type": "code",
   "execution_count": null,
   "metadata": {},
   "outputs": [],
   "source": [
    "def calculate_cartesian_path_length(positions: Vector3DArrayType) -> float:\n",
    "    return np.sum(np.linalg.norm(np.diff(positions, axis=0), axis=1))\n",
    "\n",
    "length_left = calculate_cartesian_path_length(positions_left)\n",
    "length_right = calculate_cartesian_path_length(positions_right)\n",
    "\n",
    "length_left, length_right"
   ]
  },
  {
   "cell_type": "code",
   "execution_count": null,
   "metadata": {},
   "outputs": [],
   "source": [
    "len(planner._all_paths)"
   ]
  },
  {
   "cell_type": "code",
   "execution_count": null,
   "metadata": {},
   "outputs": [],
   "source": [
    "for path in planner._all_paths:\n",
    "    path_left = path[:, :6]\n",
    "    path_right = path[:, 6:]\n",
    "    tcp_path_left, tcp_path_right = calculate_tcp_paths(path, forward_kinematics_left_fn, forward_kinematics_right_fn)\n",
    "    positions_left = extract_positions(tcp_path_left)\n",
    "    positions_right = extract_positions(tcp_path_right)\n",
    "    length_left = calculate_cartesian_path_length(positions_left)\n",
    "    length_right = calculate_cartesian_path_length(positions_right)\n",
    "    print(length_left, length_right, tcp_path_left.shape)"
   ]
  },
  {
   "cell_type": "code",
   "execution_count": null,
   "metadata": {},
   "outputs": [],
   "source": [
    "def choose_path_with_closest_tcp_positions(paths: list[JointPathType]) -> JointPathType:\n",
    "    \"\"\"Chooses the path where the maximum distance between the TCPs is minimized.\n",
    "    \n",
    "    This is useful when both arms are holding a piece of cloth that shouldn't be extended too much.\n",
    "    \"\"\"\n",
    "    max_distance = np.inf\n",
    "    best_path = None\n",
    "    for path in paths:\n",
    "        tcp_path_left, tcp_path_right = calculate_tcp_paths(path, forward_kinematics_left_fn, forward_kinematics_right_fn)\n",
    "        positions_left = extract_positions(tcp_path_left)\n",
    "        positions_right = extract_positions(tcp_path_right)\n",
    "        distance = np.max(np.linalg.norm(positions_left - positions_right, axis=1))\n",
    "        if distance < max_distance:\n",
    "            max_distance = distance\n",
    "            best_path = path\n",
    "    return best_path\n",
    "\n",
    "best_path = choose_path_with_closest_tcp_positions(planner._all_paths)\n",
    "\n",
    "print(best_path.shape)\n",
    "\n",
    "tcp_path_left, tcp_path_right = calculate_tcp_paths(best_path, forward_kinematics_left_fn, forward_kinematics_right_fn)\n",
    "print(len(tcp_path_left), len(tcp_path_right))\n",
    "visualize_pose_path(scene.meshcat, \"best_tcp_path_left\", tcp_path_left)\n",
    "visualize_pose_path(scene.meshcat, \"best_tcp_path_right\", tcp_path_right)\n",
    "\n",
    "positions_left = extract_positions(tcp_path_left)\n",
    "positions_right = extract_positions(tcp_path_right)\n",
    "length_left = calculate_cartesian_path_length(positions_left)\n",
    "length_right = calculate_cartesian_path_length(positions_right)\n",
    "\n",
    "length_left, length_right"
   ]
  },
  {
   "cell_type": "code",
   "execution_count": null,
   "metadata": {},
   "outputs": [],
   "source": []
  }
 ],
 "metadata": {
  "kernelspec": {
   "display_name": "cloth-competition-dev",
   "language": "python",
   "name": "python3"
  },
  "language_info": {
   "codemirror_mode": {
    "name": "ipython",
    "version": 3
   },
   "file_extension": ".py",
   "mimetype": "text/x-python",
   "name": "python",
   "nbconvert_exporter": "python",
   "pygments_lexer": "ipython3",
   "version": "3.10.14"
  }
 },
 "nbformat": 4,
 "nbformat_minor": 2
}
