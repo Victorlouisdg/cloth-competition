{
 "cells": [
  {
   "cell_type": "markdown",
   "metadata": {},
   "source": [
    "# Drake & OMPL integration example\n",
    "\n",
    "This example shows how to use Drake for collision checking and visualization, and OMPL for planning."
   ]
  },
  {
   "cell_type": "code",
   "execution_count": null,
   "metadata": {},
   "outputs": [],
   "source": [
    "import numpy as np\n",
    "from pydrake.planning import RobotDiagramBuilder, SceneGraphCollisionChecker\n",
    "from cloth_tools.drake.building import add_meshcat_to_builder, finish_build\n",
    "from cloth_tools.drake.scenes import add_dual_ur5e_and_table_to_builder"
   ]
  },
  {
   "cell_type": "code",
   "execution_count": null,
   "metadata": {},
   "outputs": [],
   "source": [
    "robot_diagram_builder = RobotDiagramBuilder()\n",
    "meshcat = add_meshcat_to_builder(robot_diagram_builder)\n",
    "arm_indices, gripper_indices = add_dual_ur5e_and_table_to_builder(robot_diagram_builder)"
   ]
  },
  {
   "cell_type": "code",
   "execution_count": null,
   "metadata": {},
   "outputs": [],
   "source": [
    "diagram, context = finish_build(robot_diagram_builder, meshcat)\n",
    "plant = diagram.plant()\n",
    "plant_context = plant.GetMyContextFromRoot(context)"
   ]
  },
  {
   "cell_type": "code",
   "execution_count": null,
   "metadata": {},
   "outputs": [],
   "source": [
    "collision_checker = SceneGraphCollisionChecker(\n",
    "    model=diagram,\n",
    "    robot_model_instances=[*arm_indices, *gripper_indices],\n",
    "    edge_step_size=0.125,  # Arbitrary value: we don't use the CheckEdgeCollisionFree\n",
    "    env_collision_padding=0.005,\n",
    "    self_collision_padding=0.005,\n",
    ")"
   ]
  },
  {
   "cell_type": "code",
   "execution_count": null,
   "metadata": {},
   "outputs": [],
   "source": [
    "start_joints_left = np.deg2rad([0, -90, -90, -90, 90, 0])\n",
    "start_joints_right = np.deg2rad([-136, -116, -110, -133, 40, 0])\n",
    "\n",
    "arm_left_index, arm_right_index = arm_indices\n",
    "plant.SetPositions(plant_context, arm_left_index, start_joints_left)\n",
    "plant.SetPositions(plant_context, arm_right_index, start_joints_right)\n",
    "\n",
    "diagram.ForcedPublish(context)\n",
    "\n",
    "q_all = plant.GetPositions(plant_context)\n",
    "collision_checker.CheckConfigCollisionFree(q_all)"
   ]
  },
  {
   "cell_type": "code",
   "execution_count": null,
   "metadata": {},
   "outputs": [],
   "source": [
    "home_joints_left = np.deg2rad([180, -120, 60, -30, -90, -90])\n",
    "home_joints_right = np.deg2rad([-180, -60, -60, -150, 90, 90])\n",
    "\n",
    "plant.SetPositions(plant_context, arm_left_index, home_joints_left)\n",
    "plant.SetPositions(plant_context, arm_right_index, home_joints_right)\n",
    "diagram.ForcedPublish(context)\n",
    "\n",
    "q_all = plant.GetPositions(plant_context)\n",
    "collision_checker.CheckConfigCollisionFree(q_all)"
   ]
  },
  {
   "cell_type": "markdown",
   "metadata": {},
   "source": [
    "## Configuring OMPL\n",
    "\n",
    "### Moving the right arm home 🏠"
   ]
  },
  {
   "cell_type": "code",
   "execution_count": null,
   "metadata": {},
   "outputs": [],
   "source": [
    "# !pip install https://github.com/ompl/ompl/releases/download/prerelease/ompl-1.6.0-cp310-cp310-manylinux_2_28_x86_64.whl"
   ]
  },
  {
   "cell_type": "code",
   "execution_count": null,
   "metadata": {},
   "outputs": [],
   "source": [
    "from ompl import base as ob\n",
    "from ompl import geometric as og\n",
    "\n",
    "space = ob.RealVectorStateSpace(6)\n",
    "bounds = ob.RealVectorBounds(6)\n",
    "bounds.setLow(-2 * np.pi)\n",
    "bounds.setHigh(2 * np.pi)\n",
    "space.setBounds(bounds)\n",
    "\n",
    "print(space.settings())"
   ]
  },
  {
   "cell_type": "code",
   "execution_count": null,
   "metadata": {},
   "outputs": [],
   "source": [
    "def state_to_numpy(state_ompl: ob.State):\n",
    "    state = np.zeros(6)\n",
    "    for i in range(6):\n",
    "        state[i] = state_ompl[i]\n",
    "    return state\n",
    "\n",
    "\n",
    "def is_state_valid(state):\n",
    "    q_all = np.zeros(12)\n",
    "    q_all[:6] = start_joints_left  # keep this fixed for now\n",
    "    q_all[6:12] = state_to_numpy(state)\n",
    "    return collision_checker.CheckConfigCollisionFree(q_all)\n",
    "\n",
    "\n",
    "start_state = ob.State(space)\n",
    "goal_state = ob.State(space)\n",
    "\n",
    "for i in range(6):\n",
    "    start_state()[i] = start_joints_right[i]\n",
    "    goal_state()[i] = home_joints_right[i]\n",
    "\n",
    "\n",
    "print(is_state_valid(start_state))\n",
    "print(is_state_valid(goal_state))"
   ]
  },
  {
   "cell_type": "code",
   "execution_count": null,
   "metadata": {},
   "outputs": [],
   "source": [
    "simple_setup = og.SimpleSetup(space)\n",
    "simple_setup.setStateValidityChecker(ob.StateValidityCheckerFn(is_state_valid))\n",
    "simple_setup.setStartAndGoalStates(start_state, goal_state)\n",
    "\n",
    "# TODO: Should investigate effect of this further\n",
    "step = float(np.deg2rad(5))\n",
    "resolution = step / space.getMaximumExtent()\n",
    "simple_setup.getSpaceInformation().setStateValidityCheckingResolution(resolution)\n",
    "\n",
    "planner = og.RRTConnect(simple_setup.getSpaceInformation())\n",
    "simple_setup.setPlanner(planner)"
   ]
  },
  {
   "cell_type": "code",
   "execution_count": null,
   "metadata": {},
   "outputs": [],
   "source": [
    "simple_setup.solve(20.0)"
   ]
  },
  {
   "cell_type": "code",
   "execution_count": null,
   "metadata": {},
   "outputs": [],
   "source": [
    "n_states = 100\n",
    "\n",
    "if simple_setup.haveSolutionPath():\n",
    "    simple_setup.simplifySolution()\n",
    "    solution_path = simple_setup.getSolutionPath()\n",
    "    print(solution_path.printAsMatrix())\n",
    "    solution_path.interpolate(n_states)"
   ]
  },
  {
   "cell_type": "code",
   "execution_count": null,
   "metadata": {},
   "outputs": [],
   "source": [
    "import time\n",
    "\n",
    "total_time = 8.0\n",
    "\n",
    "for state in solution_path.getStates():\n",
    "    plant.SetPositions(plant_context, arm_left_index, start_joints_left)\n",
    "    plant.SetPositions(plant_context, arm_right_index, state_to_numpy(state))\n",
    "    diagram.ForcedPublish(context)\n",
    "    time.sleep(total_time / n_states)"
   ]
  },
  {
   "cell_type": "markdown",
   "metadata": {},
   "source": [
    "### Dual arm planning 🤼"
   ]
  },
  {
   "cell_type": "code",
   "execution_count": null,
   "metadata": {},
   "outputs": [],
   "source": [
    "plant.SetPositions(plant_context, arm_left_index, start_joints_left)\n",
    "plant.SetPositions(plant_context, arm_right_index, start_joints_right)\n",
    "diagram.ForcedPublish(context)"
   ]
  },
  {
   "cell_type": "code",
   "execution_count": null,
   "metadata": {},
   "outputs": [],
   "source": [
    "from ompl import base as ob\n",
    "from ompl import geometric as og\n",
    "\n",
    "space_dual = ob.RealVectorStateSpace(12)\n",
    "bounds_dual = ob.RealVectorBounds(12)\n",
    "bounds_dual.setLow(-2 * np.pi)\n",
    "bounds_dual.setHigh(2 * np.pi)\n",
    "space_dual.setBounds(bounds_dual)\n",
    "\n",
    "print(space_dual.settings())"
   ]
  },
  {
   "cell_type": "code",
   "execution_count": null,
   "metadata": {},
   "outputs": [],
   "source": [
    "def state_to_numpy_dual(state_ompl: ob.State):\n",
    "    state = np.zeros(12)\n",
    "    for i in range(12):\n",
    "        state[i] = state_ompl[i]\n",
    "    return state\n",
    "\n",
    "\n",
    "def is_state_valid_dual(state):\n",
    "    q_all = state_to_numpy_dual(state)\n",
    "    return collision_checker.CheckConfigCollisionFree(q_all)\n",
    "\n",
    "\n",
    "start_state_dual = ob.State(space_dual)\n",
    "goal_state_dual = ob.State(space_dual)\n",
    "\n",
    "for i in range(6):\n",
    "    start_state_dual()[i] = start_joints_left[i]\n",
    "    start_state_dual()[i + 6] = start_joints_right[i]\n",
    "    goal_state_dual()[i] = home_joints_left[i]\n",
    "    goal_state_dual()[i + 6] = home_joints_right[i]\n",
    "\n",
    "\n",
    "print(is_state_valid_dual(start_state_dual))\n",
    "print(is_state_valid_dual(goal_state_dual))"
   ]
  },
  {
   "cell_type": "code",
   "execution_count": null,
   "metadata": {},
   "outputs": [],
   "source": [
    "%%timeit\n",
    "collision_checker.CheckConfigCollisionFree(np.concatenate([start_joints_left, start_joints_right]))"
   ]
  },
  {
   "cell_type": "code",
   "execution_count": null,
   "metadata": {},
   "outputs": [],
   "source": [
    "%%timeit\n",
    "is_state_valid_dual(start_state_dual)"
   ]
  },
  {
   "cell_type": "code",
   "execution_count": null,
   "metadata": {},
   "outputs": [],
   "source": [
    "simple_setup_dual = og.SimpleSetup(space_dual)\n",
    "simple_setup_dual.setStateValidityChecker(ob.StateValidityCheckerFn(is_state_valid_dual))\n",
    "simple_setup_dual.setStartAndGoalStates(start_state_dual, goal_state_dual)\n",
    "\n",
    "planner = og.RRTConnect(simple_setup_dual.getSpaceInformation())\n",
    "simple_setup_dual.setPlanner(planner)"
   ]
  },
  {
   "cell_type": "code",
   "execution_count": null,
   "metadata": {},
   "outputs": [],
   "source": [
    "simple_setup_dual.solve(30.0)"
   ]
  },
  {
   "cell_type": "code",
   "execution_count": null,
   "metadata": {},
   "outputs": [],
   "source": [
    "n_states = 100\n",
    "\n",
    "if simple_setup_dual.haveSolutionPath():\n",
    "    simple_setup_dual.simplifySolution()\n",
    "    solution_path = simple_setup_dual.getSolutionPath()\n",
    "    print(solution_path.printAsMatrix())\n",
    "    solution_path.interpolate(n_states)"
   ]
  },
  {
   "cell_type": "code",
   "execution_count": null,
   "metadata": {},
   "outputs": [],
   "source": [
    "import time\n",
    "\n",
    "total_time = 8.0\n",
    "\n",
    "for state in solution_path.getStates():\n",
    "    q_all = state_to_numpy_dual(state)\n",
    "    plant.SetPositions(plant_context, arm_left_index, q_all[:6])\n",
    "    plant.SetPositions(plant_context, arm_right_index, q_all[6:])\n",
    "    diagram.ForcedPublish(context)\n",
    "    time.sleep(total_time / n_states)\n",
    "\n",
    "    # station.set_arm_config(state_to_numpy(state))\n",
    "    # scenario.simulate_extra_time(total_time / n_states, blocking=False)"
   ]
  },
  {
   "cell_type": "code",
   "execution_count": null,
   "metadata": {},
   "outputs": [],
   "source": []
  }
 ],
 "metadata": {
  "kernelspec": {
   "display_name": "cloth-competition",
   "language": "python",
   "name": "python3"
  },
  "language_info": {
   "codemirror_mode": {
    "name": "ipython",
    "version": 3
   },
   "file_extension": ".py",
   "mimetype": "text/x-python",
   "name": "python",
   "nbconvert_exporter": "python",
   "pygments_lexer": "ipython3",
   "version": "3.10.13"
  }
 },
 "nbformat": 4,
 "nbformat_minor": 2
}
