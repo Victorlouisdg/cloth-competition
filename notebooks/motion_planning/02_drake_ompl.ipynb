{
 "cells": [
  {
   "cell_type": "markdown",
   "metadata": {},
   "source": [
    "# Drake & OMPL integration example\n",
    "\n",
    "This example shows how to use Drake for collision checking and visualization, and OMPL for planning."
   ]
  },
  {
   "cell_type": "code",
   "execution_count": null,
   "metadata": {},
   "outputs": [],
   "source": [
    "import os\n",
    "from pathlib import Path\n",
    "import numpy as np\n",
    "from airo_planner.utils import files\n",
    "from pydrake.geometry import Meshcat\n",
    "from pydrake.geometry import Meshcat\n",
    "from pydrake.math import RigidTransform, RollPitchYaw\n",
    "from pydrake.geometry import MeshcatVisualizer\n",
    "from pydrake.planning import RobotDiagramBuilder, SceneGraphCollisionChecker\n",
    "from pydrake.multibody.plant import DiscreteContactSolver\n",
    "\n",
    "# from pydrake.visualization import ApplyVisualizationConfig, VisualizationConfig"
   ]
  },
  {
   "cell_type": "code",
   "execution_count": null,
   "metadata": {},
   "outputs": [],
   "source": [
    "robot_diagram_builder = RobotDiagramBuilder()  # time_step=0.001 even when I set timestep I get the mimic joint warning\n",
    "scene_graph = robot_diagram_builder.scene_graph()\n",
    "plant = robot_diagram_builder.plant()\n",
    "builder = robot_diagram_builder.builder()\n",
    "parser = robot_diagram_builder.parser()\n",
    "\n",
    "# Add visualizer\n",
    "meshcat = Meshcat()\n",
    "visualizer = MeshcatVisualizer.AddToBuilder(builder, scene_graph, meshcat)\n",
    "# config = VisualizationConfig(publish_contacts=True, enable_alpha_sliders=True)\n",
    "# ApplyVisualizationConfig(config, builder=builder, plant=plant, meshcat=meshcat)\n",
    "\n",
    "# This get rid ot the warning for the mimic joints in the Robotiq gripper\n",
    "plant.set_discrete_contact_solver(DiscreteContactSolver.kSap)\n",
    "\n",
    "# Load URDF files\n",
    "resources_root = str(files.get_resources_dir())\n",
    "ur5e_urdf = Path(resources_root) / \"robots\" / \"ur5e\" / \"ur5e.urdf\"\n",
    "robotiq_2f_85_gripper_urdf = Path(resources_root) / \"grippers\" / \"2f_85_gripper\" / \"urdf\" / \"robotiq_2f_85_static.urdf\"\n",
    "cube_urdf = \"cube_and_cylinder.urdf\"\n",
    "table_urdf = \"table.urdf\"\n",
    "\n",
    "arm_left_index = parser.AddModelFromFile(str(ur5e_urdf), model_name=\"arm_left\")\n",
    "arm_right_index = parser.AddModelFromFile(str(ur5e_urdf), model_name=\"arm_right\")\n",
    "gripper_left_index = parser.AddModelFromFile(str(robotiq_2f_85_gripper_urdf), model_name=\"gripper_left\")\n",
    "gripper_right_index = parser.AddModelFromFile(str(robotiq_2f_85_gripper_urdf), model_name=\"gripper_right\")\n",
    "table_index = parser.AddModelFromFile(str(table_urdf))\n",
    "\n",
    "# Weld some frames together\n",
    "world_frame = plant.world_frame()\n",
    "arm_left_frame = plant.GetFrameByName(\"base_link\", arm_left_index)\n",
    "arm_right_frame = plant.GetFrameByName(\"base_link\", arm_right_index)\n",
    "arm_left_wrist_frame = plant.GetFrameByName(\"wrist_3_link\", arm_left_index)\n",
    "arm_right_wrist_frame = plant.GetFrameByName(\"wrist_3_link\", arm_right_index)\n",
    "gripper_left_frame = plant.GetFrameByName(\"base_link\", gripper_left_index)\n",
    "gripper_right_frame = plant.GetFrameByName(\"base_link\", gripper_right_index)\n",
    "table_frame = plant.GetFrameByName(\"base_link\", table_index)\n",
    "\n",
    "distance_between_arms = 0.9\n",
    "distance_between_arms_half = distance_between_arms / 2\n",
    "\n",
    "plant.WeldFrames(world_frame, arm_left_frame)\n",
    "plant.WeldFrames(world_frame, arm_right_frame, RigidTransform([distance_between_arms, 0, 0]))\n",
    "plant.WeldFrames(\n",
    "    arm_left_wrist_frame, gripper_left_frame, RigidTransform(p=[0, 0, 0], rpy=RollPitchYaw([0, 0, np.pi / 2]))\n",
    ")\n",
    "plant.WeldFrames(\n",
    "    arm_right_wrist_frame, gripper_right_frame, RigidTransform(p=[0, 0, 0], rpy=RollPitchYaw([0, 0, np.pi / 2]))\n",
    ")\n",
    "plant.WeldFrames(world_frame, table_frame, RigidTransform([distance_between_arms_half, 0, 0]))\n",
    "\n",
    "\n",
    "# plant.Finalize()\n",
    "\n",
    "# Set up collision checking\n",
    "diagram = robot_diagram_builder.Build()\n",
    "\n",
    "\n",
    "# Not sure if this is needed\n",
    "def _configuration_distance(q1, q2):\n",
    "    return np.linalg.norm(q1 - q2)\n",
    "\n",
    "\n",
    "collision_checker = SceneGraphCollisionChecker(\n",
    "    model=diagram,\n",
    "    robot_model_instances=[arm_left_index, arm_right_index],\n",
    "    configuration_distance_function=_configuration_distance,\n",
    "    edge_step_size=0.125,\n",
    ")\n",
    "\n",
    "# Create default contexts ~= state\n",
    "context = diagram.CreateDefaultContext()\n",
    "plant_context = plant.GetMyContextFromRoot(context)\n",
    "diagram.ForcedPublish(context)"
   ]
  },
  {
   "cell_type": "code",
   "execution_count": null,
   "metadata": {},
   "outputs": [],
   "source": [
    "start_joints_left = np.deg2rad([0, -90, -90, -90, 90, 0])\n",
    "start_joints_right = np.deg2rad([-136, -116, -110, -133, 40, 0])\n",
    "\n",
    "plant.SetPositions(plant_context, arm_left_index, start_joints_left)\n",
    "plant.SetPositions(plant_context, arm_right_index, start_joints_right)\n",
    "\n",
    "diagram.ForcedPublish(context)\n",
    "\n",
    "q_all = plant.GetPositions(plant_context)\n",
    "collision_checker.CheckConfigCollisionFree(q_all)"
   ]
  },
  {
   "cell_type": "code",
   "execution_count": null,
   "metadata": {},
   "outputs": [],
   "source": [
    "home_joints_left = np.deg2rad([180, -135, 95, -50, -90, -90])\n",
    "home_joints_right = np.deg2rad([-180, -45, -95, -130, 90, 90])\n",
    "\n",
    "plant.SetPositions(plant_context, arm_left_index, home_joints_left)\n",
    "plant.SetPositions(plant_context, arm_right_index, home_joints_right)\n",
    "diagram.ForcedPublish(context)\n",
    "\n",
    "q_all = plant.GetPositions(plant_context)\n",
    "collision_checker.CheckConfigCollisionFree(q_all)"
   ]
  },
  {
   "cell_type": "markdown",
   "metadata": {},
   "source": [
    "## Configuring OMPL\n",
    "\n",
    "### Moving the right arm home 🏠"
   ]
  },
  {
   "cell_type": "code",
   "execution_count": null,
   "metadata": {},
   "outputs": [],
   "source": [
    "# !pip install https://github.com/ompl/ompl/releases/download/prerelease/ompl-1.6.0-cp310-cp310-manylinux_2_28_x86_64.whl"
   ]
  },
  {
   "cell_type": "code",
   "execution_count": null,
   "metadata": {},
   "outputs": [],
   "source": [
    "from ompl import base as ob\n",
    "from ompl import geometric as og\n",
    "\n",
    "space = ob.RealVectorStateSpace(6)\n",
    "bounds = ob.RealVectorBounds(6)\n",
    "bounds.setLow(-2 * np.pi)\n",
    "bounds.setHigh(2 * np.pi)\n",
    "space.setBounds(bounds)\n",
    "\n",
    "print(space.settings())"
   ]
  },
  {
   "cell_type": "code",
   "execution_count": null,
   "metadata": {},
   "outputs": [],
   "source": [
    "def state_to_numpy(state_ompl: ob.State):\n",
    "    state = np.zeros(6)\n",
    "    for i in range(6):\n",
    "        state[i] = state_ompl[i]\n",
    "    return state\n",
    "\n",
    "\n",
    "def is_state_valid(state):\n",
    "    q_all = np.zeros(12)\n",
    "    q_all[:6] = start_joints_left  # keep this fixed for now\n",
    "    q_all[6:12] = state_to_numpy(state)\n",
    "    return collision_checker.CheckConfigCollisionFree(q_all)\n",
    "\n",
    "\n",
    "start_state = ob.State(space)\n",
    "goal_state = ob.State(space)\n",
    "\n",
    "for i in range(6):\n",
    "    start_state()[i] = start_joints_right[i]\n",
    "    goal_state()[i] = home_joints_right[i]\n",
    "\n",
    "\n",
    "print(is_state_valid(start_state))\n",
    "print(is_state_valid(goal_state))"
   ]
  },
  {
   "cell_type": "code",
   "execution_count": null,
   "metadata": {},
   "outputs": [],
   "source": [
    "simple_setup = og.SimpleSetup(space)\n",
    "simple_setup.setStateValidityChecker(ob.StateValidityCheckerFn(is_state_valid))\n",
    "simple_setup.setStartAndGoalStates(start_state, goal_state)"
   ]
  },
  {
   "cell_type": "code",
   "execution_count": null,
   "metadata": {},
   "outputs": [],
   "source": [
    "simple_setup.solve(5.0)"
   ]
  },
  {
   "cell_type": "code",
   "execution_count": null,
   "metadata": {},
   "outputs": [],
   "source": [
    "n_states = 100\n",
    "\n",
    "if simple_setup.haveSolutionPath():\n",
    "    simple_setup.simplifySolution()\n",
    "    solution_path = simple_setup.getSolutionPath()\n",
    "    solution_path.interpolate(n_states)\n",
    "    print(solution_path.printAsMatrix())"
   ]
  },
  {
   "cell_type": "code",
   "execution_count": null,
   "metadata": {},
   "outputs": [],
   "source": [
    "import time\n",
    "\n",
    "total_time = 8.0\n",
    "\n",
    "for state in solution_path.getStates():\n",
    "    plant.SetPositions(plant_context, arm_left_index, start_joints_left)\n",
    "    plant.SetPositions(plant_context, arm_right_index, state_to_numpy(state))\n",
    "    diagram.ForcedPublish(context)\n",
    "    time.sleep(total_time / n_states)\n",
    "\n",
    "    # station.set_arm_config(state_to_numpy(state))\n",
    "    # scenario.simulate_extra_time(total_time / n_states, blocking=False)"
   ]
  },
  {
   "cell_type": "markdown",
   "metadata": {},
   "source": [
    "### Dual arm planning 🤼"
   ]
  },
  {
   "cell_type": "code",
   "execution_count": null,
   "metadata": {},
   "outputs": [],
   "source": [
    "plant.SetPositions(plant_context, arm_left_index, start_joints_left)\n",
    "plant.SetPositions(plant_context, arm_right_index, start_joints_right)\n",
    "diagram.ForcedPublish(context)"
   ]
  },
  {
   "cell_type": "code",
   "execution_count": null,
   "metadata": {},
   "outputs": [],
   "source": [
    "from ompl import base as ob\n",
    "from ompl import geometric as og\n",
    "\n",
    "space_dual = ob.RealVectorStateSpace(12)\n",
    "bounds_dual = ob.RealVectorBounds(12)\n",
    "bounds_dual.setLow(-2 * np.pi)\n",
    "bounds_dual.setHigh(2 * np.pi)\n",
    "space_dual.setBounds(bounds_dual)\n",
    "\n",
    "print(space_dual.settings())"
   ]
  },
  {
   "cell_type": "code",
   "execution_count": null,
   "metadata": {},
   "outputs": [],
   "source": [
    "def state_to_numpy_dual(state_ompl: ob.State):\n",
    "    state = np.zeros(12)\n",
    "    for i in range(12):\n",
    "        state[i] = state_ompl[i]\n",
    "    return state\n",
    "\n",
    "\n",
    "def is_state_valid_dual(state):\n",
    "    q_all = state_to_numpy_dual(state)\n",
    "    return collision_checker.CheckConfigCollisionFree(q_all)\n",
    "\n",
    "\n",
    "start_state_dual = ob.State(space_dual)\n",
    "goal_state_dual = ob.State(space_dual)\n",
    "\n",
    "for i in range(6):\n",
    "    start_state_dual()[i] = start_joints_left[i]\n",
    "    start_state_dual()[i + 6] = start_joints_right[i]\n",
    "    goal_state_dual()[i] = home_joints_left[i]\n",
    "    goal_state_dual()[i + 6] = home_joints_right[i]\n",
    "\n",
    "\n",
    "print(is_state_valid_dual(start_state_dual))\n",
    "print(is_state_valid_dual(goal_state_dual))"
   ]
  },
  {
   "cell_type": "code",
   "execution_count": null,
   "metadata": {},
   "outputs": [],
   "source": [
    "%%timeit\n",
    "is_state_valid_dual(start_state_dual)"
   ]
  },
  {
   "cell_type": "code",
   "execution_count": null,
   "metadata": {},
   "outputs": [],
   "source": [
    "simple_setup_dual = og.SimpleSetup(space_dual)\n",
    "simple_setup_dual.setStateValidityChecker(ob.StateValidityCheckerFn(is_state_valid_dual))\n",
    "simple_setup_dual.setStartAndGoalStates(start_state_dual, goal_state_dual)"
   ]
  },
  {
   "cell_type": "code",
   "execution_count": null,
   "metadata": {},
   "outputs": [],
   "source": [
    "simple_setup_dual.solve(30.0)"
   ]
  },
  {
   "cell_type": "code",
   "execution_count": null,
   "metadata": {},
   "outputs": [],
   "source": [
    "n_states = 100\n",
    "\n",
    "if simple_setup_dual.haveSolutionPath():\n",
    "    simple_setup_dual.simplifySolution()\n",
    "    solution_path = simple_setup_dual.getSolutionPath()\n",
    "    solution_path.interpolate(n_states)\n",
    "    print(solution_path.printAsMatrix())"
   ]
  },
  {
   "cell_type": "code",
   "execution_count": null,
   "metadata": {},
   "outputs": [],
   "source": [
    "import time\n",
    "\n",
    "total_time = 8.0\n",
    "\n",
    "for state in solution_path.getStates():\n",
    "    q_all = state_to_numpy_dual(state)\n",
    "    plant.SetPositions(plant_context, arm_left_index, q_all[:6])\n",
    "    plant.SetPositions(plant_context, arm_right_index, q_all[6:])\n",
    "    diagram.ForcedPublish(context)\n",
    "    time.sleep(total_time / n_states)\n",
    "\n",
    "    # station.set_arm_config(state_to_numpy(state))\n",
    "    # scenario.simulate_extra_time(total_time / n_states, blocking=False)"
   ]
  },
  {
   "cell_type": "code",
   "execution_count": null,
   "metadata": {},
   "outputs": [],
   "source": []
  },
  {
   "cell_type": "code",
   "execution_count": null,
   "metadata": {},
   "outputs": [],
   "source": []
  }
 ],
 "metadata": {
  "kernelspec": {
   "display_name": "cloth-competition",
   "language": "python",
   "name": "python3"
  },
  "language_info": {
   "codemirror_mode": {
    "name": "ipython",
    "version": 3
   },
   "file_extension": ".py",
   "mimetype": "text/x-python",
   "name": "python",
   "nbconvert_exporter": "python",
   "pygments_lexer": "ipython3",
   "version": "3.10.13"
  }
 },
 "nbformat": 4,
 "nbformat_minor": 2
}
