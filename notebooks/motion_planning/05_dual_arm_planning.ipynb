{
 "cells": [
  {
   "cell_type": "code",
   "execution_count": null,
   "metadata": {},
   "outputs": [],
   "source": [
    "import numpy as np\n",
    "from pydrake.planning import RobotDiagramBuilder, SceneGraphCollisionChecker\n",
    "from cloth_tools.urdf.primitives import cylinder_urdf\n",
    "from cloth_tools.drake.building import add_dual_ur5e_and_table_to_builder, add_meshcat_to_builder\n",
    "from pydrake.math import RigidTransform, RollPitchYaw\n",
    "from pydrake.visualization import ApplyVisualizationConfig, VisualizationConfig\n",
    "from cloth_tools.ompl.dual_arm_planner import DualArmOmplPlanner"
   ]
  },
  {
   "cell_type": "code",
   "execution_count": null,
   "metadata": {},
   "outputs": [],
   "source": [
    "robot_diagram_builder = RobotDiagramBuilder()\n",
    "meshcat = add_meshcat_to_builder(robot_diagram_builder)\n",
    "arm_left_index, arm_right_index = add_dual_ur5e_and_table_to_builder(robot_diagram_builder)"
   ]
  },
  {
   "cell_type": "code",
   "execution_count": null,
   "metadata": {},
   "outputs": [],
   "source": [
    "plant = robot_diagram_builder.plant()\n",
    "\n",
    "# These 4 lines are only for collision visualization\n",
    "builder = robot_diagram_builder.builder()\n",
    "plant.Finalize()\n",
    "config = VisualizationConfig(publish_contacts=True, enable_alpha_sliders=True)\n",
    "ApplyVisualizationConfig(config, builder=builder, plant=plant, meshcat=meshcat)\n",
    "\n",
    "# A diagram is needed in the constructor of the SceneGraphCollisionChecker\n",
    "# However, calling .Build() prevents us from adding more models, e.g. runtime obstacles\n",
    "diagram = robot_diagram_builder.Build()\n",
    "\n",
    "# Create default contexts ~= state\n",
    "context = diagram.CreateDefaultContext()\n",
    "plant_context = plant.GetMyContextFromRoot(context)\n",
    "diagram.ForcedPublish(context)"
   ]
  },
  {
   "cell_type": "code",
   "execution_count": null,
   "metadata": {},
   "outputs": [],
   "source": [
    "collision_checker = SceneGraphCollisionChecker(\n",
    "    model=diagram,\n",
    "    robot_model_instances=[arm_left_index, arm_right_index],\n",
    "    edge_step_size=0.125, # Arbitrary value: we don't use the CheckEdgeCollisionFree\n",
    "    env_collision_padding = 0.005,\n",
    "    self_collision_padding = 0.005,\n",
    ")"
   ]
  },
  {
   "cell_type": "code",
   "execution_count": null,
   "metadata": {},
   "outputs": [],
   "source": [
    "start_joints_left = np.deg2rad([30, -90, -90, -90, 90, 0])\n",
    "start_joints_right = np.deg2rad([-136, -116, -110, -133, 40, 0])\n",
    "# start_joints_left = np.deg2rad([90, -135, 95, -50, -90, -90])\n",
    "# start_joints_right = np.deg2rad([-90, -45, -95, -130, 90, 90])\n",
    "\n",
    "start_joints = np.concatenate([start_joints_left, start_joints_right])\n",
    "collision_checker.CheckConfigCollisionFree(start_joints)"
   ]
  },
  {
   "cell_type": "code",
   "execution_count": null,
   "metadata": {},
   "outputs": [],
   "source": [
    "plant.SetPositions(plant_context, arm_left_index, start_joints_left)\n",
    "plant.SetPositions(plant_context, arm_right_index, start_joints_right)\n",
    "diagram.ForcedPublish(context)"
   ]
  },
  {
   "cell_type": "code",
   "execution_count": null,
   "metadata": {},
   "outputs": [],
   "source": [
    "home_joints_left = np.deg2rad([180, -135, 95, -50, -90, -90])\n",
    "home_joints_right = np.deg2rad([-180, -45, -95, -130, 90, 90])\n",
    "\n",
    "home_joints = np.concatenate([home_joints_left, home_joints_right])\n",
    "collision_checker.CheckConfigCollisionFree(home_joints)"
   ]
  },
  {
   "cell_type": "code",
   "execution_count": null,
   "metadata": {},
   "outputs": [],
   "source": [
    "plant.SetPositions(plant_context, arm_left_index, home_joints_left)\n",
    "plant.SetPositions(plant_context, arm_right_index, home_joints_right)\n",
    "diagram.ForcedPublish(context)"
   ]
  },
  {
   "cell_type": "code",
   "execution_count": null,
   "metadata": {},
   "outputs": [],
   "source": [
    "planner = DualArmOmplPlanner(collision_checker.CheckConfigCollisionFree, max_planning_time=10)"
   ]
  },
  {
   "cell_type": "code",
   "execution_count": null,
   "metadata": {},
   "outputs": [],
   "source": [
    "path = planner.plan_to_joint_configuration(start_joints_left, start_joints_right, home_joints_left, home_joints_right)\n",
    "\n",
    "if path is None:\n",
    "    print(\"No path found\")\n",
    "else:\n",
    "    with np.printoptions(precision=3, suppress=True):\n",
    "        print(\"Amount of waypoints:\", len(path))\n",
    "        print(path[0])\n",
    "        print(path[-1])"
   ]
  },
  {
   "cell_type": "code",
   "execution_count": null,
   "metadata": {},
   "outputs": [],
   "source": [
    "import time\n",
    "\n",
    "total_time = 8.0\n",
    "\n",
    "for dual_joint_configuration in path:\n",
    "    left_joint_configuration, right_joint_configuration = dual_joint_configuration\n",
    "    plant.SetPositions(plant_context, arm_left_index, left_joint_configuration)\n",
    "    plant.SetPositions(plant_context, arm_right_index, right_joint_configuration)\n",
    "    diagram.ForcedPublish(context)\n",
    "    time.sleep(total_time / len(path))"
   ]
  },
  {
   "cell_type": "code",
   "execution_count": null,
   "metadata": {},
   "outputs": [],
   "source": []
  }
 ],
 "metadata": {
  "kernelspec": {
   "display_name": "cloth-competition",
   "language": "python",
   "name": "python3"
  },
  "language_info": {
   "codemirror_mode": {
    "name": "ipython",
    "version": 3
   },
   "file_extension": ".py",
   "mimetype": "text/x-python",
   "name": "python",
   "nbconvert_exporter": "python",
   "pygments_lexer": "ipython3",
   "version": "3.10.13"
  }
 },
 "nbformat": 4,
 "nbformat_minor": 2
}
