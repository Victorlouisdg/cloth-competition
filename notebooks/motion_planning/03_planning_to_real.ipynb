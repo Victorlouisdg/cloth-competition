{
 "cells": [
  {
   "cell_type": "code",
   "execution_count": null,
   "metadata": {},
   "outputs": [],
   "source": [
    "import numpy as np\n",
    "from cloth_tools.drake.dual_ur5e import get_robot_diagram_builder_dual_ur5e\n",
    "from cloth_tools.drake.collisions import get_collision_checker\n",
    "from cloth_tools.stations.competition_station import CompetitionStation\n",
    "from cloth_tools.ompl.state_space import single_arm_state_space\n",
    "from cloth_tools.ompl.state_space import numpy_to_ompl_state\n",
    "from functools import partial\n",
    "from cloth_tools.ompl.state_space import function_numpy_to_ompl\n",
    "from ompl import base as ob\n",
    "from ompl import geometric as og\n",
    "import time\n",
    "from typing import List\n",
    "from cloth_tools.ompl.state_space import ompl_path_to_numpy"
   ]
  },
  {
   "cell_type": "code",
   "execution_count": null,
   "metadata": {},
   "outputs": [],
   "source": [
    "# Only run this cell once as this accesses the real hardware\n",
    "station = CompetitionStation()\n",
    "dual_arm = station.dual_arm"
   ]
  },
  {
   "cell_type": "code",
   "execution_count": null,
   "metadata": {},
   "outputs": [],
   "source": [
    "current_joints_left = dual_arm.left_manipulator.get_joint_configuration()\n",
    "current_joints_right = dual_arm.right_manipulator.get_joint_configuration()\n",
    "current_joints = np.concatenate((current_joints_left, current_joints_right))\n",
    "\n",
    "with np.printoptions(precision=2, suppress=True):\n",
    "    print(\"Current joints: \", current_joints)"
   ]
  },
  {
   "cell_type": "code",
   "execution_count": null,
   "metadata": {},
   "outputs": [],
   "source": [
    "robot_diagram_builder, robot_indexes = get_robot_diagram_builder_dual_ur5e()\n",
    "plant = robot_diagram_builder.plant()\n",
    "diagram = robot_diagram_builder.Build()\n",
    "\n",
    "collision_checker = get_collision_checker(diagram, robot_indexes)\n",
    "\n",
    "# We need a context for visualization, but it's not required if you only want to do collision checking\n",
    "context = diagram.CreateDefaultContext()\n",
    "plant_context = plant.GetMyContextFromRoot(context)\n",
    "diagram.ForcedPublish(context)"
   ]
  },
  {
   "cell_type": "code",
   "execution_count": null,
   "metadata": {},
   "outputs": [],
   "source": [
    "plant.SetPositions(plant_context, current_joints)\n",
    "diagram.ForcedPublish(context)"
   ]
  },
  {
   "cell_type": "code",
   "execution_count": null,
   "metadata": {},
   "outputs": [],
   "source": [
    "collision_checker.CheckConfigCollisionFree(current_joints)"
   ]
  },
  {
   "cell_type": "code",
   "execution_count": null,
   "metadata": {},
   "outputs": [],
   "source": [
    "home_joints_left = np.deg2rad([180, -135, 95, -50, -90, -90])\n",
    "home_joints_right = np.deg2rad([-180, -45, -95, -130, 90, 90])\n",
    "\n",
    "home_joints = np.concatenate((home_joints_left, home_joints_right))\n",
    "collision_checker.CheckConfigCollisionFree(home_joints)"
   ]
  },
  {
   "cell_type": "code",
   "execution_count": null,
   "metadata": {},
   "outputs": [],
   "source": [
    "space = single_arm_state_space()\n",
    "\n",
    "print(space.settings())"
   ]
  },
  {
   "cell_type": "code",
   "execution_count": null,
   "metadata": {},
   "outputs": [],
   "source": [
    "start_state = numpy_to_ompl_state(current_joints_left, space)\n",
    "goal_state = numpy_to_ompl_state(home_joints_left, space)\n",
    "\n",
    "print(start_state)\n",
    "print(goal_state)"
   ]
  },
  {
   "cell_type": "code",
   "execution_count": null,
   "metadata": {},
   "outputs": [],
   "source": [
    "def are_joints_collision_free(joints_left, joints_right) -> bool:\n",
    "    joints = np.concatenate((joints_left, joints_right))\n",
    "    return collision_checker.CheckConfigCollisionFree(joints)\n",
    "\n",
    "\n",
    "are_joints_collision_free(current_joints_left, current_joints_right)"
   ]
  },
  {
   "cell_type": "code",
   "execution_count": null,
   "metadata": {},
   "outputs": [],
   "source": [
    "are_joints_left_collision_free = partial(are_joints_collision_free, joints_right=current_joints_right)\n",
    "are_joints_left_collision_free(current_joints_left)"
   ]
  },
  {
   "cell_type": "code",
   "execution_count": null,
   "metadata": {},
   "outputs": [],
   "source": [
    "is_state_valid = function_numpy_to_ompl(are_joints_left_collision_free, 6)\n",
    "is_state_valid(start_state), is_state_valid(goal_state)"
   ]
  },
  {
   "cell_type": "code",
   "execution_count": null,
   "metadata": {},
   "outputs": [],
   "source": [
    "simple_setup = og.SimpleSetup(space)\n",
    "simple_setup.setStateValidityChecker(ob.StateValidityCheckerFn(is_state_valid))\n",
    "simple_setup.setStartAndGoalStates(start_state, goal_state)\n",
    "\n",
    "# TODO: Should investigateeffect of this further\n",
    "step = float(np.deg2rad(5))\n",
    "resolution = step / space.getMaximumExtent()\n",
    "simple_setup.getSpaceInformation().setStateValidityCheckingResolution(resolution)\n",
    "\n",
    "# Set planner to RRTstar because it keep looking for a better solutions in the given time\n",
    "planner = og.RRTstar(simple_setup.getSpaceInformation())\n",
    "simple_setup.setPlanner(planner)"
   ]
  },
  {
   "cell_type": "code",
   "execution_count": null,
   "metadata": {},
   "outputs": [],
   "source": [
    "simple_setup.solve(10.0)\n",
    "\n",
    "n_interpolated_joints = 100\n",
    "\n",
    "if simple_setup.haveSolutionPath():\n",
    "    simple_setup.simplifySolution()\n",
    "    simple_setup.getSolutionPath().interpolate(n_interpolated_joints)\n",
    "\n",
    "solution_path_left_to_home = simple_setup.getSolutionPath()"
   ]
  },
  {
   "cell_type": "code",
   "execution_count": null,
   "metadata": {},
   "outputs": [],
   "source": [
    "def add_right_arm_joints(path: List[np.ndarray], joints_right: np.ndarray) -> List[np.ndarray]:\n",
    "    path = [np.concatenate((joints, joints_right)) for joints in path]\n",
    "    return path\n",
    "\n",
    "\n",
    "def add_left_arm_joints(path: List[np.ndarray], joints_left: np.ndarray) -> List[np.ndarray]:\n",
    "    path = [np.concatenate((joints_left, joints)) for joints in path]\n",
    "    return path\n",
    "\n",
    "\n",
    "path_left = ompl_path_to_numpy(solution_path_left_to_home, 6)\n",
    "path = add_right_arm_joints(path_left, current_joints_right)\n",
    "\n",
    "path_left_to_home = path\n",
    "\n",
    "\n",
    "def publish_path(path: List[np.ndarray], total_time: float):\n",
    "    for joints in path:\n",
    "        plant.SetPositions(plant_context, joints)\n",
    "        diagram.ForcedPublish(context)\n",
    "        time.sleep(total_time / len(path))\n",
    "\n",
    "\n",
    "publish_path(path_left_to_home, 10.0)"
   ]
  },
  {
   "cell_type": "code",
   "execution_count": null,
   "metadata": {},
   "outputs": [],
   "source": [
    "original_joints_left = current_joints_left.copy()\n",
    "\n",
    "start_state_new = numpy_to_ompl_state(home_joints_left, space)\n",
    "goal_state_new = numpy_to_ompl_state(original_joints_left, space)\n",
    "\n",
    "joints_new = np.concatenate((home_joints_left, current_joints_right))\n",
    "plant.SetPositions(plant_context, joints_new)\n",
    "diagram.ForcedPublish(context)"
   ]
  },
  {
   "cell_type": "code",
   "execution_count": null,
   "metadata": {},
   "outputs": [],
   "source": [
    "simple_setup.clear()\n",
    "simple_setup.setStartAndGoalStates(start_state_new, goal_state_new)\n",
    "\n",
    "simple_setup.solve(10.0)\n",
    "\n",
    "if simple_setup.haveSolutionPath():\n",
    "    simple_setup.simplifySolution()\n",
    "    simple_setup.getSolutionPath().interpolate(n_interpolated_joints)\n",
    "\n",
    "solution_path_left_to_original = simple_setup.getSolutionPath()"
   ]
  },
  {
   "cell_type": "code",
   "execution_count": null,
   "metadata": {},
   "outputs": [],
   "source": [
    "path_left = ompl_path_to_numpy(solution_path_left_to_original, 6)\n",
    "path_left_to_original = add_right_arm_joints(path_left, current_joints_right)\n",
    "\n",
    "publish_path(path_left_to_original, 10.0)"
   ]
  },
  {
   "cell_type": "code",
   "execution_count": null,
   "metadata": {},
   "outputs": [],
   "source": [
    "def execute_joint_path_left(path: List[np.ndarray], total_time: float):\n",
    "    for joints in path:\n",
    "        duration = total_time / len(path)\n",
    "        dual_arm.left_manipulator.servo_to_joint_configuration(joints[:6], duration).wait()\n",
    "\n",
    "\n",
    "execute_joint_path_left(path_left_to_home, 20.0)"
   ]
  },
  {
   "cell_type": "code",
   "execution_count": null,
   "metadata": {},
   "outputs": [],
   "source": [
    "execute_joint_path_left(path_left_to_original, 20.0)"
   ]
  },
  {
   "cell_type": "code",
   "execution_count": null,
   "metadata": {},
   "outputs": [],
   "source": [
    "execute_joint_path_left(path_left_to_home, 20.0)\n",
    "execute_joint_path_left(path_left_to_original, 20.0)"
   ]
  },
  {
   "cell_type": "code",
   "execution_count": null,
   "metadata": {},
   "outputs": [],
   "source": []
  }
 ],
 "metadata": {
  "kernelspec": {
   "display_name": "cloth-competition",
   "language": "python",
   "name": "python3"
  },
  "language_info": {
   "codemirror_mode": {
    "name": "ipython",
    "version": 3
   },
   "file_extension": ".py",
   "mimetype": "text/x-python",
   "name": "python",
   "nbconvert_exporter": "python",
   "pygments_lexer": "ipython3",
   "version": "3.10.13"
  }
 },
 "nbformat": 4,
 "nbformat_minor": 2
}
