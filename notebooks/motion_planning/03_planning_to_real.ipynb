{
 "cells": [
  {
   "cell_type": "code",
   "execution_count": null,
   "metadata": {},
   "outputs": [],
   "source": [
    "import numpy as np\n",
    "from cloth_tools.stations.competition_station import CompetitionStation\n",
    "from pydrake.planning import RobotDiagramBuilder, SceneGraphCollisionChecker\n",
    "from cloth_tools.drake.building import add_meshcat_to_builder, finish_build\n",
    "from cloth_tools.drake.scenes import add_dual_ur5e_and_table_to_builder\n",
    "from cloth_tools.ompl.dual_arm_planner import DualArmOmplPlanner\n",
    "from cloth_tools.path.execution import execute_dual_arm_joint_path\n",
    "from cloth_tools.drake.visualization import publish_dual_arm_joint_path\n",
    "from cloth_tools.path.execution import calculate_dual_path_duration"
   ]
  },
  {
   "cell_type": "code",
   "execution_count": null,
   "metadata": {},
   "outputs": [],
   "source": [
    "# Only run this cell once as this accesses the real hardware\n",
    "station = CompetitionStation()\n",
    "dual_arm = station.dual_arm"
   ]
  },
  {
   "cell_type": "code",
   "execution_count": null,
   "metadata": {},
   "outputs": [],
   "source": [
    "current_joints_left = dual_arm.left_manipulator.get_joint_configuration()\n",
    "current_joints_right = dual_arm.right_manipulator.get_joint_configuration()\n",
    "current_joints = np.concatenate((current_joints_left, current_joints_right))\n",
    "\n",
    "with np.printoptions(precision=2, suppress=True):\n",
    "    print(\"Current joints: \", current_joints)"
   ]
  },
  {
   "cell_type": "code",
   "execution_count": null,
   "metadata": {},
   "outputs": [],
   "source": [
    "# Creating the default scene\n",
    "robot_diagram_builder = RobotDiagramBuilder()\n",
    "meshcat = add_meshcat_to_builder(robot_diagram_builder)\n",
    "arm_indices, gripper_indices = add_dual_ur5e_and_table_to_builder(robot_diagram_builder)\n",
    "diagram, context = finish_build(robot_diagram_builder, meshcat)\n",
    "\n",
    "collision_checker = SceneGraphCollisionChecker(\n",
    "    model=diagram,\n",
    "    robot_model_instances=[*arm_indices, *gripper_indices],\n",
    "    edge_step_size=0.125,  # Arbitrary value: we don't use the CheckEdgeCollisionFree\n",
    "    env_collision_padding=0.005,\n",
    "    self_collision_padding=0.005,\n",
    ")\n",
    "\n",
    "is_state_valid_fn = collision_checker.CheckConfigCollisionFree"
   ]
  },
  {
   "cell_type": "code",
   "execution_count": null,
   "metadata": {},
   "outputs": [],
   "source": [
    "plant = diagram.plant()\n",
    "plant_context = plant.GetMyContextFromRoot(context)\n",
    "\n",
    "arm_left_index, arm_right_index = arm_indices\n",
    "plant.SetPositions(plant_context, arm_left_index, current_joints_left)\n",
    "plant.SetPositions(plant_context, arm_right_index, current_joints_right)\n",
    "diagram.ForcedPublish(context)"
   ]
  },
  {
   "cell_type": "code",
   "execution_count": null,
   "metadata": {},
   "outputs": [],
   "source": [
    "collision_checker.CheckConfigCollisionFree(current_joints)"
   ]
  },
  {
   "cell_type": "code",
   "execution_count": null,
   "metadata": {},
   "outputs": [],
   "source": [
    "home_joints_left = np.deg2rad([180, -135, 95, -50, -90, -90])\n",
    "home_joints_right = np.deg2rad([-180, -45, -95, -130, 90, 90])\n",
    "\n",
    "home_joints = np.concatenate((home_joints_left, home_joints_right))\n",
    "collision_checker.CheckConfigCollisionFree(home_joints)"
   ]
  },
  {
   "cell_type": "code",
   "execution_count": null,
   "metadata": {},
   "outputs": [],
   "source": [
    "planner = DualArmOmplPlanner(is_state_valid_fn)"
   ]
  },
  {
   "cell_type": "code",
   "execution_count": null,
   "metadata": {},
   "outputs": [],
   "source": [
    "current_joints_left = dual_arm.left_manipulator.get_joint_configuration()\n",
    "current_joints_right = dual_arm.right_manipulator.get_joint_configuration()\n",
    "current_joints = np.concatenate((current_joints_left, current_joints_right))\n",
    "\n",
    "path = planner.plan_to_joint_configuration(\n",
    "    current_joints_left, current_joints_right, home_joints_left, home_joints_right\n",
    ")\n",
    "duration = calculate_dual_path_duration(path)\n",
    "publish_dual_arm_joint_path(path, duration, meshcat, diagram, context, *arm_indices)"
   ]
  },
  {
   "cell_type": "code",
   "execution_count": null,
   "metadata": {},
   "outputs": [],
   "source": [
    "import matplotlib.pyplot as plt\n",
    "\n",
    "# create two vertically stacked wide subplots\n",
    "fig, axes = plt.subplots(nrows=2, ncols=1, figsize=(20, 6))\n",
    "\n",
    "axes[0].set_title(\"Left Arm Joint Positions\")\n",
    "axes[1].set_title(\"Right Arm Joint Positions\")\n",
    "\n",
    "# set xlim to 0 -> len(path) -1\n",
    "axes[0].set_xlim(0, len(path) - 1)\n",
    "axes[1].set_xlim(0, len(path) - 1)\n",
    "\n",
    "# set ylims to -2pi to 2pi\n",
    "axes[0].set_ylim(-2 * np.pi, 2 * np.pi)\n",
    "axes[1].set_ylim(-2 * np.pi, 2 * np.pi)\n",
    "\n",
    "path_left, path_right = zip(*path)\n",
    "\n",
    "for i in range(6):\n",
    "    path_left_joint_i = [joints[i] for joints in path_left]\n",
    "    path_right_joint_i = [joints[i] for joints in path_right]\n",
    "    axes[0].plot(path_left_joint_i)\n",
    "    axes[1].plot(path_right_joint_i)"
   ]
  },
  {
   "cell_type": "code",
   "execution_count": null,
   "metadata": {},
   "outputs": [],
   "source": [
    "execute_dual_arm_joint_path(dual_arm, path)"
   ]
  },
  {
   "cell_type": "code",
   "execution_count": null,
   "metadata": {},
   "outputs": [],
   "source": [
    "scenario4_start_joint_left = np.deg2rad([0, -90, -90, -90, 90, 0])\n",
    "scenario4_start_joint_right = np.deg2rad([-136, -116, -110, -133, 40, 0])\n",
    "\n",
    "path_to_scenario4 = planner.plan_to_joint_configuration(\n",
    "    home_joints_left, home_joints_right, scenario4_start_joint_left, scenario4_start_joint_right\n",
    ")\n",
    "\n",
    "duration = calculate_dual_path_duration(path_to_scenario4)\n",
    "publish_dual_arm_joint_path(path_to_scenario4, duration, meshcat, diagram, context, *arm_indices)"
   ]
  },
  {
   "cell_type": "code",
   "execution_count": null,
   "metadata": {},
   "outputs": [],
   "source": [
    "execute_dual_arm_joint_path(dual_arm, path_to_scenario4)"
   ]
  },
  {
   "cell_type": "code",
   "execution_count": null,
   "metadata": {},
   "outputs": [],
   "source": []
  }
 ],
 "metadata": {
  "kernelspec": {
   "display_name": "cloth-competition",
   "language": "python",
   "name": "python3"
  },
  "language_info": {
   "codemirror_mode": {
    "name": "ipython",
    "version": 3
   },
   "file_extension": ".py",
   "mimetype": "text/x-python",
   "name": "python",
   "nbconvert_exporter": "python",
   "pygments_lexer": "ipython3",
   "version": "3.10.13"
  }
 },
 "nbformat": 4,
 "nbformat_minor": 2
}
