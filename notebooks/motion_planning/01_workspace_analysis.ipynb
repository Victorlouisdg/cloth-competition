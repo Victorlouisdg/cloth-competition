{
 "cells": [
  {
   "cell_type": "code",
   "execution_count": null,
   "metadata": {},
   "outputs": [],
   "source": [
    "import numpy as np\n",
    "from airo_drake import DualArmScene, add_floor, add_manipulator, add_meshcat, add_wall, finish_build\n",
    "from pydrake.math import RigidTransform, RollPitchYaw\n",
    "from pydrake.multibody.tree import ModelInstanceIndex\n",
    "from pydrake.planning import RobotDiagramBuilder, SceneGraphCollisionChecker\n",
    "from cloth_tools.drake.scenes import add_cloth_competition_dual_ur5e_scene, X_W_LCB_DEFAULT, X_W_RCB_DEFAULT\n",
    "from airo_drake import X_URBASE_ROSBASE\n",
    "\n",
    "\n",
    "robot_diagram_builder = RobotDiagramBuilder()\n",
    "\n",
    "meshcat = add_meshcat(robot_diagram_builder)\n",
    "\n",
    "X_W_LCB = X_W_LCB_DEFAULT\n",
    "X_W_RCB = X_W_RCB_DEFAULT\n",
    "\n",
    "(arm_left_index, arm_right_index), (gripper_left_index, gripper_right_index) = add_cloth_competition_dual_ur5e_scene(\n",
    "    robot_diagram_builder, X_W_LCB, X_W_RCB\n",
    ")\n",
    "robot_diagram, context = finish_build(robot_diagram_builder, meshcat)\n",
    "\n",
    "scene = DualArmScene(robot_diagram, arm_left_index, arm_right_index, gripper_left_index, gripper_right_index, meshcat)"
   ]
  },
  {
   "cell_type": "code",
   "execution_count": null,
   "metadata": {},
   "outputs": [],
   "source": [
    "collision_checker = SceneGraphCollisionChecker(\n",
    "    model=scene.robot_diagram,\n",
    "    robot_model_instances=[\n",
    "        scene.arm_left_index,\n",
    "        scene.arm_right_index,\n",
    "        scene.gripper_left_index,\n",
    "        scene.gripper_right_index,\n",
    "    ],\n",
    "    edge_step_size=0.125,  # Arbitrary value: we don't use the CheckEdgeCollisionFree\n",
    "    env_collision_padding=0.005,\n",
    "    self_collision_padding=0.005,\n",
    ")"
   ]
  },
  {
   "cell_type": "code",
   "execution_count": null,
   "metadata": {},
   "outputs": [],
   "source": [
    "home_joints_left = np.deg2rad([180, -120, 60, -30, -90, -90])\n",
    "home_joints_right = np.deg2rad([-180, -60, -60, -150, 90, 90])\n",
    "home_joints = np.concatenate([home_joints_left, home_joints_right])\n",
    "\n",
    "plant = scene.robot_diagram.plant()\n",
    "plant_context = plant.GetMyContextFromRoot(context)\n",
    "plant.SetPositions(plant_context, home_joints)\n",
    "scene.robot_diagram.ForcedPublish(context) # updates the meshcat visualization\n"
   ]
  },
  {
   "cell_type": "code",
   "execution_count": null,
   "metadata": {},
   "outputs": [],
   "source": [
    "from functools import partial\n",
    "from cloth_tools.kinematics.constants import TCP_TRANSFORM\n",
    "from cloth_tools.kinematics.inverse_kinematics import inverse_kinematics_in_world_fn\n",
    "\n",
    "inverse_kinematics_left_fn = partial(inverse_kinematics_in_world_fn, X_W_CB=X_W_LCB, tcp_transform=TCP_TRANSFORM)\n",
    "inverse_kinematics_right_fn = partial(inverse_kinematics_in_world_fn, X_W_CB=X_W_RCB, tcp_transform=TCP_TRANSFORM)"
   ]
  },
  {
   "cell_type": "code",
   "execution_count": null,
   "metadata": {},
   "outputs": [],
   "source": [
    "from airo_typing import Vector3DType\n",
    "from airo_drake import visualize_frame\n",
    "from pydrake.math import RotationMatrix\n",
    "from pydrake.trajectories import PiecewisePose\n",
    "from airo_typing import HomogeneousMatrixType\n",
    "from airo_drake import discretize_drake_pose_trajectory\n",
    "\n",
    "def make_grasp_pose_vertical(gripper_open_direction: Vector3DType) -> HomogeneousMatrixType:\n",
    "    grasp_location = np.array([0.2, 0.0, 0.7])\n",
    "\n",
    "    gripper_forward_direction = np.array([0, 0, 1])\n",
    "    Z = gripper_forward_direction / np.linalg.norm(gripper_forward_direction)\n",
    "    # X = np.array([0, -1, 0])\n",
    "    X = gripper_open_direction / np.linalg.norm(gripper_open_direction)\n",
    "    # NOTE: we assume that the given X is perpendicular to Z\n",
    "\n",
    "    Y = np.cross(Z, X)\n",
    "\n",
    "    grasp_orientation = np.column_stack([X, Y, Z])\n",
    "    grasp_pose_vertical = np.identity(4)\n",
    "    grasp_pose_vertical[0:3, 0:3] = grasp_orientation\n",
    "    grasp_pose_vertical[0:3, 3] = grasp_location\n",
    "    return grasp_pose_vertical\n",
    "\n",
    "grasp_pose_paths = []\n",
    "pose_names = []\n",
    "\n",
    "for angle in np.linspace(0, np.pi / 2, 7):\n",
    "\n",
    "    gripper_open_direction =  np.array([1, 0, 0]) if angle <= np.pi / 4 else np.array([0, -1, 0])\n",
    "    grasp_pose = make_grasp_pose_vertical(gripper_open_direction)\n",
    "\n",
    "    global_y_rotation = RotationMatrix.MakeYRotation(angle).matrix()\n",
    "    grasp_pose[:3, :3] = global_y_rotation @ grasp_pose[:3, :3]\n",
    "\n",
    "    for distance in np.linspace(0.05, 0.50, 10):\n",
    "        pregrasp_pose = grasp_pose.copy()\n",
    "        pregrasp_pose[0:3, 3] -= distance * grasp_pose[0:3, 2]\n",
    "        \n",
    "        rigid_transforms = [RigidTransform(pose) for pose in [pregrasp_pose, grasp_pose]]\n",
    "        times = np.linspace(0, 1, len(rigid_transforms))\n",
    "        pose_trajectory = PiecewisePose.MakeLinear(times=times, poses=rigid_transforms)\n",
    "        steps = max(2, int(distance / 0.01))\n",
    "        grasp_pose_path = discretize_drake_pose_trajectory(pose_trajectory, steps).poses\n",
    "\n",
    "        grasp_pose_paths.append(grasp_pose_path)\n",
    "        pose_name = f\"pregrasp_poses/pose_{angle}_{distance}\"\n",
    "        pose_names.append(pose_name)\n",
    "\n",
    "        visualize_frame(scene.meshcat, pose_name, pregrasp_pose, length=0.05)\n",
    "\n",
    "print(len(grasp_pose_paths))"
   ]
  },
  {
   "cell_type": "code",
   "execution_count": null,
   "metadata": {},
   "outputs": [],
   "source": [
    "from airo_planner import DualArmOmplPlanner\n",
    "\n",
    "joint_bounds_lower = np.deg2rad([-360, -195, -160, -360, -360, -360])\n",
    "joint_bounds_upper = np.deg2rad([360, 15, 160, 360, 360, 360])\n",
    "joint_bounds = joint_bounds_lower, joint_bounds_upper\n",
    "\n",
    "planner = DualArmOmplPlanner(\n",
    "    is_state_valid_fn=collision_checker.CheckConfigCollisionFree,\n",
    "    inverse_kinematics_left_fn=inverse_kinematics_left_fn,\n",
    "    inverse_kinematics_right_fn=inverse_kinematics_right_fn,\n",
    "    joint_bounds_left=joint_bounds,\n",
    "    joint_bounds_right=joint_bounds,\n",
    ")"
   ]
  },
  {
   "cell_type": "code",
   "execution_count": null,
   "metadata": {},
   "outputs": [],
   "source": [
    "from cloth_tools.planning.grasp_planning import plan_to_grasp_pose_path\n",
    "\n",
    "# grasp_pose_path = grasp_pose_paths[-5]\n",
    "grasp_pose_path = grasp_pose_paths[35]\n",
    "\n",
    "\n",
    "trajectory = plan_to_grasp_pose_path(\n",
    "    planner,\n",
    "    grasp_pose_path,\n",
    "    home_joints_left,\n",
    "    home_joints_right,\n",
    "    inverse_kinematics_left_fn,\n",
    "    inverse_kinematics_right_fn,\n",
    "    collision_checker.CheckConfigCollisionFree,\n",
    "    plant,\n",
    "    with_left=True\n",
    ")"
   ]
  },
  {
   "cell_type": "code",
   "execution_count": null,
   "metadata": {},
   "outputs": [],
   "source": [
    "from airo_drake import animate_dual_joint_trajectory\n",
    "\n",
    "animate_dual_joint_trajectory(scene.meshcat, scene.robot_diagram, scene.arm_left_index, scene.arm_right_index, trajectory)"
   ]
  },
  {
   "cell_type": "code",
   "execution_count": null,
   "metadata": {},
   "outputs": [],
   "source": []
  }
 ],
 "metadata": {
  "kernelspec": {
   "display_name": "cloth-competition-dev",
   "language": "python",
   "name": "python3"
  },
  "language_info": {
   "codemirror_mode": {
    "name": "ipython",
    "version": 3
   },
   "file_extension": ".py",
   "mimetype": "text/x-python",
   "name": "python",
   "nbconvert_exporter": "python",
   "pygments_lexer": "ipython3",
   "version": "3.10.14"
  }
 },
 "nbformat": 4,
 "nbformat_minor": 2
}
