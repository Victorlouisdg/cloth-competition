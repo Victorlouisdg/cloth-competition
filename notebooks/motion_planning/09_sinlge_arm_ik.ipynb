{
 "cells": [
  {
   "cell_type": "code",
   "execution_count": null,
   "metadata": {},
   "outputs": [],
   "source": [
    "from pathlib import Path\n",
    "import numpy as np\n",
    "from airo_planner.utils import files\n",
    "from pydrake.geometry import Meshcat\n",
    "from pydrake.math import RigidTransform, RollPitchYaw\n",
    "from pydrake.geometry import MeshcatVisualizer\n",
    "from pydrake.planning import RobotDiagramBuilder, SceneGraphCollisionChecker\n",
    "from cloth_tools.drake.building import finish_build\n",
    "from airo_planner.visualization.drake_viz import add_meshcat_triad"
   ]
  },
  {
   "cell_type": "code",
   "execution_count": null,
   "metadata": {},
   "outputs": [],
   "source": [
    "tcp_transform = np.identity(4)\n",
    "tcp_transform[2, 3] = 0.175"
   ]
  },
  {
   "cell_type": "code",
   "execution_count": null,
   "metadata": {},
   "outputs": [],
   "source": [
    "robot_diagram_builder = RobotDiagramBuilder()  # time_step=0.001 even when I set timestep I get the mimic joint warning\n",
    "scene_graph = robot_diagram_builder.scene_graph()\n",
    "plant = robot_diagram_builder.plant()\n",
    "builder = robot_diagram_builder.builder()\n",
    "parser = robot_diagram_builder.parser()\n",
    "\n",
    "# Add visualizer\n",
    "meshcat = Meshcat()\n",
    "visualizer = MeshcatVisualizer.AddToBuilder(builder, scene_graph, meshcat)\n",
    "\n",
    "# Load URDF files\n",
    "resources_root = str(files.get_resources_dir())\n",
    "ur5e_urdf = Path(resources_root) / \"robots\" / \"ur5e\" / \"ur5e.urdf\"\n",
    "robotiq_2f_85_gripper_urdf = Path(resources_root) / \"grippers\" / \"2f_85_gripper\" / \"urdf\" / \"robotiq_2f_85_static.urdf\"\n",
    "table_urdf = \"table.urdf\"\n",
    "\n",
    "arm_index = parser.AddModelFromFile(str(ur5e_urdf), model_name=\"arm_left\")\n",
    "gripper_index = parser.AddModelFromFile(str(robotiq_2f_85_gripper_urdf), model_name=\"gripper\")\n",
    "table_index = parser.AddModelFromFile(str(table_urdf))\n",
    "\n",
    "# Weld some frames together\n",
    "world_frame = plant.world_frame()\n",
    "arm_frame = plant.GetFrameByName(\"base_link\", arm_index)\n",
    "arm_wrist_frame = plant.GetFrameByName(\"wrist_3_link\", arm_index)\n",
    "gripper_frame = plant.GetFrameByName(\"base_link\", gripper_index)\n",
    "table_frame = plant.GetFrameByName(\"base_link\", table_index)\n",
    "\n",
    "plant.WeldFrames(world_frame, arm_frame)\n",
    "plant.WeldFrames(arm_wrist_frame, gripper_frame)\n",
    "plant.WeldFrames(world_frame, table_frame, RigidTransform([0, 0, 0]))\n",
    "\n",
    "diagram, context = finish_build(robot_diagram_builder, meshcat)\n",
    "plant = diagram.plant()\n",
    "plant_context = plant.GetMyContextFromRoot(context)\n",
    "\n",
    "collision_checker = SceneGraphCollisionChecker(\n",
    "    model=diagram,\n",
    "    robot_model_instances=[arm_index],\n",
    "    edge_step_size=0.125, # Arbitrary value: we don't use the CheckEdgeCollisionFree\n",
    "    env_collision_padding = 0.005,\n",
    "    self_collision_padding = 0.005,\n",
    ")"
   ]
  },
  {
   "cell_type": "code",
   "execution_count": null,
   "metadata": {},
   "outputs": [],
   "source": [
    "start_joints = np.deg2rad([0, -90, -90, -90, 90, 0])\n",
    "\n",
    "plant = diagram.plant()\n",
    "plant_context = plant.GetMyContextFromRoot(context)\n",
    "\n",
    "plant.SetPositions(plant_context, arm_index, start_joints)\n",
    "diagram.ForcedPublish(context)"
   ]
  },
  {
   "cell_type": "code",
   "execution_count": null,
   "metadata": {},
   "outputs": [],
   "source": [
    "transform = RigidTransform(p=[0.25, 0, 0.4], rpy=RollPitchYaw([np.pi, 0, 0]))\n",
    "tcp_pose_0 = np.ascontiguousarray(transform.GetAsMatrix4())\n",
    "\n",
    "add_meshcat_triad(meshcat, \"TCP Frame\", X_W_Triad=transform)"
   ]
  },
  {
   "cell_type": "code",
   "execution_count": null,
   "metadata": {},
   "outputs": [],
   "source": [
    "from typing import List\n",
    "from airo_typing import HomogeneousMatrixType, JointConfigurationType\n",
    "from ur_analytic_ik import ur5e\n",
    "\n",
    "def inverse_kinematics_fn(tcp_pose: HomogeneousMatrixType) -> List[JointConfigurationType]:\n",
    "    solutions_1x6 = ur5e.inverse_kinematics_with_tcp(tcp_pose, tcp_transform)\n",
    "    solutions = [solution.squeeze() for solution in solutions_1x6]\n",
    "    return solutions"
   ]
  },
  {
   "cell_type": "code",
   "execution_count": null,
   "metadata": {},
   "outputs": [],
   "source": [
    "solutions = inverse_kinematics_fn(tcp_pose_0)\n",
    "\n",
    "for solution in solutions:\n",
    "    print(solution, collision_checker.CheckConfigCollisionFree(solution))"
   ]
  },
  {
   "cell_type": "code",
   "execution_count": null,
   "metadata": {},
   "outputs": [],
   "source": [
    "from cloth_tools.drake.visualization import publish_ik_solutions\n",
    "\n",
    "publish_ik_solutions(solutions, 2.0, meshcat, diagram, context, arm_index)"
   ]
  },
  {
   "cell_type": "code",
   "execution_count": null,
   "metadata": {},
   "outputs": [],
   "source": [
    "plant.SetPositions(plant_context, arm_index, solutions[3])\n",
    "diagram.ForcedPublish(context)"
   ]
  },
  {
   "cell_type": "code",
   "execution_count": null,
   "metadata": {},
   "outputs": [],
   "source": [
    "from cloth_tools.ompl.single_arm_planner import SingleArmOmplPlanner\n",
    "\n",
    "\n",
    "planner = SingleArmOmplPlanner(collision_checker.CheckConfigCollisionFree)\n",
    "path = planner.plan_to_joint_configuration(start_joints, solutions[0])\n",
    "print(\"Length of solution path:\", planner._path_length)"
   ]
  },
  {
   "cell_type": "code",
   "execution_count": null,
   "metadata": {},
   "outputs": [],
   "source": [
    "from cloth_tools.drake.visualization import publish_joint_path\n",
    "\n",
    "\n",
    "publish_joint_path(path, 5.0, meshcat, diagram, context, arm_index)"
   ]
  },
  {
   "cell_type": "code",
   "execution_count": null,
   "metadata": {},
   "outputs": [],
   "source": [
    "planner = SingleArmOmplPlanner(collision_checker.CheckConfigCollisionFree)\n",
    "\n",
    "path_lengths = []\n",
    "paths = []\n",
    "\n",
    "for solution in solutions:\n",
    "    if not planner.is_state_valid_fn(solution):\n",
    "        print(\"Solution is invalid!\")\n",
    "        continue\n",
    "    path = planner.plan_to_joint_configuration(start_joints, solution)\n",
    "    print(\"Length of solution path:\", planner._path_length)\n",
    "    paths.append(path)\n",
    "    path_lengths.append(planner._path_length)"
   ]
  },
  {
   "cell_type": "code",
   "execution_count": null,
   "metadata": {},
   "outputs": [],
   "source": [
    "for path_length in path_lengths:\n",
    "    print(path_length)\n",
    "\n",
    "shortest_path_index = np.argmin(path_lengths)\n",
    "shortest_path = paths[shortest_path_index]"
   ]
  },
  {
   "cell_type": "code",
   "execution_count": null,
   "metadata": {},
   "outputs": [],
   "source": [
    "publish_joint_path(shortest_path, 5.0, meshcat, diagram, context, arm_index)"
   ]
  },
  {
   "cell_type": "code",
   "execution_count": null,
   "metadata": {},
   "outputs": [],
   "source": []
  }
 ],
 "metadata": {
  "kernelspec": {
   "display_name": "cloth-competition",
   "language": "python",
   "name": "python3"
  },
  "language_info": {
   "codemirror_mode": {
    "name": "ipython",
    "version": 3
   },
   "file_extension": ".py",
   "mimetype": "text/x-python",
   "name": "python",
   "nbconvert_exporter": "python",
   "pygments_lexer": "ipython3",
   "version": "3.10.13"
  }
 },
 "nbformat": 4,
 "nbformat_minor": 2
}
