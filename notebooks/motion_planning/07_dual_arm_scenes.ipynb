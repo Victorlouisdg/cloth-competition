{
 "cells": [
  {
   "cell_type": "markdown",
   "metadata": {},
   "source": [
    "# Planning Dual-Arm Scenarios\n",
    "\n",
    "In this notebook we test the motion planning for several dual-arm scenarios.\n",
    "\n",
    "We create two dual-arm Drake environments: \n",
    "* **default**: without obstacles\n",
    "* **cylinder** with a cylinder obstacle between the robots."
   ]
  },
  {
   "cell_type": "code",
   "execution_count": null,
   "metadata": {},
   "outputs": [],
   "source": [
    "import numpy as np\n",
    "from pydrake.planning import RobotDiagramBuilder, SceneGraphCollisionChecker\n",
    "from cloth_tools.drake.building import add_meshcat_to_builder, finish_build\n",
    "from cloth_tools.drake.scenes import add_dual_ur5e_and_table_to_builder\n",
    "from cloth_tools.ompl.dual_arm_planner import DualArmOmplPlanner\n",
    "from cloth_tools.drake.visualization import publish_dual_arm_joint_path\n",
    "from airo_models import cylinder_urdf_path\n",
    "from pydrake.math import RigidTransform"
   ]
  },
  {
   "cell_type": "code",
   "execution_count": null,
   "metadata": {},
   "outputs": [],
   "source": [
    "home_joints_left = np.deg2rad([180, -135, 95, -50, -90, -90])\n",
    "home_joints_right = np.deg2rad([-180, -45, -95, -130, 90, 90])"
   ]
  },
  {
   "cell_type": "code",
   "execution_count": null,
   "metadata": {},
   "outputs": [],
   "source": [
    "# Creating the default scene\n",
    "robot_diagram_builder = RobotDiagramBuilder()\n",
    "meshcat = add_meshcat_to_builder(robot_diagram_builder)\n",
    "arm_indices, gripper_indices = add_dual_ur5e_and_table_to_builder(robot_diagram_builder)\n",
    "diagram, context = finish_build(robot_diagram_builder, meshcat)\n",
    "\n",
    "collision_checker = SceneGraphCollisionChecker(\n",
    "    model=diagram,\n",
    "    robot_model_instances=[*arm_indices, *gripper_indices],\n",
    "    edge_step_size=0.125,  # Arbitrary value: we don't use the CheckEdgeCollisionFree\n",
    "    env_collision_padding=0.005,\n",
    "    self_collision_padding=0.005,\n",
    ")\n",
    "\n",
    "is_state_valid_default_fn = collision_checker.CheckConfigCollisionFree"
   ]
  },
  {
   "cell_type": "code",
   "execution_count": null,
   "metadata": {},
   "outputs": [],
   "source": [
    "from functools import partial\n",
    "\n",
    "# Create convenience functions for publishing to default meshcat\n",
    "publish_path_default = partial(\n",
    "    publish_dual_arm_joint_path,\n",
    "    meshcat=meshcat,\n",
    "    diagram=diagram,\n",
    "    context=context,\n",
    "    arm_left_index=arm_indices[0],\n",
    "    arm_right_index=arm_indices[1],\n",
    ")"
   ]
  },
  {
   "cell_type": "code",
   "execution_count": null,
   "metadata": {},
   "outputs": [],
   "source": [
    "is_state_valid_default_fn(np.concatenate([home_joints_left, home_joints_right]))"
   ]
  },
  {
   "cell_type": "code",
   "execution_count": null,
   "metadata": {},
   "outputs": [],
   "source": [
    "plant = diagram.plant()\n",
    "plant_context = plant.GetMyContextFromRoot(context)\n",
    "\n",
    "arm_left_index, arm_right_index = arm_indices\n",
    "plant.SetPositions(plant_context, arm_left_index, home_joints_left)\n",
    "plant.SetPositions(plant_context, arm_right_index, home_joints_right)\n",
    "diagram.ForcedPublish(context)"
   ]
  },
  {
   "cell_type": "code",
   "execution_count": null,
   "metadata": {},
   "outputs": [],
   "source": [
    "# Creating the scene with a cylinder obstacles\n",
    "robot_diagram_builder = RobotDiagramBuilder()\n",
    "meshcat = add_meshcat_to_builder(robot_diagram_builder)\n",
    "arm_indices, gripper_indices = add_dual_ur5e_and_table_to_builder(robot_diagram_builder)\n",
    "\n",
    "# Adding the cylinder\n",
    "plant = robot_diagram_builder.plant()\n",
    "parser = robot_diagram_builder.parser()\n",
    "\n",
    "cylinder_urdf_path_ = cylinder_urdf_path(0.55, 0.1)\n",
    "cylinder_index = parser.AddModelFromFile(\n",
    "    cylinder_urdf_path_,\n",
    ")\n",
    "\n",
    "cylinder_frame = plant.GetFrameByName(\"base_link\", cylinder_index)\n",
    "cylinder_transform = RigidTransform(p=[0.1, 0, 0.65])\n",
    "plant.WeldFrames(plant.world_frame(), cylinder_frame, cylinder_transform)\n",
    "\n",
    "# Finish building and get the collision checker\n",
    "diagram, context = finish_build(robot_diagram_builder, meshcat)\n",
    "\n",
    "collision_checker = SceneGraphCollisionChecker(\n",
    "    model=diagram,\n",
    "    robot_model_instances=[*arm_indices, *gripper_indices],\n",
    "    edge_step_size=0.125,  # Arbitrary value: we don't use the CheckEdgeCollisionFree\n",
    "    env_collision_padding=0.005,\n",
    "    self_collision_padding=0.005,\n",
    ")\n",
    "\n",
    "is_state_valid_cylinder_fn = collision_checker.CheckConfigCollisionFree"
   ]
  },
  {
   "cell_type": "code",
   "execution_count": null,
   "metadata": {},
   "outputs": [],
   "source": [
    "# Create convenience functions for publishing to cylinder meshcat\n",
    "publish_path_cylinder = partial(\n",
    "    publish_dual_arm_joint_path,\n",
    "    meshcat=meshcat,\n",
    "    diagram=diagram,\n",
    "    context=context,\n",
    "    arm_left_index=arm_indices[0],\n",
    "    arm_right_index=arm_indices[1],\n",
    ")"
   ]
  },
  {
   "cell_type": "code",
   "execution_count": null,
   "metadata": {},
   "outputs": [],
   "source": [
    "plant = diagram.plant()\n",
    "plant_context = plant.GetMyContextFromRoot(context)\n",
    "\n",
    "plant.SetPositions(plant_context, arm_left_index, home_joints_left)\n",
    "plant.SetPositions(plant_context, arm_right_index, home_joints_right)\n",
    "diagram.ForcedPublish(context)"
   ]
  },
  {
   "cell_type": "code",
   "execution_count": null,
   "metadata": {},
   "outputs": [],
   "source": [
    "is_state_valid_cylinder_fn(np.concatenate([home_joints_left, home_joints_right]))"
   ]
  },
  {
   "cell_type": "markdown",
   "metadata": {},
   "source": [
    "## Test Scenarios\n",
    "\n",
    "A scenario here consists of an environment and robot start and goal configurations."
   ]
  },
  {
   "cell_type": "code",
   "execution_count": null,
   "metadata": {},
   "outputs": [],
   "source": [
    "def plan_and_publish_path(\n",
    "    is_state_valid_fn, start_joints_left, start_joints_right, goal_joints_left, goal_joints_right, publish_fn\n",
    "):\n",
    "    planner = DualArmOmplPlanner(is_state_valid_fn, max_planning_time=10.0)\n",
    "    path = planner.plan_to_joint_configuration(\n",
    "        start_joints_left, start_joints_right, goal_joints_left, goal_joints_right\n",
    "    )\n",
    "    publish_fn(path, 5.0)"
   ]
  },
  {
   "cell_type": "markdown",
   "metadata": {},
   "source": [
    "### Scenario 1: twist_base_90\n",
    "\n",
    "* Drake scene: default\n",
    "* Start: both robots at home\n",
    "* Goal: twist the right arm base joint 90 degrees\n",
    "\n",
    "**Purpose of the scenario**: very easy to solve, serves as a good sanity check whether everything is configured correctly."
   ]
  },
  {
   "cell_type": "code",
   "execution_count": null,
   "metadata": {},
   "outputs": [],
   "source": [
    "scenario1_goal_joints_right = home_joints_right.copy()\n",
    "scenario1_goal_joints_right[0] += np.deg2rad(90)\n",
    "\n",
    "plan_and_publish_path(\n",
    "    is_state_valid_default_fn,\n",
    "    home_joints_left,\n",
    "    home_joints_right,\n",
    "    None,\n",
    "    scenario1_goal_joints_right,\n",
    "    publish_path_default,\n",
    ")"
   ]
  },
  {
   "cell_type": "markdown",
   "metadata": {},
   "source": [
    "### Scenario 2: grasp_highest\n",
    "\n",
    "* Drake scene: default\n",
    "* Start: both robots at home\n",
    "* Goal: right arm move to pose to grasp highest point of cloth"
   ]
  },
  {
   "cell_type": "code",
   "execution_count": null,
   "metadata": {},
   "outputs": [],
   "source": [
    "scenario2_goal_joints_right = home_joints_right.copy()\n",
    "scenario2_goal_joints_right[1] += np.deg2rad(-80)\n",
    "scenario2_goal_joints_right[3] += np.deg2rad(80)\n",
    "\n",
    "plan_and_publish_path(\n",
    "    is_state_valid_default_fn,\n",
    "    home_joints_left,\n",
    "    home_joints_right,\n",
    "    None,\n",
    "    scenario2_goal_joints_right,\n",
    "    publish_path_default,\n",
    ")"
   ]
  },
  {
   "cell_type": "markdown",
   "metadata": {},
   "source": [
    "### Scenario 3: grasp_lowest\n",
    "\n",
    "* Drake scene: cylinder\n",
    "* Start: left at hanging pose, right at home\n",
    "* Goal: right arm move to pose to grasp lowest point of cloth"
   ]
  },
  {
   "cell_type": "code",
   "execution_count": null,
   "metadata": {},
   "outputs": [],
   "source": [
    "scenario3_start_joints_left = np.deg2rad([180, -90, 30, -120, -90, -90])\n",
    "scenario3_goal_joints_right = np.deg2rad([-135, -110, -80, -175, 45, 0])\n",
    "\n",
    "plan_and_publish_path(\n",
    "    is_state_valid_cylinder_fn,\n",
    "    scenario3_start_joints_left,\n",
    "    home_joints_right,\n",
    "    None,\n",
    "    scenario3_goal_joints_right,\n",
    "    publish_path_cylinder,\n",
    ")"
   ]
  },
  {
   "cell_type": "markdown",
   "metadata": {},
   "source": [
    "### Scenario 4: home_single\n",
    "\n",
    "* Drake scene: default\n",
    "* Start: both robots entangled in the middle\n",
    "* Goal: move the right arm home"
   ]
  },
  {
   "cell_type": "code",
   "execution_count": null,
   "metadata": {},
   "outputs": [],
   "source": [
    "scenario4_start_joint_left = np.deg2rad([0, -90, -90, -90, 90, 0])\n",
    "scenario4_start_joint_right = np.deg2rad([-136, -116, -110, -133, 40, 0])\n",
    "\n",
    "plan_and_publish_path(\n",
    "    is_state_valid_default_fn,\n",
    "    scenario4_start_joint_left,\n",
    "    scenario4_start_joint_right,\n",
    "    None,\n",
    "    home_joints_right,\n",
    "    publish_path_default,\n",
    ")"
   ]
  },
  {
   "cell_type": "markdown",
   "metadata": {},
   "source": [
    "### Scenario 5: home_dual\n",
    "\n",
    "* Drake scene: default\n",
    "* Start: both robots entangled in the middle\n",
    "* Goal: move both arms home"
   ]
  },
  {
   "cell_type": "code",
   "execution_count": null,
   "metadata": {},
   "outputs": [],
   "source": [
    "plan_and_publish_path(\n",
    "    is_state_valid_default_fn,\n",
    "    scenario4_start_joint_left,\n",
    "    scenario4_start_joint_right,\n",
    "    home_joints_left,\n",
    "    home_joints_right,\n",
    "    publish_path_default,\n",
    ")"
   ]
  },
  {
   "cell_type": "code",
   "execution_count": null,
   "metadata": {},
   "outputs": [],
   "source": []
  }
 ],
 "metadata": {
  "kernelspec": {
   "display_name": "cloth-competition",
   "language": "python",
   "name": "python3"
  },
  "language_info": {
   "codemirror_mode": {
    "name": "ipython",
    "version": 3
   },
   "file_extension": ".py",
   "mimetype": "text/x-python",
   "name": "python",
   "nbconvert_exporter": "python",
   "pygments_lexer": "ipython3",
   "version": "3.10.13"
  }
 },
 "nbformat": 4,
 "nbformat_minor": 2
}
