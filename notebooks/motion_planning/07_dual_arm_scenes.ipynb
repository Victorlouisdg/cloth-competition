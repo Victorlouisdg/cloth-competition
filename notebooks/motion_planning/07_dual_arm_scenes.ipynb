{
 "cells": [
  {
   "cell_type": "code",
   "execution_count": null,
   "metadata": {},
   "outputs": [],
   "source": [
    "import numpy as np\n",
    "from pydrake.planning import RobotDiagramBuilder, SceneGraphCollisionChecker\n",
    "from cloth_tools.drake.building import add_dual_ur5e_and_table_to_builder, add_meshcat_to_builder, finish_build\n",
    "from cloth_tools.ompl.dual_arm_planner import DualArmOmplPlanner\n",
    "from cloth_tools.drake.visualization import publish_dual_arm_joint_path\n",
    "from cloth_tools.urdf.primitives import cylinder_urdf\n",
    "from pydrake.math import RigidTransform, RollPitchYaw"
   ]
  },
  {
   "cell_type": "code",
   "execution_count": null,
   "metadata": {},
   "outputs": [],
   "source": [
    "start_joints_left = np.deg2rad([0, -90, -90, -90, 90, 0])\n",
    "start_joints_right = np.deg2rad([-136, -116, -110, -133, 40, 0])\n",
    "\n",
    "home_joints_left = np.deg2rad([180, -135, 95, -50, -90, -90])\n",
    "home_joints_right = np.deg2rad([-180, -45, -95, -130, 90, 90])\n",
    "\n",
    "lowest_joints_left = np.deg2rad([180, -90, 30, -120, -90, -90])\n",
    "lowest_goal_joints_right = np.deg2rad([-135, -110, -80, -175, 45, 0])"
   ]
  },
  {
   "cell_type": "code",
   "execution_count": null,
   "metadata": {},
   "outputs": [],
   "source": [
    "# Creating the default scene\n",
    "robot_diagram_builder = RobotDiagramBuilder()\n",
    "meshcat = add_meshcat_to_builder(robot_diagram_builder)\n",
    "arm_left_index, arm_right_index = add_dual_ur5e_and_table_to_builder(robot_diagram_builder)\n",
    "diagram, context = finish_build(robot_diagram_builder, meshcat)\n",
    "\n",
    "plant = diagram.plant()\n",
    "gripper_left_index = plant.GetModelInstanceByName(\"gripper_left\")\n",
    "gripper_right_index = plant.GetModelInstanceByName(\"gripper_right\")\n",
    "\n",
    "collision_checker = SceneGraphCollisionChecker(\n",
    "    model=diagram,\n",
    "    robot_model_instances=[arm_left_index, arm_right_index, gripper_left_index, gripper_right_index],\n",
    "    edge_step_size=0.125, # Arbitrary value: we don't use the CheckEdgeCollisionFree\n",
    "    env_collision_padding = 0.005,\n",
    "    self_collision_padding = 0.005,\n",
    ")\n",
    "\n",
    "is_state_valid_default_fn = collision_checker.CheckConfigCollisionFree"
   ]
  },
  {
   "cell_type": "code",
   "execution_count": null,
   "metadata": {},
   "outputs": [],
   "source": [
    "collision_checker.CheckConfigCollisionFree(np.concatenate([home_joints_left, home_joints_right]))"
   ]
  },
  {
   "cell_type": "code",
   "execution_count": null,
   "metadata": {},
   "outputs": [],
   "source": [
    "plant = diagram.plant()\n",
    "plant_context = plant.GetMyContextFromRoot(context)\n",
    "\n",
    "plant.SetPositions(plant_context, arm_left_index, start_joints_left)\n",
    "plant.SetPositions(plant_context, arm_right_index, start_joints_right)\n",
    "diagram.ForcedPublish(context)"
   ]
  },
  {
   "cell_type": "code",
   "execution_count": null,
   "metadata": {},
   "outputs": [],
   "source": [
    "# Creating the scene with a cylinder obstacles\n",
    "robot_diagram_builder = RobotDiagramBuilder()\n",
    "meshcat = add_meshcat_to_builder(robot_diagram_builder)\n",
    "arm_left_index, arm_right_index = add_dual_ur5e_and_table_to_builder(robot_diagram_builder)\n",
    "\n",
    "cylinder_urdf_str = cylinder_urdf(0.55, 0.1)\n",
    "\n",
    "plant = robot_diagram_builder.plant()\n",
    "parser = robot_diagram_builder.parser()\n",
    "cylinder_index = parser.AddModelsFromString(cylinder_urdf_str, \"urdf\")[0]\n",
    "cylinder_frame = plant.GetFrameByName(\"base_link\", cylinder_index)\n",
    "cylinder_transform = RigidTransform(p=[0.45, 0.1, 0.65])\n",
    "plant.WeldFrames(plant.world_frame(), cylinder_frame, cylinder_transform)\n",
    "\n",
    "diagram, context = finish_build(robot_diagram_builder, meshcat)\n",
    "\n",
    "gripper_left_index = plant.GetModelInstanceByName(\"gripper_left\")\n",
    "gripper_right_index = plant.GetModelInstanceByName(\"gripper_right\")\n",
    "\n",
    "collision_checker = SceneGraphCollisionChecker(\n",
    "    model=diagram,\n",
    "    robot_model_instances=[arm_left_index, arm_right_index, gripper_left_index, gripper_right_index],\n",
    "    edge_step_size=0.125, # Arbitrary value: we don't use the CheckEdgeCollisionFree\n",
    "    env_collision_padding = 0.005,\n",
    "    self_collision_padding = 0.005,\n",
    ")\n",
    "\n",
    "is_state_valid_cylinder_fn = collision_checker.CheckConfigCollisionFree"
   ]
  },
  {
   "cell_type": "code",
   "execution_count": null,
   "metadata": {},
   "outputs": [],
   "source": [
    "plant = diagram.plant()\n",
    "plant_context = plant.GetMyContextFromRoot(context)\n",
    "\n",
    "plant.SetPositions(plant_context, arm_left_index, lowest_joints_left)\n",
    "plant.SetPositions(plant_context, arm_right_index, lowest_goal_joints_right)\n",
    "diagram.ForcedPublish(context)"
   ]
  },
  {
   "cell_type": "code",
   "execution_count": null,
   "metadata": {},
   "outputs": [],
   "source": [
    "is_state_valid_cylinder_fn(np.concatenate([lowest_joints_left, lowest_goal_joints_right]))"
   ]
  },
  {
   "cell_type": "code",
   "execution_count": null,
   "metadata": {},
   "outputs": [],
   "source": [
    "is_state_valid_cylinder_fn(np.concatenate([lowest_joints_left, home_joints_right]))"
   ]
  },
  {
   "cell_type": "code",
   "execution_count": null,
   "metadata": {},
   "outputs": [],
   "source": [
    "planner = DualArmOmplPlanner(is_state_valid_cylinder_fn, max_planning_time=10.0)"
   ]
  },
  {
   "cell_type": "code",
   "execution_count": null,
   "metadata": {},
   "outputs": [],
   "source": [
    "path = planner.plan_to_joint_configuration(lowest_joints_left, home_joints_right, None, lowest_goal_joints_right)"
   ]
  },
  {
   "cell_type": "code",
   "execution_count": null,
   "metadata": {},
   "outputs": [],
   "source": [
    "if path is None:\n",
    "    print(\"No path found\")\n",
    "else:\n",
    "    publish_dual_arm_joint_path(path, 5.0, meshcat, diagram, context, arm_left_index, arm_right_index)"
   ]
  }
 ],
 "metadata": {
  "kernelspec": {
   "display_name": "cloth-competition",
   "language": "python",
   "name": "python3"
  },
  "language_info": {
   "codemirror_mode": {
    "name": "ipython",
    "version": 3
   },
   "file_extension": ".py",
   "mimetype": "text/x-python",
   "name": "python",
   "nbconvert_exporter": "python",
   "pygments_lexer": "ipython3",
   "version": "3.10.13"
  }
 },
 "nbformat": 4,
 "nbformat_minor": 2
}
