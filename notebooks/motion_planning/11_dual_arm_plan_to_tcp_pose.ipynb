{
 "cells": [
  {
   "cell_type": "code",
   "execution_count": null,
   "metadata": {},
   "outputs": [],
   "source": [
    "import numpy as np\n",
    "from pydrake.math import RigidTransform, RollPitchYaw\n",
    "from pydrake.planning import RobotDiagramBuilder, SceneGraphCollisionChecker\n",
    "from cloth_tools.drake.building import add_meshcat_to_builder, finish_build\n",
    "from cloth_tools.drake.scenes import add_dual_ur5e_and_table_to_builder\n",
    "from cloth_tools.ompl.dual_arm_planner import DualArmOmplPlanner\n",
    "from cloth_tools.drake.visualization import publish_dual_arm_joint_path, publish_ik_solutions, add_meshcat_triad"
   ]
  },
  {
   "cell_type": "code",
   "execution_count": null,
   "metadata": {},
   "outputs": [],
   "source": [
    "tcp_transform = np.identity(4)\n",
    "tcp_transform[2, 3] = 0.175"
   ]
  },
  {
   "cell_type": "code",
   "execution_count": null,
   "metadata": {},
   "outputs": [],
   "source": [
    "# Creating the default scene\n",
    "robot_diagram_builder = RobotDiagramBuilder()\n",
    "meshcat = add_meshcat_to_builder(robot_diagram_builder)\n",
    "arm_indices, gripper_indices = add_dual_ur5e_and_table_to_builder(robot_diagram_builder)\n",
    "diagram, context = finish_build(robot_diagram_builder, meshcat)\n",
    "\n",
    "collision_checker = SceneGraphCollisionChecker(\n",
    "    model=diagram,\n",
    "    robot_model_instances=[*arm_indices, *gripper_indices],\n",
    "    edge_step_size=0.125,  # Arbitrary value: we don't use the CheckEdgeCollisionFree\n",
    "    env_collision_padding=0.005,\n",
    "    self_collision_padding=0.005,\n",
    ")\n",
    "\n",
    "is_state_valid_fn = collision_checker.CheckConfigCollisionFree"
   ]
  },
  {
   "cell_type": "code",
   "execution_count": null,
   "metadata": {},
   "outputs": [],
   "source": [
    "home_joints_left = np.deg2rad([180, -135, 95, -50, -90, -90])\n",
    "home_joints_right = np.deg2rad([-180, -45, -95, -130, 90, 90])"
   ]
  },
  {
   "cell_type": "code",
   "execution_count": null,
   "metadata": {},
   "outputs": [],
   "source": [
    "plant = diagram.plant()\n",
    "plant_context = plant.GetMyContextFromRoot(context)\n",
    "\n",
    "arm_left_index, arm_right_index = arm_indices\n",
    "plant.SetPositions(plant_context, arm_left_index, home_joints_left)\n",
    "plant.SetPositions(plant_context, arm_right_index, home_joints_right)\n",
    "diagram.ForcedPublish(context)"
   ]
  },
  {
   "cell_type": "code",
   "execution_count": null,
   "metadata": {},
   "outputs": [],
   "source": [
    "transform_0 = RigidTransform(p=[0, 0, 0.35], rpy=RollPitchYaw([np.pi, 0, 0]))\n",
    "tcp_pose_0 = np.ascontiguousarray(transform_0.GetAsMatrix4())\n",
    "\n",
    "add_meshcat_triad(meshcat, \"TCP Frame left\", X_W_Triad=transform_0)"
   ]
  },
  {
   "cell_type": "code",
   "execution_count": null,
   "metadata": {},
   "outputs": [],
   "source": [
    "transform_1 = RigidTransform(p=[0.15, 0, 0.3], rpy=RollPitchYaw([np.pi / 2, 0, np.pi / 2]))\n",
    "tcp_pose_1 = np.ascontiguousarray(transform_1.GetAsMatrix4())\n",
    "\n",
    "add_meshcat_triad(meshcat, \"TCP Frame right\", X_W_Triad=transform_1)"
   ]
  },
  {
   "cell_type": "code",
   "execution_count": null,
   "metadata": {},
   "outputs": [],
   "source": [
    "from functools import partial\n",
    "from typing import List\n",
    "from airo_typing import HomogeneousMatrixType, JointConfigurationType\n",
    "from ur_analytic_ik import ur5e\n",
    "\n",
    "from cloth_tools.drake.scenes import X_W_L_DEFAULT, X_W_R_DEFAULT, X_CB_B\n",
    "\n",
    "# y_distance = 0.45\n",
    "# X_W_L = RigidTransform(rpy=RollPitchYaw([0, 0, np.pi / 2]), p=[0, y_distance, 0]).GetAsMatrix4()\n",
    "# X_W_R = RigidTransform(rpy=RollPitchYaw([0, 0, np.pi / 2]), p=[0, -y_distance, 0]).GetAsMatrix4()\n",
    "# X_CB_B = RigidTransform(rpy=RollPitchYaw([0, 0, np.pi]), p=[0, 0, 0]).GetAsMatrix4()\n",
    "# X_LCB_W = X_CB_B @ np.linalg.inv(X_W_L)\n",
    "# X_RCB_W = X_CB_B @ np.linalg.inv(X_W_R)\n",
    "\n",
    "X_W_LCB = X_W_L_DEFAULT @ X_CB_B.inverse()\n",
    "X_W_RCB = X_W_R_DEFAULT @ X_CB_B.inverse()\n",
    "\n",
    "\n",
    "def inverse_kinematics_in_world_fn(\n",
    "    tcp_pose: HomogeneousMatrixType, X_W_CB: HomogeneousMatrixType\n",
    ") -> List[JointConfigurationType]:\n",
    "    X_W_TCP = tcp_pose\n",
    "    X_CB_W = np.linalg.inv(X_W_CB)\n",
    "    solutions_1x6 = ur5e.inverse_kinematics_with_tcp(X_CB_W @ X_W_TCP, tcp_transform)\n",
    "    solutions = [solution.squeeze() for solution in solutions_1x6]\n",
    "    return solutions\n",
    "\n",
    "\n",
    "left_inverse_kinematics_fn = partial(inverse_kinematics_in_world_fn, X_W_CB=X_W_LCB.GetAsMatrix4())\n",
    "right_inverse_kinematics_fn = partial(inverse_kinematics_in_world_fn, X_W_CB=X_W_RCB.GetAsMatrix4())"
   ]
  },
  {
   "cell_type": "code",
   "execution_count": null,
   "metadata": {},
   "outputs": [],
   "source": [
    "solutions_left = left_inverse_kinematics_fn(tcp_pose_0)\n",
    "publish_ik_solutions(solutions_left, 2.0, meshcat, diagram, context, arm_left_index)"
   ]
  },
  {
   "cell_type": "code",
   "execution_count": null,
   "metadata": {},
   "outputs": [],
   "source": [
    "solutions_right = right_inverse_kinematics_fn(tcp_pose_1)\n",
    "publish_ik_solutions(solutions_right, 2.0, meshcat, diagram, context, arm_right_index)"
   ]
  },
  {
   "cell_type": "code",
   "execution_count": null,
   "metadata": {},
   "outputs": [],
   "source": [
    "planner = DualArmOmplPlanner(\n",
    "    is_state_valid_fn,\n",
    "    left_inverse_kinematics_fn,\n",
    "    right_inverse_kinematics_fn,\n",
    ")"
   ]
  },
  {
   "cell_type": "code",
   "execution_count": null,
   "metadata": {},
   "outputs": [],
   "source": [
    "path = planner.plan_to_tcp_pose(home_joints_left, home_joints_right, tcp_pose_0, None)\n",
    "publish_dual_arm_joint_path(path, 2.0, meshcat, diagram, context, *arm_indices)"
   ]
  },
  {
   "cell_type": "code",
   "execution_count": null,
   "metadata": {},
   "outputs": [],
   "source": [
    "path = planner.plan_to_tcp_pose(home_joints_left, home_joints_right, None, tcp_pose_1)\n",
    "publish_dual_arm_joint_path(path, 2.0, meshcat, diagram, context, *arm_indices)"
   ]
  },
  {
   "cell_type": "code",
   "execution_count": null,
   "metadata": {},
   "outputs": [],
   "source": [
    "path = planner.plan_to_tcp_pose(home_joints_left, home_joints_right, tcp_pose_0, tcp_pose_1)\n",
    "publish_dual_arm_joint_path(path, 2.0, meshcat, diagram, context, *arm_indices)"
   ]
  },
  {
   "cell_type": "code",
   "execution_count": null,
   "metadata": {},
   "outputs": [],
   "source": []
  }
 ],
 "metadata": {
  "kernelspec": {
   "display_name": "cloth-competition",
   "language": "python",
   "name": "python3"
  },
  "language_info": {
   "codemirror_mode": {
    "name": "ipython",
    "version": 3
   },
   "file_extension": ".py",
   "mimetype": "text/x-python",
   "name": "python",
   "nbconvert_exporter": "python",
   "pygments_lexer": "ipython3",
   "version": "3.10.13"
  }
 },
 "nbformat": 4,
 "nbformat_minor": 2
}
