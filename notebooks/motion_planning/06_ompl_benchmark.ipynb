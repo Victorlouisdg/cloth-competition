{
 "cells": [
  {
   "cell_type": "code",
   "execution_count": null,
   "metadata": {},
   "outputs": [],
   "source": [
    "from pathlib import Path\n",
    "import numpy as np\n",
    "from airo_planner.utils import files\n",
    "from pydrake.geometry import Meshcat\n",
    "from pydrake.math import RigidTransform, RollPitchYaw\n",
    "from pydrake.geometry import MeshcatVisualizer\n",
    "from pydrake.planning import RobotDiagramBuilder, SceneGraphCollisionChecker\n",
    "from cloth_tools.drake.building import finish_build\n",
    "from ompl import geometric as og\n",
    "from cloth_tools.ompl.single_arm_planner import SingleArmOmplPlanner"
   ]
  },
  {
   "cell_type": "code",
   "execution_count": null,
   "metadata": {},
   "outputs": [],
   "source": [
    "robot_diagram_builder = RobotDiagramBuilder()  # time_step=0.001 even when I set timestep I get the mimic joint warning\n",
    "scene_graph = robot_diagram_builder.scene_graph()\n",
    "plant = robot_diagram_builder.plant()\n",
    "builder = robot_diagram_builder.builder()\n",
    "parser = robot_diagram_builder.parser()\n",
    "\n",
    "# Add visualizer\n",
    "meshcat = Meshcat()\n",
    "visualizer = MeshcatVisualizer.AddToBuilder(builder, scene_graph, meshcat)\n",
    "\n",
    "# Load URDF files\n",
    "resources_root = str(files.get_resources_dir())\n",
    "ur5e_urdf = Path(resources_root) / \"robots\" / \"ur5e\" / \"ur5e.urdf\"\n",
    "robotiq_2f_85_gripper_urdf = Path(resources_root) / \"grippers\" / \"2f_85_gripper\" / \"urdf\" / \"robotiq_2f_85_static.urdf\"\n",
    "table_urdf = \"table.urdf\"\n",
    "\n",
    "arm_index = parser.AddModelFromFile(str(ur5e_urdf), model_name=\"arm_left\")\n",
    "gripper_index = parser.AddModelFromFile(str(robotiq_2f_85_gripper_urdf), model_name=\"gripper\")\n",
    "table_index = parser.AddModelFromFile(str(table_urdf))\n",
    "\n",
    "# Weld some frames together\n",
    "world_frame = plant.world_frame()\n",
    "arm_frame = plant.GetFrameByName(\"base_link\", arm_index)\n",
    "arm_tool_frame = plant.GetFrameByName(\"tool0\", arm_index)\n",
    "gripper_frame = plant.GetFrameByName(\"base_link\", gripper_index)\n",
    "table_frame = plant.GetFrameByName(\"base_link\", table_index)\n",
    "\n",
    "X_W_B = RigidTransform(rpy=RollPitchYaw([0, 0, -np.pi / 2]), p=[0, 0, 0])\n",
    "\n",
    "plant.WeldFrames(world_frame, arm_frame, X_W_B)\n",
    "plant.WeldFrames(arm_tool_frame, gripper_frame, RigidTransform(rpy=RollPitchYaw([0, 0, np.pi / 2]), p=[0, 0, 0]))\n",
    "plant.WeldFrames(world_frame, table_frame)"
   ]
  },
  {
   "cell_type": "code",
   "execution_count": null,
   "metadata": {},
   "outputs": [],
   "source": [
    "diagram, context = finish_build(robot_diagram_builder, meshcat)\n",
    "plant = diagram.plant()\n",
    "plant_context = plant.GetMyContextFromRoot(context)"
   ]
  },
  {
   "cell_type": "code",
   "execution_count": null,
   "metadata": {},
   "outputs": [],
   "source": [
    "collision_checker = SceneGraphCollisionChecker(\n",
    "    model=diagram,\n",
    "    robot_model_instances=[arm_index],\n",
    "    edge_step_size=0.125, # Arbitrary value: we don't use the CheckEdgeCollisionFree\n",
    "    env_collision_padding = 0.005,\n",
    "    self_collision_padding = 0.005,\n",
    ")"
   ]
  },
  {
   "cell_type": "code",
   "execution_count": null,
   "metadata": {},
   "outputs": [],
   "source": [
    "ompl_planner = SingleArmOmplPlanner(is_state_valid_fn=collision_checker.CheckConfigCollisionFree)"
   ]
  },
  {
   "cell_type": "code",
   "execution_count": null,
   "metadata": {},
   "outputs": [],
   "source": [
    "start_joints = np.deg2rad([0, -90, -90, -90, 90, 0])\n",
    "goal_joints = np.deg2rad([180, -135, 95, -50, -90, -90])\n",
    "\n",
    "ompl_planner._set_start_and_goal_configurations(start_joints, goal_joints)"
   ]
  },
  {
   "cell_type": "code",
   "execution_count": null,
   "metadata": {},
   "outputs": [],
   "source": [
    "simple_setup = ompl_planner._simple_setup\n",
    "space_info = simple_setup.getSpaceInformation()"
   ]
  },
  {
   "cell_type": "code",
   "execution_count": null,
   "metadata": {},
   "outputs": [],
   "source": [
    "from ompl import tools as ot\n",
    "\n",
    "benchmark = ot.Benchmark(simple_setup, \"twist_base_90\")\n",
    "benchmark.addPlanner(og.RRT(space_info))\n",
    "benchmark.addPlanner(og.RRTstar(space_info))\n",
    "benchmark.addPlanner(og.RRTConnect(space_info))\n",
    "benchmark.addPlanner(og.TRRT(space_info))\n",
    "benchmark.addPlanner(og.LazyRRT(space_info))\n",
    "benchmark.addPlanner(og.KPIECE1(space_info))\n",
    "benchmark.addPlanner(og.LBKPIECE1(space_info))\n",
    "\n",
    "request = ot.Benchmark.Request()\n",
    "request.runCount = 5\n",
    "request.maxTime = 10.0"
   ]
  },
  {
   "cell_type": "code",
   "execution_count": null,
   "metadata": {},
   "outputs": [],
   "source": [
    "benchmark.benchmark(request)"
   ]
  },
  {
   "cell_type": "code",
   "execution_count": null,
   "metadata": {},
   "outputs": [],
   "source": [
    "print(benchmark.results())"
   ]
  },
  {
   "cell_type": "code",
   "execution_count": null,
   "metadata": {},
   "outputs": [],
   "source": [
    "benchmark.saveResultsToFile()"
   ]
  },
  {
   "cell_type": "markdown",
   "metadata": {},
   "source": [
    "Now use the `ompl_benchmark_statistics.py` script to generate a database file that we can upload to plannerarena.org:\n",
    "\n",
    "```\n",
    "python ompl_benchmark_statistics.py \"ompl_idlab185_2024-01-23 11:12:48.log\" benchmark.db\n",
    "```"
   ]
  },
  {
   "cell_type": "markdown",
   "metadata": {},
   "source": []
  }
 ],
 "metadata": {
  "kernelspec": {
   "display_name": "cloth-competition",
   "language": "python",
   "name": "python3"
  },
  "language_info": {
   "codemirror_mode": {
    "name": "ipython",
    "version": 3
   },
   "file_extension": ".py",
   "mimetype": "text/x-python",
   "name": "python",
   "nbconvert_exporter": "python",
   "pygments_lexer": "ipython3",
   "version": "3.10.13"
  }
 },
 "nbformat": 4,
 "nbformat_minor": 2
}
